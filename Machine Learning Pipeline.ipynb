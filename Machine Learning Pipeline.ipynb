{
 "cells": [
  {
   "cell_type": "markdown",
   "id": "5ec55dfd",
   "metadata": {},
   "source": [
    "# ML Pipeline Preparation"
   ]
  },
  {
   "cell_type": "markdown",
   "id": "4a245831",
   "metadata": {},
   "source": [
    "## 1. Importing libraries and loading data from data base"
   ]
  },
  {
   "cell_type": "code",
   "execution_count": 3,
   "id": "1f2a934e",
   "metadata": {},
   "outputs": [
    {
     "name": "stderr",
     "output_type": "stream",
     "text": [
      "[nltk_data] Downloading package punkt to\n",
      "[nltk_data]     C:\\Users\\x\\AppData\\Roaming\\nltk_data...\n",
      "[nltk_data]   Package punkt is already up-to-date!\n",
      "[nltk_data] Downloading package stopwords to\n",
      "[nltk_data]     C:\\Users\\x\\AppData\\Roaming\\nltk_data...\n",
      "[nltk_data]   Unzipping corpora\\stopwords.zip.\n",
      "[nltk_data] Downloading package wordnet to\n",
      "[nltk_data]     C:\\Users\\x\\AppData\\Roaming\\nltk_data...\n",
      "[nltk_data]   Package wordnet is already up-to-date!\n"
     ]
    }
   ],
   "source": [
    "#Natural Language Processing\n",
    "import nltk\n",
    "nltk.download('punkt')\n",
    "nltk.download('stopwords')\n",
<<<<<<< HEAD
    "nltk.download('wordnet')\n",
    "\n",
    "#Data Science Libraries\n",
||||||| 98fd509
    "nltk.download('wordnet')"
   ]
  },
  {
   "cell_type": "code",
   "execution_count": 2,
   "id": "6c01dc59",
   "metadata": {},
   "outputs": [],
   "source": [
=======
    "nltk.download('wordnet')"
   ]
  },
  {
   "cell_type": "code",
   "execution_count": 46,
   "id": "6c01dc59",
   "metadata": {},
   "outputs": [],
   "source": [
>>>>>>> 9fe0a1c184ecc047f46d11363af5258dfc96dea0
    "import pandas as pd\n",
    "import numpy as np\n",
    "import matplotlib.pyplot as plt\n",
    "\n",
    "#Regex and pickle\n",
    "import re\n",
    "import pickle\n",
    "\n",
    "#Database sql connectivity\n",
    "from sqlalchemy import create_engine\n",
    "\n",
    "#Natural Language Processing Libraries\n",
    "from nltk.tokenize import word_tokenize\n",
    "from nltk.stem import WordNetLemmatizer\n",
<<<<<<< HEAD
    "from nltk.corpus import stopwords"
   ]
  },
  {
   "cell_type": "code",
   "execution_count": 4,
   "id": "6c0895c6",
   "metadata": {},
   "outputs": [],
   "source": [
    "#Machine Learning Libraries (sklearn)\n",
    "from sklearn.pipeline import Pipeline\n",
||||||| 98fd509
    "from nltk.stem.porter import PorterStemmer\n",
    "from nltk.corpus import stopwords \n",
    "\n",
    "from sklearn.utils.class_weight import compute_sample_weight\n",
    "from sklearn.pipeline import Pipeline\n",
=======
    "from nltk.stem.porter import PorterStemmer\n",
    "from nltk.corpus import stopwords \n",
    "\n",
    "from sklearn.utils.class_weight import compute_sample_weight\n",
    "from sklearn.pipeline import Pipeline, FeatureUnion\n",
>>>>>>> 9fe0a1c184ecc047f46d11363af5258dfc96dea0
    "from sklearn.tree import DecisionTreeClassifier\n",
    "from sklearn.svm import LinearSVC\n",
    "from sklearn.ensemble import RandomForestClassifier\n",
    "from sklearn.multioutput import MultiOutputClassifier\n",
    "from sklearn.feature_extraction.text import CountVectorizer, TfidfTransformer\n",
    "from sklearn.model_selection import GridSearchCV, cross_val_score, train_test_split\n",
<<<<<<< HEAD
    "from sklearn.metrics import classification_report\n"
||||||| 98fd509
    "from sklearn.multioutput import MultiOutputClassifier\n",
    "\n",
    "from sklearn.ensemble import RandomForestClassifier\n",
    "from sklearn.ensemble import AdaBoostClassifier\n",
    "\n",
    "from sklearn.metrics import classification_report\n",
    "\n",
    "\n",
    "\n",
    "\n",
    "\n",
    "import joblib"
=======
    "from sklearn.multioutput import MultiOutputClassifier\n",
    "\n",
    "from sklearn.ensemble import RandomForestClassifier\n",
    "from sklearn.ensemble import AdaBoostClassifier\n",
    "from sklearn.ensemble import StackingClassifier\n",
    "\n",
    "from sklearn.metrics import classification_report\n",
    "\n",
    "from sklearn.base import BaseEstimator, TransformerMixin\n",
    "from sklearn.naive_bayes import GaussianNB\n",
    "\n",
    "from sklearn.linear_model import LogisticRegression\n",
    "\n",
    "import joblib"
>>>>>>> 9fe0a1c184ecc047f46d11363af5258dfc96dea0
   ]
  },
  {
   "cell_type": "markdown",
   "id": "f0722d5b",
   "metadata": {},
   "source": [
    "#### Optional display settings"
   ]
  },
  {
   "cell_type": "code",
   "execution_count": 5,
   "id": "e0fb6bdb",
   "metadata": {},
   "outputs": [],
   "source": [
    "plt.style.use('seaborn-dark')\n",
    "pd.set_option('display.max_rows', 50)"
   ]
  },
  {
   "cell_type": "code",
   "execution_count": 6,
   "id": "d131f5f2",
   "metadata": {},
   "outputs": [
    {
     "name": "stdout",
     "output_type": "stream",
     "text": [
      "<class 'pandas.core.frame.DataFrame'>\n",
      "RangeIndex: 26028 entries, 0 to 26027\n",
      "Data columns (total 38 columns):\n",
      " #   Column                  Non-Null Count  Dtype  \n",
      "---  ------                  --------------  -----  \n",
      " 0   id                      26028 non-null  int64  \n",
      " 1   message                 26028 non-null  object \n",
      " 2   genre                   26028 non-null  object \n",
      " 3   related                 26028 non-null  float64\n",
      " 4   request                 26028 non-null  float64\n",
      " 5   offer                   26028 non-null  float64\n",
      " 6   aid_related             26028 non-null  float64\n",
      " 7   medical_help            26028 non-null  float64\n",
      " 8   medical_products        26028 non-null  float64\n",
      " 9   search_and_rescue       26028 non-null  float64\n",
      " 10  security                26028 non-null  float64\n",
      " 11  military                26028 non-null  float64\n",
      " 12  water                   26028 non-null  float64\n",
      " 13  food                    26028 non-null  float64\n",
      " 14  shelter                 26028 non-null  float64\n",
      " 15  clothing                26028 non-null  float64\n",
      " 16  money                   26028 non-null  float64\n",
      " 17  missing_people          26028 non-null  float64\n",
      " 18  refugees                26028 non-null  float64\n",
      " 19  death                   26028 non-null  float64\n",
      " 20  other_aid               26028 non-null  float64\n",
      " 21  infrastructure_related  26028 non-null  float64\n",
      " 22  transport               26028 non-null  float64\n",
      " 23  buildings               26028 non-null  float64\n",
      " 24  electricity             26028 non-null  float64\n",
      " 25  tools                   26028 non-null  float64\n",
      " 26  hospitals               26028 non-null  float64\n",
      " 27  shops                   26028 non-null  float64\n",
      " 28  aid_centers             26028 non-null  float64\n",
      " 29  other_infrastructure    26028 non-null  float64\n",
      " 30  weather_related         26028 non-null  float64\n",
      " 31  floods                  26028 non-null  float64\n",
      " 32  storm                   26028 non-null  float64\n",
      " 33  fire                    26028 non-null  float64\n",
      " 34  earthquake              26028 non-null  float64\n",
      " 35  cold                    26028 non-null  float64\n",
      " 36  other_weather           26028 non-null  float64\n",
      " 37  direct_report           26028 non-null  float64\n",
      "dtypes: float64(35), int64(1), object(2)\n",
      "memory usage: 7.5+ MB\n"
     ]
    }
   ],
   "source": [
    "engine = create_engine('sqlite:///disaster_database.db')\n",
    "df = pd.read_sql_table('Messages', engine)\n",
    "df.info()"
   ]
  },
  {
   "cell_type": "markdown",
   "id": "9f19e95d",
   "metadata": {},
   "source": [
    "#### General division into labels and features"
   ]
  },
  {
   "cell_type": "code",
<<<<<<< HEAD
   "execution_count": 7,
   "id": "1faaf091",
||||||| 98fd509
   "execution_count": 5,
   "id": "7e63cbcc",
=======
   "execution_count": 5,
   "id": "1faaf091",
>>>>>>> 9fe0a1c184ecc047f46d11363af5258dfc96dea0
   "metadata": {},
   "outputs": [],
   "source": [
    "X = df.iloc[:, 1]\n",
<<<<<<< HEAD
    "Y = df.iloc[:, 3:]"
   ]
  },
  {
   "cell_type": "code",
   "execution_count": 8,
   "id": "c94362eb",
||||||| 98fd509
    "Y = df.iloc[:, 2:]"
   ]
  },
  {
   "cell_type": "code",
   "execution_count": null,
   "id": "451b22f0",
   "metadata": {},
   "outputs": [],
   "source": [
    "### Weights adjustments"
   ]
  },
  {
   "cell_type": "code",
   "execution_count": null,
   "id": "06a5060e",
   "metadata": {},
   "outputs": [],
   "source": [
    "#class_weights = []"
   ]
  },
  {
   "cell_type": "code",
   "execution_count": null,
   "id": "cb059f2e",
   "metadata": {},
   "outputs": [],
   "source": [
    "\"\"\"for feature in Y:\n",
    "    dictionary = {(Y[feature].value_counts()/len(Y)).index[0]: (Y[feature].value_counts()/len(Y)).values[1],\n",
    "                  (Y[feature].value_counts()/len(Y)).index[1]: (Y[feature].value_counts()/len(Y)).values[0]}\n",
    "\n",
    "    class_weights.append(dictionary)\n",
    "\"\"\"    "
   ]
  },
  {
   "cell_type": "code",
   "execution_count": null,
   "id": "1386bc9f",
   "metadata": {},
   "outputs": [],
   "source": [
    "\"\"\"for dictionary in copy.copy(class_weights):\n",
    "    dictionary = {k: dictionary[k] for k in sorted(dictionary)}\n",
    "    \n",
    "    class_weights.pop(0)\n",
    "    class_weights.append(dictionary)\n",
    "\"\"\""
   ]
  },
  {
   "cell_type": "code",
   "execution_count": null,
   "id": "60b4d916",
   "metadata": {},
   "outputs": [],
   "source": [
    "\"\"\"\n",
    "for element in class_weights:\n",
    "    for key, value in element.items():\n",
    "        print(type(key), type(value))\n",
    "        \n",
    "\"\"\""
   ]
  },
  {
   "cell_type": "code",
   "execution_count": null,
   "id": "2a96720f",
=======
    "Y = df.iloc[:, 3:]"
   ]
  },
  {
   "cell_type": "code",
   "execution_count": 6,
   "id": "c94362eb",
>>>>>>> 9fe0a1c184ecc047f46d11363af5258dfc96dea0
   "metadata": {},
   "outputs": [],
   "source": [
<<<<<<< HEAD
    "X_train, X_test, y_train, y_test = train_test_split(X,Y, \n",
    "                                                    test_size = 0.1, \n",
    "                                                    random_state = 42)\n"
||||||| 98fd509
    "#compute_sample_weight(class_weights, Y)"
=======
    "X_train, X_test, y_train, y_test = train_test_split(X,Y, \n",
    "                                                    test_size = 0.05, \n",
    "                                                    random_state = 42)\n"
>>>>>>> 9fe0a1c184ecc047f46d11363af5258dfc96dea0
   ]
  },
  {
   "cell_type": "markdown",
   "id": "410823fb",
   "metadata": {},
   "source": [
    "## 2. Key functions"
   ]
  },
  {
   "cell_type": "markdown",
   "id": "56752b05",
   "metadata": {},
   "source": [
    "#### Tokenizer for processing the text data"
   ]
  },
  {
   "cell_type": "code",
<<<<<<< HEAD
   "execution_count": 9,
   "id": "f858e1d7",
||||||| 98fd509
   "execution_count": 6,
   "id": "3d7ad225",
=======
   "execution_count": 7,
   "id": "f858e1d7",
>>>>>>> 9fe0a1c184ecc047f46d11363af5258dfc96dea0
   "metadata": {},
   "outputs": [],
   "source": [
<<<<<<< HEAD
    "def tokenize(text): \n",
    "    #Normalization - lowercase and punctuation removal:\n",
||||||| 98fd509
    "def tokenize(text):\n",
    "    #Normalization - lowercase  - no punctuation removal - the nltk.tokenize should interpret them by itself\n",
=======
    "def tokenize(text):\n",
    "    \n",
>>>>>>> 9fe0a1c184ecc047f46d11363af5258dfc96dea0
    "    text = text.lower()\n",
<<<<<<< HEAD
    "    text = re.sub(r\"[^a-zA-Z0-9]\", \" \", text)\n",
    "    #Tokenization:\n",
    "    words = text.split()\n",
||||||| 98fd509
    "    ######text = re.sub(r\"[^a-zA-Z0-9]\", \" \", text)\n",
    "    #Toeknization\n",
    "    ######words = text.split()\n",
=======
    "    text = re.sub(r\"[^a-zA-Z0-9]\", \" \", text)\n",
    "    #Toeknization\n",
    "    words = text.split()\n",
>>>>>>> 9fe0a1c184ecc047f46d11363af5258dfc96dea0
    "    words = word_tokenize(text)\n",
    "    #Stop words removal:\n",
    "    words = [w for w in words if w not in stopwords.words(\"english\")]\n",
<<<<<<< HEAD
||||||| 98fd509
    "    \n",
    "    #Named Entities??\n",
    "    # Perhaps\n",
    "    \n",
=======
    "\n",
    "    \n",
>>>>>>> 9fe0a1c184ecc047f46d11363af5258dfc96dea0
    "    #Lemmatization\n",
<<<<<<< HEAD
    "    lemmed = [WordNetLemmatizer().lemmatize(w, pos = \"v\") for w in words]\n",
||||||| 98fd509
    "    lemmed = [WordNetLemmatizer().lemmatize(w) for w in words]\n",
    "    \n",
=======
    "    lemmed = [WordNetLemmatizer().lemmatize(w, pos = \"v\") for w in words]\n",
    "    \n",
>>>>>>> 9fe0a1c184ecc047f46d11363af5258dfc96dea0
    "    \n",
    "    return lemmed"
   ]
  },
  {
   "cell_type": "markdown",
   "id": "829ff856",
   "metadata": {},
   "source": [
    "#### Since I want to test out many models, it seems reasonable to write a function which will make pipeline by typing the keyword arguments"
   ]
  },
  {
   "cell_type": "code",
<<<<<<< HEAD
   "execution_count": 10,
   "id": "b3c2b4eb",
||||||| 98fd509
   "execution_count": 7,
   "id": "180c5c74",
=======
   "execution_count": 8,
   "id": "b3c2b4eb",
>>>>>>> 9fe0a1c184ecc047f46d11363af5258dfc96dea0
   "metadata": {},
   "outputs": [],
   "source": [
    "def make_sklearn_pipeline(Pipeline = Pipeline, memory = None, verbose = False, **kwargs):\n",
    "    \"\"\"\n",
    "    Firt argument is sklearn Pipepline class. It should not be changed.\n",
    "    \n",
    "    Definition of pipeline steps happens EXPLICITLY within the instantiation!\n",
    "    Definition of typical pipeline looks like following:\n",
<<<<<<< HEAD
    "    example_pipeline = make_sklearn_pipeline(steps = [('name#1',transformer#1),\n",
    "                                                      ('name#2',transformer#2),\n",
    "                                                      ('name#3',transformer#3),\n",
    "                                                      ('name#4',transformer#4),\n",
    "                                                      ........................,\n",
    "                                                      ('name#n',classifier#n)], \n",
    "                                                      verbose = ...,\n",
||||||| 98fd509
    "    example_pipeline = make_sklearn_pipeline(steps = [('name#1',function#1),\n",
    "                                                      ('name#2',function#2),\n",
    "                                                      ('name#3',function#3),\n",
    "                                                      ('name#4',function#4)....], verbose = ...,\n",
=======
    "    example_pipeline = make_sklearn_pipeline(steps = [('name#1',transformer#1),\n",
    "                                                      ('name#2',transformer#2),\n",
    "                                                      ('name#3',transformer#3),\n",
    "                                                      ('name#4',transformer#4),\n",
    "                                                      ........................,\n",
    "                                                      ('name#n',classifier#n)], verbose = ...,\n",
>>>>>>> 9fe0a1c184ecc047f46d11363af5258dfc96dea0
    "                                                      memory = ...)\n",
    "    \n",
    "    It is not required to give values for ´verbose´ and ´memory´. \n",
    "    They have default values as False and None respectively. \n",
    "    For more information visit: \n",
    "    ´https://scikit-learn.org/stable/modules/generated/sklearn.pipeline.Pipeline.html´\n",
    "    \"\"\"\n",
    "    \n",
    "    pipeline = Pipeline(steps = kwargs[\"steps\"], memory=memory, verbose = verbose)\n",
    "    \n",
    "    return pipeline"
   ]
  },
  {
   "cell_type": "markdown",
   "id": "35666fb4",
   "metadata": {},
   "source": [
    "#### Function transforming the classification report into data frame with recall, precision and accuracy only "
   ]
  },
  {
   "cell_type": "code",
<<<<<<< HEAD
   "execution_count": 11,
   "id": "ad8ca97d",
||||||| 98fd509
   "execution_count": 8,
   "id": "3c383ec7",
=======
   "execution_count": 9,
   "id": "ad8ca97d",
>>>>>>> 9fe0a1c184ecc047f46d11363af5258dfc96dea0
   "metadata": {},
   "outputs": [],
   "source": [
    "def df_from_sklearn_cl_reports(cl_report):\n",
    "    \"\"\"\n",
    "    This function transforms the sklearn_cl_report into a simple data frame\n",
    "    Thanks to this procedure the results for different categories are easier \n",
    "    to comparte\n",
    "\n",
    "    Parameters\n",
    "    ----------\n",
    "    cl_reports : sklearn classification report object\n",
    "\n",
    "    Returns: Data Frame with precisions, recalls and f1_scores from the sklearn\n",
    "    classification report\n",
    "    \"\"\"\n",
    "    data_frame = pd.DataFrame()\n",
    "    #This for loop extracts labels, precisions, recalls and f1_scores.\n",
    "    #List expressions inside the loop are just the trival transformations\n",
    "    #of the classification report\n",
    "    for feature in list(cl_report.keys()):\n",
    "        #Preparing lists for future data series\n",
    "        labels = []\n",
    "        precisions = []\n",
    "        recalls = []\n",
    "        f1_scores = []\n",
    "        #List comprehensions are used to form one main list of results\n",
    "        l = cl_report[feature].split(' ')\n",
    "        l = [x for x in l if x !='']\n",
    "        l = [x for x in l if '\\n' not in x]\n",
    "        l = l[:l.index(\"accuracy\")]\n",
    "        columns = l[:3]\n",
    "        l = [x for x in l if x not in columns]\n",
    "        #Each fourth element in the list \"l\" refers to the labels, precisions, \n",
    "        #recalls and f1_scores respectivelly\n",
    "        for i, element in enumerate(l):\n",
    "            if i == 0 or i % 4 == 0:\n",
    "                labels.append(element)\n",
    "                precisions.append(l[i+1])\n",
    "                recalls.append(l[i+2])\n",
    "                f1_scores.append(l[i+3])\n",
    "        #Communicates are simply our labels. We obtain them by pasting the\n",
    "        #features name at each index\n",
    "        communicates = [feature]*len(labels)\n",
    "        #Formation of the data frame:\n",
    "        #Beginning:\n",
    "        if data_frame.shape[0] == 0:\n",
    "            data_frame[\"communicate\"] = communicates\n",
    "            data_frame[\"label\"] = labels\n",
    "            data_frame[\"precisions\"] = precisions\n",
    "            data_frame[\"recalls\"] = recalls\n",
    "            data_frame[\"f1_scores\"] = f1_scores\n",
    "        #If already some categories are given:\n",
    "        else:\n",
    "            auxilliary_df = pd.DataFrame()\n",
    "            auxilliary_df['communicate'] = communicates\n",
    "            auxilliary_df['label'] = labels\n",
    "            auxilliary_df['precisions'] = precisions\n",
    "            auxilliary_df['recalls'] = recalls\n",
    "            auxilliary_df['f1_scores'] = f1_scores\n",
    "            \n",
    "            data_frame = pd.concat([data_frame, auxilliary_df])\n",
    "            \n",
    "            del auxilliary_df\n",
    "            \n",
    "    data_frame.set_index([\"communicate\"], inplace = True)\n",
    "    \n",
    "    #Changing the data types\n",
    "    data_frame.label = data_frame.label.astype(\"float\")\n",
    "    data_frame.label = data_frame.label.astype(\"int\")\n",
    "    data_frame.precisions = data_frame.precisions.astype(\"float\")\n",
    "    data_frame.recalls = data_frame.recalls.astype(\"float\")\n",
    "    data_frame.f1_scores = data_frame.f1_scores.astype(\"float\")\n",
<<<<<<< HEAD
    "            \n",
    "    return data_frame "
   ]
  },
  {
   "cell_type": "code",
   "execution_count": 12,
   "id": "ffd2265f",
   "metadata": {},
   "outputs": [],
   "source": [
    "classification_reports = {}"
   ]
  },
  {
   "cell_type": "markdown",
   "id": "77da1454",
   "metadata": {},
   "source": [
    "## 3. Building a machine learning pipeline"
   ]
  },
  {
   "cell_type": "markdown",
   "id": "6dee9308",
   "metadata": {},
   "source": [
    "### 3.1 SVC"
   ]
  },
  {
   "cell_type": "code",
   "execution_count": 13,
   "id": "4e5f21e2",
   "metadata": {},
   "outputs": [],
   "source": [
    "SVC = make_sklearn_pipeline(verbose = True, steps = [('vect', CountVectorizer(tokenizer = tokenize)),\n",
    "                           ('tfidf', TfidfTransformer()),                                              \n",
    "                           ('clf', MultiOutputClassifier(estimator = LinearSVC\n",
    "                                                         (class_weight = \"balanced\", \n",
    "                                                          dual = False, max_iter = 100000,\n",
    "                                                          random_state = 42)))])"
   ]
  },
  {
   "cell_type": "code",
   "execution_count": 14,
   "id": "79012366",
   "metadata": {},
   "outputs": [],
   "source": [
    "classification_reports.clear()"
   ]
  },
  {
   "cell_type": "code",
   "execution_count": 15,
   "id": "e17c0624",
   "metadata": {
    "scrolled": true
   },
   "outputs": [
    {
     "name": "stdout",
     "output_type": "stream",
     "text": [
      "[Pipeline] .............. (step 1 of 3) Processing vect, total= 3.3min\n",
      "[Pipeline] ............. (step 2 of 3) Processing tfidf, total=   0.0s\n",
      "[Pipeline] ............... (step 3 of 3) Processing clf, total=   5.7s\n"
     ]
    },
    {
     "data": {
      "text/plain": [
       "Pipeline(steps=[('vect',\n",
       "                 CountVectorizer(tokenizer=<function tokenize at 0x000001AEEFE95A60>)),\n",
       "                ('tfidf', TfidfTransformer()),\n",
       "                ('clf',\n",
       "                 MultiOutputClassifier(estimator=LinearSVC(class_weight='balanced',\n",
       "                                                           dual=False,\n",
       "                                                           max_iter=100000,\n",
       "                                                           random_state=42)))],\n",
       "         verbose=True)"
      ]
     },
     "execution_count": 15,
     "metadata": {},
     "output_type": "execute_result"
    }
   ],
   "source": [
    "SVC.fit(X_train, y_train)"
   ]
  },
  {
   "cell_type": "markdown",
   "id": "7b2a7eae",
   "metadata": {},
   "source": [
    "#### Classification report"
   ]
  },
  {
   "cell_type": "code",
   "execution_count": 16,
   "id": "974fa382",
   "metadata": {},
   "outputs": [
    {
     "name": "stdout",
     "output_type": "stream",
     "text": [
      "request\n",
      "              precision    recall  f1-score   support\n",
      "\n",
      "         0.0       0.94      0.89      0.91      2175\n",
      "         1.0       0.56      0.73      0.63       428\n",
      "\n",
      "    accuracy                           0.86      2603\n",
      "   macro avg       0.75      0.81      0.77      2603\n",
      "weighted avg       0.88      0.86      0.87      2603\n",
      "\n",
      "offer\n",
      "              precision    recall  f1-score   support\n",
      "\n",
      "         0.0       0.99      1.00      1.00      2589\n",
      "         1.0       0.08      0.07      0.08        14\n",
      "\n",
      "    accuracy                           0.99      2603\n",
      "   macro avg       0.54      0.53      0.54      2603\n",
      "weighted avg       0.99      0.99      0.99      2603\n",
      "\n",
      "aid_related\n",
      "              precision    recall  f1-score   support\n",
      "\n",
      "         0.0       0.81      0.78      0.80      1558\n",
      "         1.0       0.69      0.73      0.71      1045\n",
      "\n",
      "    accuracy                           0.76      2603\n",
      "   macro avg       0.75      0.76      0.75      2603\n",
      "weighted avg       0.76      0.76      0.76      2603\n",
      "\n",
      "medical_help\n",
      "              precision    recall  f1-score   support\n",
      "\n",
      "         0.0       0.96      0.92      0.93      2379\n",
      "         1.0       0.38      0.55      0.45       224\n",
      "\n",
      "    accuracy                           0.88      2603\n",
      "   macro avg       0.67      0.73      0.69      2603\n",
      "weighted avg       0.91      0.88      0.89      2603\n",
      "\n",
      "medical_products\n",
      "              precision    recall  f1-score   support\n",
      "\n",
      "         0.0       0.97      0.94      0.96      2461\n",
      "         1.0       0.36      0.56      0.44       142\n",
      "\n",
      "    accuracy                           0.92      2603\n",
      "   macro avg       0.67      0.75      0.70      2603\n",
      "weighted avg       0.94      0.92      0.93      2603\n",
      "\n",
      "search_and_rescue\n",
      "              precision    recall  f1-score   support\n",
      "\n",
      "         0.0       0.97      0.97      0.97      2523\n",
      "         1.0       0.14      0.17      0.16        80\n",
      "\n",
      "    accuracy                           0.94      2603\n",
      "   macro avg       0.56      0.57      0.56      2603\n",
      "weighted avg       0.95      0.94      0.94      2603\n",
      "\n",
      "security\n",
      "              precision    recall  f1-score   support\n",
      "\n",
      "         0.0       0.98      0.97      0.98      2545\n",
      "         1.0       0.10      0.12      0.11        58\n",
      "\n",
      "    accuracy                           0.96      2603\n",
      "   macro avg       0.54      0.55      0.54      2603\n",
      "weighted avg       0.96      0.96      0.96      2603\n",
      "\n",
      "military\n",
      "              precision    recall  f1-score   support\n",
      "\n",
      "         0.0       0.99      0.98      0.99      2521\n",
      "         1.0       0.55      0.56      0.55        82\n",
      "\n",
      "    accuracy                           0.97      2603\n",
      "   macro avg       0.77      0.77      0.77      2603\n",
      "weighted avg       0.97      0.97      0.97      2603\n",
      "\n",
      "water\n",
      "              precision    recall  f1-score   support\n",
      "\n",
      "         0.0       0.98      0.97      0.98      2432\n",
      "         1.0       0.63      0.74      0.68       171\n",
      "\n",
      "    accuracy                           0.95      2603\n",
      "   macro avg       0.80      0.86      0.83      2603\n",
      "weighted avg       0.96      0.95      0.96      2603\n",
      "\n",
      "food\n",
      "              precision    recall  f1-score   support\n",
      "\n",
      "         0.0       0.98      0.95      0.97      2328\n",
      "         1.0       0.68      0.84      0.75       275\n",
      "\n",
      "    accuracy                           0.94      2603\n",
      "   macro avg       0.83      0.90      0.86      2603\n",
      "weighted avg       0.95      0.94      0.94      2603\n",
      "\n",
      "shelter\n",
      "              precision    recall  f1-score   support\n",
      "\n",
      "         0.0       0.97      0.95      0.96      2360\n",
      "         1.0       0.59      0.72      0.65       243\n",
      "\n",
      "    accuracy                           0.93      2603\n",
      "   macro avg       0.78      0.84      0.81      2603\n",
      "weighted avg       0.94      0.93      0.93      2603\n",
      "\n",
      "clothing\n",
      "              precision    recall  f1-score   support\n",
      "\n",
      "         0.0       0.99      0.99      0.99      2567\n",
      "         1.0       0.41      0.50      0.45        36\n",
      "\n",
      "    accuracy                           0.98      2603\n",
      "   macro avg       0.70      0.74      0.72      2603\n",
      "weighted avg       0.98      0.98      0.98      2603\n",
      "\n",
      "money\n",
      "              precision    recall  f1-score   support\n",
      "\n",
      "         0.0       0.99      0.98      0.98      2545\n",
      "         1.0       0.36      0.52      0.42        58\n",
      "\n",
      "    accuracy                           0.97      2603\n",
      "   macro avg       0.67      0.75      0.70      2603\n",
      "weighted avg       0.97      0.97      0.97      2603\n",
      "\n",
      "missing_people\n",
      "              precision    recall  f1-score   support\n",
      "\n",
      "         0.0       0.99      0.99      0.99      2574\n",
      "         1.0       0.24      0.31      0.27        29\n",
      "\n",
      "    accuracy                           0.98      2603\n",
      "   macro avg       0.61      0.65      0.63      2603\n",
      "weighted avg       0.98      0.98      0.98      2603\n",
      "\n",
      "refugees\n",
      "              precision    recall  f1-score   support\n",
      "\n",
      "         0.0       0.98      0.96      0.97      2520\n",
      "         1.0       0.32      0.49      0.38        83\n",
      "\n",
      "    accuracy                           0.95      2603\n",
      "   macro avg       0.65      0.73      0.68      2603\n",
      "weighted avg       0.96      0.95      0.95      2603\n",
      "\n",
      "death\n",
      "              precision    recall  f1-score   support\n",
      "\n",
      "         0.0       0.99      0.97      0.98      2493\n",
      "         1.0       0.52      0.68      0.59       110\n",
      "\n",
      "    accuracy                           0.96      2603\n",
      "   macro avg       0.76      0.83      0.79      2603\n",
      "weighted avg       0.97      0.96      0.96      2603\n",
      "\n",
      "other_aid\n",
      "              precision    recall  f1-score   support\n",
      "\n",
      "         0.0       0.92      0.84      0.88      2286\n",
      "         1.0       0.29      0.47      0.36       317\n",
      "\n",
      "    accuracy                           0.79      2603\n",
      "   macro avg       0.60      0.66      0.62      2603\n",
      "weighted avg       0.84      0.79      0.81      2603\n",
      "\n",
      "infrastructure_related\n",
      "              precision    recall  f1-score   support\n",
      "\n",
      "         0.0       0.96      0.92      0.94      2444\n",
      "         1.0       0.23      0.38      0.29       159\n",
      "\n",
      "    accuracy                           0.88      2603\n",
      "   macro avg       0.59      0.65      0.61      2603\n",
      "weighted avg       0.91      0.88      0.90      2603\n",
      "\n",
      "transport\n",
      "              precision    recall  f1-score   support\n",
      "\n",
      "         0.0       0.97      0.94      0.95      2486\n",
      "         1.0       0.22      0.37      0.28       117\n",
      "\n",
      "    accuracy                           0.91      2603\n",
      "   macro avg       0.59      0.65      0.61      2603\n",
      "weighted avg       0.94      0.91      0.92      2603\n",
      "\n",
      "buildings\n",
      "              precision    recall  f1-score   support\n",
      "\n",
      "         0.0       0.97      0.96      0.96      2460\n",
      "         1.0       0.41      0.52      0.46       143\n",
      "\n",
      "    accuracy                           0.93      2603\n",
      "   macro avg       0.69      0.74      0.71      2603\n",
      "weighted avg       0.94      0.93      0.94      2603\n",
      "\n",
      "electricity\n",
      "              precision    recall  f1-score   support\n",
      "\n",
      "         0.0       0.99      0.99      0.99      2552\n",
      "         1.0       0.45      0.57      0.50        51\n",
      "\n",
      "    accuracy                           0.98      2603\n",
      "   macro avg       0.72      0.78      0.75      2603\n",
      "weighted avg       0.98      0.98      0.98      2603\n",
      "\n",
      "tools\n",
      "              precision    recall  f1-score   support\n",
      "\n",
      "         0.0       0.99      1.00      1.00      2587\n",
      "         1.0       0.00      0.00      0.00        16\n",
      "\n",
      "    accuracy                           0.99      2603\n",
      "   macro avg       0.50      0.50      0.50      2603\n",
      "weighted avg       0.99      0.99      0.99      2603\n",
      "\n",
      "hospitals\n",
      "              precision    recall  f1-score   support\n",
      "\n",
      "         0.0       0.99      0.99      0.99      2573\n",
      "         1.0       0.21      0.20      0.20        30\n",
      "\n",
      "    accuracy                           0.98      2603\n",
      "   macro avg       0.60      0.60      0.60      2603\n",
      "weighted avg       0.98      0.98      0.98      2603\n",
      "\n",
      "shops\n",
      "              precision    recall  f1-score   support\n",
      "\n",
      "         0.0       1.00      1.00      1.00      2592\n",
      "         1.0       0.20      0.09      0.13        11\n",
      "\n",
      "    accuracy                           0.99      2603\n",
      "   macro avg       0.60      0.54      0.56      2603\n",
      "weighted avg       0.99      0.99      0.99      2603\n",
      "\n",
      "aid_centers\n",
      "              precision    recall  f1-score   support\n",
      "\n",
      "         0.0       0.99      0.99      0.99      2569\n",
      "         1.0       0.12      0.09      0.10        34\n",
      "\n",
      "    accuracy                           0.98      2603\n",
      "   macro avg       0.55      0.54      0.54      2603\n",
      "weighted avg       0.98      0.98      0.98      2603\n",
      "\n",
      "other_infrastructure\n",
      "              precision    recall  f1-score   support\n",
      "\n",
      "         0.0       0.97      0.94      0.96      2499\n",
      "         1.0       0.18      0.31      0.23       104\n",
      "\n",
      "    accuracy                           0.92      2603\n",
      "   macro avg       0.58      0.62      0.59      2603\n",
      "weighted avg       0.94      0.92      0.93      2603\n",
      "\n",
      "weather_related\n",
      "              precision    recall  f1-score   support\n",
      "\n",
      "         0.0       0.93      0.89      0.91      1865\n",
      "         1.0       0.75      0.82      0.78       738\n",
      "\n",
      "    accuracy                           0.87      2603\n",
      "   macro avg       0.84      0.86      0.84      2603\n",
      "weighted avg       0.88      0.87      0.87      2603\n",
      "\n",
      "floods\n",
      "              precision    recall  f1-score   support\n",
      "\n",
      "         0.0       0.97      0.95      0.96      2394\n",
      "         1.0       0.56      0.68      0.61       209\n",
      "\n",
      "    accuracy                           0.93      2603\n",
      "   macro avg       0.77      0.82      0.79      2603\n",
      "weighted avg       0.94      0.93      0.93      2603\n",
      "\n",
      "storm\n",
      "              precision    recall  f1-score   support\n",
      "\n",
      "         0.0       0.97      0.96      0.97      2345\n",
      "         1.0       0.67      0.77      0.72       258\n",
      "\n",
      "    accuracy                           0.94      2603\n",
      "   macro avg       0.82      0.86      0.84      2603\n",
      "weighted avg       0.94      0.94      0.94      2603\n",
      "\n",
      "fire\n",
      "              precision    recall  f1-score   support\n",
      "\n",
      "         0.0       0.99      0.99      0.99      2570\n",
      "         1.0       0.47      0.42      0.44        33\n",
      "\n",
      "    accuracy                           0.99      2603\n",
      "   macro avg       0.73      0.71      0.72      2603\n",
      "weighted avg       0.99      0.99      0.99      2603\n",
      "\n",
      "earthquake\n",
      "              precision    recall  f1-score   support\n",
      "\n",
      "         0.0       0.98      0.98      0.98      2348\n",
      "         1.0       0.78      0.79      0.78       255\n",
      "\n",
      "    accuracy                           0.96      2603\n",
      "   macro avg       0.88      0.88      0.88      2603\n",
      "weighted avg       0.96      0.96      0.96      2603\n",
      "\n",
      "cold\n"
     ]
    },
    {
     "name": "stdout",
     "output_type": "stream",
     "text": [
      "              precision    recall  f1-score   support\n",
      "\n",
      "         0.0       0.99      0.99      0.99      2540\n",
      "         1.0       0.52      0.52      0.52        63\n",
      "\n",
      "    accuracy                           0.98      2603\n",
      "   macro avg       0.75      0.76      0.75      2603\n",
      "weighted avg       0.98      0.98      0.98      2603\n",
      "\n",
      "other_weather\n",
      "              precision    recall  f1-score   support\n",
      "\n",
      "         0.0       0.97      0.92      0.95      2475\n",
      "         1.0       0.22      0.42      0.29       128\n",
      "\n",
      "    accuracy                           0.90      2603\n",
      "   macro avg       0.59      0.67      0.62      2603\n",
      "weighted avg       0.93      0.90      0.91      2603\n",
      "\n",
      "direct_report\n",
      "              precision    recall  f1-score   support\n",
      "\n",
      "         0.0       0.91      0.84      0.88      2105\n",
      "         1.0       0.50      0.66      0.57       498\n",
      "\n",
      "    accuracy                           0.81      2603\n",
      "   macro avg       0.71      0.75      0.72      2603\n",
      "weighted avg       0.83      0.81      0.82      2603\n",
      "\n"
     ]
    }
   ],
   "source": [
    "y_pred_svc = SVC.predict(X_test)\n",
    "y_pred_svc = pd.DataFrame(y_pred_svc, columns = list(Y.columns))\n",
    "y_test = y_test.reset_index(drop = True)\n",
    "for i, var in enumerate(Y):\n",
    "    print(var)\n",
    "    print(classification_report(y_test.iloc[:,i], y_pred_svc.iloc[:,i]))"
   ]
  },
  {
   "cell_type": "code",
   "execution_count": 17,
   "id": "236728c8",
   "metadata": {},
   "outputs": [],
   "source": [
    "for i, var in enumerate(Y):\n",
    "    classification_reports[var] = (classification_report(y_test.iloc[:,i], y_pred_svc.iloc[:,i]));"
   ]
  },
  {
   "cell_type": "code",
   "execution_count": 18,
   "id": "8f9d59a6",
   "metadata": {},
   "outputs": [],
   "source": [
    "svc_report = df_from_sklearn_cl_reports(classification_reports)"
   ]
  },
  {
   "cell_type": "markdown",
   "id": "8c56a46c",
   "metadata": {},
   "source": [
    "### In my opinion the most important metrics is recall for True values. It is essential to come with proper help to all which require it. Second important parameter is precision for True values, so the proper organisations will not waste their ressources for unnecessary actions."
   ]
  },
  {
   "cell_type": "markdown",
   "id": "c1ddc837",
   "metadata": {},
   "source": [
    "#### Mean precision for True over all categories"
   ]
  },
  {
   "cell_type": "code",
   "execution_count": 19,
   "id": "efb726a4",
   "metadata": {
    "scrolled": true
   },
   "outputs": [
    {
     "data": {
      "text/plain": [
       "0.39382352941176474"
      ]
     },
     "execution_count": 19,
     "metadata": {},
     "output_type": "execute_result"
    }
   ],
   "source": [
    "svc_precisions = svc_report.loc[\n",
    "    svc_report.label == 1].groupby(\n",
    "    [\"communicate\"])[\"precisions\"].mean().sort_values(ascending = False)\n",
    "svc_precisions.mean()"
   ]
  },
  {
   "cell_type": "markdown",
   "id": "96371978",
   "metadata": {},
   "source": [
    "#### Precisions for True for each category"
||||||| 98fd509
    "    \n",
    "    return data_frame    "
   ]
  },
  {
   "cell_type": "markdown",
   "id": "77da1454",
   "metadata": {},
   "source": [
    "### 3. Building a machine learning pipeline"
   ]
  },
  {
   "cell_type": "markdown",
   "id": "8fe2b481",
   "metadata": {},
   "source": [
    "#### 3.1 AdaBoost Classifier"
   ]
  },
  {
   "cell_type": "markdown",
   "id": "35496fa4",
   "metadata": {},
   "source": [
    "##### Definition and fitting"
   ]
  },
  {
   "cell_type": "code",
   "execution_count": null,
   "id": "e98f767c",
   "metadata": {},
   "outputs": [],
   "source": [
    "adaboost_with_transformer = make_sklearn_pipeline(verbose = True, steps = [('vect', CountVectorizer(tokenizer = tokenize)),\n",
    "                           ('tfidf', TfidfTransformer()),                                              \n",
    "                           ('clf', MultiOutputClassifier(estimator = AdaBoostClassifier(\n",
    "                           DecisionTreeClassifier(class_weight = \"balanced\"))))])"
   ]
  },
  {
   "cell_type": "code",
   "execution_count": 10,
   "id": "ac7dfd52",
   "metadata": {},
   "outputs": [],
   "source": [
    "X_train, X_test, y_train, y_test = train_test_split(X,Y, test_size = 0.2)\n"
   ]
  },
  {
   "cell_type": "code",
   "execution_count": null,
   "id": "570c4642",
   "metadata": {},
   "outputs": [],
   "source": [
    "adaboost_with_transformer.fit(X_train, y_train)"
   ]
  },
  {
   "cell_type": "markdown",
   "id": "13a420a5",
   "metadata": {},
   "source": [
    "##### Predicting and classification report"
   ]
  },
  {
   "cell_type": "code",
   "execution_count": null,
   "id": "55abd85f",
   "metadata": {},
   "outputs": [],
   "source": [
    "y_pred_ada = adaboost_with_transformer.predict(X_test)\n",
    "y_pred_ada = pd.DataFrame(y_pred_ada, columns = list(Y.columns))\n",
    "y_test = y_test.reset_index(drop = True)\n",
    "for i, var in enumerate(Y):\n",
    "    print(var)\n",
    "    print(classification_report(y_test.iloc[:,i], y_pred_ada.iloc[:,i]))"
   ]
  },
  {
   "cell_type": "markdown",
   "id": "8724d3a7",
   "metadata": {},
   "source": [
    "##### Providing a data frame for easier results assessment"
   ]
  },
  {
   "cell_type": "code",
   "execution_count": 9,
   "id": "810eb856",
   "metadata": {},
   "outputs": [],
   "source": [
    "classification_reports = {}"
   ]
  },
  {
   "cell_type": "code",
   "execution_count": null,
   "id": "323f7924",
   "metadata": {},
   "outputs": [],
   "source": [
    "for i, var in enumerate(Y):\n",
    "    classification_reports[var] = (classification_report(y_test.iloc[:,i], y_pred_ada.iloc[:,i]));"
   ]
  },
  {
   "cell_type": "code",
   "execution_count": null,
   "id": "c33deb0a",
   "metadata": {},
   "outputs": [],
   "source": [
    "adaboost_with_transformer_report_df = df_from_sklearn_cl_reports(classification_reports)"
   ]
  },
  {
   "cell_type": "code",
   "execution_count": null,
   "id": "ff8e5144",
   "metadata": {},
   "outputs": [],
   "source": [
    "adaboost_with_transformer_report_df.loc[\n",
    "    adaboost_with_transformer_report_df.label == 1].groupby(\n",
    "    [\"communicate\"])[\"precisions\"].mean().sort_values(ascending = False).mean()"
   ]
  },
  {
   "cell_type": "code",
   "execution_count": null,
   "id": "8fd94b34",
   "metadata": {},
   "outputs": [],
   "source": [
    "adaboost_with_transformer_report_df.loc[\n",
    "    adaboost_with_transformer_report_df.label == 1].groupby(\n",
    "    [\"communicate\"])[\"recalls\"].mean().sort_values(ascending = False)"
   ]
  },
  {
   "cell_type": "code",
   "execution_count": null,
   "id": "f304a326",
   "metadata": {},
   "outputs": [],
   "source": [
    "adaboost_with_transformer_report_df.loc[\n",
    "    adaboost_with_transformer_report_df.label == 1].groupby(\n",
    "    [\"communicate\"])[\"f1_scores\"].mean().sort_values(ascending = False).mean()"
   ]
  },
  {
   "cell_type": "code",
   "execution_count": null,
   "id": "aceff42b",
   "metadata": {},
   "outputs": [],
   "source": []
  },
  {
   "cell_type": "code",
   "execution_count": null,
   "id": "ad7ed8f5",
   "metadata": {},
   "outputs": [],
   "source": []
  },
  {
   "cell_type": "code",
   "execution_count": null,
   "id": "b06c05e0",
   "metadata": {},
   "outputs": [],
   "source": []
  },
  {
   "cell_type": "code",
   "execution_count": null,
   "id": "1a1ac868",
   "metadata": {},
   "outputs": [],
   "source": [
    "RandomForest_with_transformer = make_sklearn_pipeline(verbose = True, steps = [('vect', CountVectorizer(tokenizer = tokenize)),\n",
    "                           ('tfidf', TfidfTransformer()),                                              \n",
    "                           ('clf', MultiOutputClassifier(estimator = RandomForestClassifier\n",
    "                                                         (class_weight = \"balanced\")))])"
   ]
  },
  {
   "cell_type": "code",
   "execution_count": null,
   "id": "a28ef66e",
   "metadata": {},
   "outputs": [],
   "source": [
    "RandomForest_with_transformer.fit(X_train, y_train)"
   ]
  },
  {
   "cell_type": "code",
   "execution_count": null,
   "id": "1d390062",
   "metadata": {},
   "outputs": [],
   "source": [
    "y_pred_forest = RandomForest_with_transformer.predict(X_test)\n",
    "y_pred_forest = pd.DataFrame(y_pred_forest, columns = list(Y.columns))\n",
    "y_test = y_test.reset_index(drop = True)\n",
    "for i, var in enumerate(Y):\n",
    "    print(var)\n",
    "    print(classification_report(y_test.iloc[:,i], y_pred_forest.iloc[:,i]))"
   ]
  },
  {
   "cell_type": "code",
   "execution_count": null,
   "id": "056c3bb7",
   "metadata": {},
   "outputs": [],
   "source": [
    "classification_reports.clear()"
   ]
  },
  {
   "cell_type": "code",
   "execution_count": null,
   "id": "ec38fcf9",
   "metadata": {},
   "outputs": [],
   "source": [
    "for i, var in enumerate(Y):\n",
    "    classification_reports[var] = (classification_report(y_test.iloc[:,i], y_pred_forest.iloc[:,i]));"
   ]
  },
  {
   "cell_type": "code",
   "execution_count": null,
   "id": "1a45b28a",
   "metadata": {},
   "outputs": [],
   "source": [
    "forest_with_transformer_report_df = df_from_sklearn_cl_reports(classification_reports)"
   ]
  },
  {
   "cell_type": "code",
   "execution_count": null,
   "id": "f1e2fc0f",
   "metadata": {},
   "outputs": [],
   "source": [
    "forest_with_transformer_report_df.loc[\n",
    "    forest_with_transformer_report_df.label == 1].groupby(\n",
    "    [\"communicate\"])[\"precisions\"].mean().sort_values(ascending = False).mean()"
   ]
  },
  {
   "cell_type": "code",
   "execution_count": null,
   "id": "09119450",
   "metadata": {},
   "outputs": [],
   "source": [
    "forest_with_transformer_report_df.loc[\n",
    "    forest_with_transformer_report_df.label == 1].groupby(\n",
    "    [\"communicate\"])[\"recalls\"].mean().sort_values(ascending = False).mean()"
   ]
  },
  {
   "cell_type": "markdown",
   "id": "68746bea",
   "metadata": {},
   "source": [
    "##### Trying to ehence the model's performance via GridSearch"
   ]
  },
  {
   "cell_type": "code",
   "execution_count": null,
   "id": "04b1eadd",
   "metadata": {},
   "outputs": [],
   "source": [
    "parameters = {\n",
    "    'clf__estimator__n_estimators': [100,1000]    \n",
    "}"
   ]
  },
  {
   "cell_type": "code",
   "execution_count": null,
   "id": "b123dbbc",
   "metadata": {},
   "outputs": [],
   "source": [
    "RandomForest_optimized = GridSearchCV(RandomForest_with_transformer, param_grid = parameters)"
   ]
  },
  {
   "cell_type": "code",
   "execution_count": null,
   "id": "0807a981",
   "metadata": {},
   "outputs": [],
   "source": [
    "#Attention! This cell may take a bit time to perform (around 15 minutes on typical PC)\n",
    "RandomForest_optimized.fit(X_train, y_train)"
   ]
  },
  {
   "cell_type": "code",
   "execution_count": null,
   "id": "f64b556c",
   "metadata": {},
   "outputs": [],
   "source": [
    "y_pred_opt = RandomForest_optimized.predict(X_test)\n",
    "y_pred_opt = pd.DataFrame(y_pred_opt, columns = list(Y.columns))\n",
    "y_test = y_test.reset_index(drop = True)\n",
    "for i, var in enumerate(Y):\n",
    "    print(var)\n",
    "    print(classification_report(y_test.iloc[:,i], y_pred_opt.iloc[:,i]))"
   ]
  },
  {
   "cell_type": "code",
   "execution_count": null,
   "id": "f3b8553c",
   "metadata": {},
   "outputs": [],
   "source": [
    "classification_reports.clear()"
   ]
  },
  {
   "cell_type": "code",
   "execution_count": null,
   "id": "a9eea6bb",
   "metadata": {},
   "outputs": [],
   "source": [
    "for i, var in enumerate(Y):\n",
    "    classification_reports[var] = (classification_report(y_test.iloc[:,i], y_pred_opt.iloc[:,i]));"
   ]
  },
  {
   "cell_type": "code",
   "execution_count": null,
   "id": "6e4c223d",
   "metadata": {},
   "outputs": [],
   "source": [
    "RandomForest_optimized_report_df = df_from_sklearn_cl_reports(classification_reports)"
   ]
  },
  {
   "cell_type": "code",
   "execution_count": null,
   "id": "83f2b5d1",
   "metadata": {},
   "outputs": [],
   "source": [
    "RandomForest_optimized_report_df.loc[\n",
    "    RandomForest_optimized_report_df.label == 1].groupby(\n",
    "    [\"communicate\"])[\"precisions\"].mean().sort_values(ascending = False).mean()"
   ]
  },
  {
   "cell_type": "code",
   "execution_count": null,
   "id": "10dc54dd",
   "metadata": {},
   "outputs": [],
   "source": [
    "RandomForest_optimized_report_df.loc[\n",
    "    RandomForest_optimized_report_df.label == 1].groupby(\n",
    "    [\"communicate\"])[\"recalls\"].mean().sort_values(ascending = False).mean()"
   ]
  },
  {
   "cell_type": "code",
   "execution_count": null,
   "id": "3829b709",
   "metadata": {},
   "outputs": [],
   "source": []
  },
  {
   "cell_type": "code",
   "execution_count": null,
   "id": "e220d901",
   "metadata": {},
   "outputs": [],
   "source": []
  },
  {
   "cell_type": "code",
   "execution_count": null,
   "id": "a4534ade",
   "metadata": {},
   "outputs": [],
   "source": [
    "classification_reports.clear()"
   ]
  },
  {
   "cell_type": "code",
   "execution_count": null,
   "id": "59962a0f",
   "metadata": {},
   "outputs": [],
   "source": [
    "dt_depth_2 = DecisionTreeClassifier(max_depth=2, min_samples_leaf=1, class_weight = \"balanced\")\n",
    "dt_depth_9 = DecisionTreeClassifier(max_depth=9, min_samples_leaf=1, class_weight = \"balanced\")"
   ]
  },
  {
   "cell_type": "code",
   "execution_count": null,
   "id": "ff3b1730",
   "metadata": {},
   "outputs": [],
   "source": [
    "parameters = {\n",
    "    'clf__estimator__base_estimator': [dt_depth_2,dt_depth_9],\n",
    "    'clf__estimator__n_estimators': [50,100]    \n",
    "}"
   ]
  },
  {
   "cell_type": "code",
   "execution_count": null,
   "id": "b15841a6",
   "metadata": {},
   "outputs": [],
   "source": [
    "adaboost_transf_optimized = GridSearchCV(adaboost_with_transformer, param_grid = parameters)"
   ]
  },
  {
   "cell_type": "code",
   "execution_count": null,
   "id": "7fe6e9e5",
   "metadata": {},
   "outputs": [],
   "source": [
    "#Attention! This cell may take a bit time to perform (around 15 minutes on typical PC)\n",
    "adaboost_transf_optimized.fit(X_train, y_train)"
   ]
  },
  {
   "cell_type": "code",
   "execution_count": null,
   "id": "c5c4f18a",
   "metadata": {},
   "outputs": [],
   "source": [
    "y_pred_opt_ada = adaboost_transf_optimized.predict(X_test)\n",
    "y_pred_opt_ada = pd.DataFrame(y_pred_opt_ada, columns = list(Y.columns))\n",
    "y_test = y_test.reset_index(drop = True)\n",
    "for i, var in enumerate(Y):\n",
    "    print(var)\n",
    "    print(classification_report(y_test.iloc[:,i], y_pred_opt_ada.iloc[:,i]))"
   ]
  },
  {
   "cell_type": "code",
   "execution_count": null,
   "id": "a57bab06",
   "metadata": {},
   "outputs": [],
   "source": [
    "for i, var in enumerate(Y):\n",
    "    classification_reports[var] = (classification_report(y_test.iloc[:,i], y_pred_opt_ada.iloc[:,i]));"
   ]
  },
  {
   "cell_type": "code",
   "execution_count": null,
   "id": "bb7bc50a",
   "metadata": {},
   "outputs": [],
   "source": [
    "adaboost_optimized_report_df = df_from_sklearn_cl_reports(classification_reports)"
   ]
  },
  {
   "cell_type": "code",
   "execution_count": null,
   "id": "f5b0f653",
   "metadata": {},
   "outputs": [],
   "source": [
    "adaboost_optimized_report_df.loc[\n",
    "    adaboost_optimized_report_df.label == 1].groupby(\n",
    "    [\"communicate\"])[\"precisions\"].mean().sort_values(ascending = False).mean()"
   ]
  },
  {
   "cell_type": "code",
   "execution_count": null,
   "id": "6525aa50",
   "metadata": {},
   "outputs": [],
   "source": [
    "adaboost_optimized_report_df.loc[\n",
    "    adaboost_optimized_report_df.label == 1].groupby(\n",
    "    [\"communicate\"])[\"recalls\"].mean().sort_values(ascending = False).mean()"
   ]
  },
  {
   "cell_type": "markdown",
   "id": "93278f6c",
   "metadata": {},
   "source": [
    "\n",
    ">Undersampling still gives poor results - escpecially for recall which is very important in disaster response system. Undersampling may not necesserilly work good in multioutput problems, because of possible noise beeing added to the data set.\n",
    "Moreover, if we really want to balance all of the classes via undersampling we will end up with very small data set (some imbalanced classes are much less numerous than the better balanced ones). Hence the next iterration will be conducted with **´class weights´** adjustments and without any reduction of the data set size."
   ]
  },
  {
   "cell_type": "code",
   "execution_count": null,
   "id": "8ce71f57",
   "metadata": {},
   "outputs": [],
   "source": [
    "adaboost_optimized_report_df.to_csv(\"Adaboost_DT_GridSearch_depth2and9_estimators_50and100.csv\", \n",
    "                                    index = True)"
   ]
  },
  {
   "cell_type": "code",
   "execution_count": null,
   "id": "0c5a95f1",
   "metadata": {},
   "outputs": [],
   "source": []
  },
  {
   "cell_type": "code",
   "execution_count": null,
   "id": "c3c8d103",
   "metadata": {},
   "outputs": [],
   "source": []
  },
  {
   "cell_type": "code",
   "execution_count": null,
   "id": "af47afdd",
   "metadata": {},
   "outputs": [],
   "source": [
    "classification_reports.clear()"
   ]
  },
  {
   "cell_type": "code",
   "execution_count": null,
   "id": "5facf459",
   "metadata": {},
   "outputs": [],
   "source": [
    "dt_splitter_random = DecisionTreeClassifier(splitter=\"random\",class_weight = \"balanced\")\n",
    "dt_splitter_best = DecisionTreeClassifier(class_weight = \"balanced\")"
   ]
  },
  {
   "cell_type": "code",
   "execution_count": null,
   "id": "6075a31c",
   "metadata": {},
   "outputs": [],
   "source": [
    "parameters = {\n",
    "    'clf__estimator__base_estimator': [dt_splitter_random,dt_splitter_best],\n",
    "    'clf__estimator__n_estimators': [50,100]    \n",
    "}"
   ]
  },
  {
   "cell_type": "code",
   "execution_count": null,
   "id": "50a4e7c3",
   "metadata": {},
   "outputs": [],
   "source": [
    "adaboost_transf_optimized = GridSearchCV(adaboost_with_transformer, param_grid = parameters)"
   ]
  },
  {
   "cell_type": "code",
   "execution_count": null,
   "id": "26edb6c2",
   "metadata": {},
   "outputs": [],
   "source": [
    "#Attention! This cell may take a bit time to perform (around 15 minutes on typical PC)\n",
    "adaboost_transf_optimized.fit(X_train, y_train)"
   ]
  },
  {
   "cell_type": "code",
   "execution_count": null,
   "id": "21e19af5",
   "metadata": {},
   "outputs": [],
   "source": [
    "y_pred_opt_ada = adaboost_transf_optimized.predict(X_test)\n",
    "y_pred_opt_ada = pd.DataFrame(y_pred_opt_ada, columns = list(Y.columns))\n",
    "y_test = y_test.reset_index(drop = True)\n",
    "for i, var in enumerate(Y):\n",
    "    print(var)\n",
    "    print(classification_report(y_test.iloc[:,i], y_pred_opt_ada.iloc[:,i]))"
   ]
  },
  {
   "cell_type": "code",
   "execution_count": null,
   "id": "edcfa380",
   "metadata": {},
   "outputs": [],
   "source": [
    "for i, var in enumerate(Y):\n",
    "    classification_reports[var] = (classification_report(y_test.iloc[:,i], y_pred_opt_ada.iloc[:,i]));"
   ]
  },
  {
   "cell_type": "code",
   "execution_count": null,
   "id": "a082c1ce",
   "metadata": {},
   "outputs": [],
   "source": [
    "adaboost_optimized_report_df = df_from_sklearn_cl_reports(classification_reports)"
   ]
  },
  {
   "cell_type": "code",
   "execution_count": null,
   "id": "b2349c5f",
   "metadata": {},
   "outputs": [],
   "source": [
    "adaboost_optimized_report_df.loc[\n",
    "    adaboost_optimized_report_df.label == 1].groupby(\n",
    "    [\"communicate\"])[\"precisions\"].mean().sort_values(ascending = False)"
   ]
  },
  {
   "cell_type": "code",
   "execution_count": null,
   "id": "71d7d590",
   "metadata": {},
   "outputs": [],
   "source": [
    "adaboost_optimized_report_df.loc[\n",
    "    adaboost_optimized_report_df.label == 1].groupby(\n",
    "    [\"communicate\"])[\"recalls\"].mean().sort_values(ascending = False).mean()"
   ]
  },
  {
   "cell_type": "code",
   "execution_count": null,
   "id": "972f04e0",
   "metadata": {},
   "outputs": [],
   "source": [
    "adaboost_optimized_report_df.loc[\n",
    "    adaboost_optimized_report_df.label == 1].groupby(\n",
    "    [\"communicate\"])[\"f1_scores\"].mean().sort_values(ascending = False)"
=======
    "    \n",
    "    return data_frame    "
>>>>>>> 9fe0a1c184ecc047f46d11363af5258dfc96dea0
   ]
  },
  {
   "cell_type": "code",
<<<<<<< HEAD
   "execution_count": 20,
   "id": "f7014511",
||||||| 98fd509
   "execution_count": null,
   "id": "ae8f78ea",
=======
   "execution_count": 10,
   "id": "ffd2265f",
>>>>>>> 9fe0a1c184ecc047f46d11363af5258dfc96dea0
   "metadata": {},
   "outputs": [
    {
     "data": {
      "text/plain": [
       "communicate\n",
       "earthquake                0.78\n",
       "weather_related           0.75\n",
       "aid_related               0.69\n",
       "food                      0.68\n",
       "storm                     0.67\n",
       "water                     0.63\n",
       "shelter                   0.59\n",
       "floods                    0.56\n",
       "request                   0.56\n",
       "military                  0.55\n",
       "death                     0.52\n",
       "cold                      0.52\n",
       "direct_report             0.50\n",
       "fire                      0.47\n",
       "electricity               0.45\n",
       "clothing                  0.41\n",
       "buildings                 0.41\n",
       "medical_help              0.38\n",
       "medical_products          0.36\n",
       "money                     0.36\n",
       "refugees                  0.32\n",
       "other_aid                 0.29\n",
       "missing_people            0.24\n",
       "infrastructure_related    0.23\n",
       "other_weather             0.22\n",
       "transport                 0.22\n",
       "hospitals                 0.21\n",
       "shops                     0.20\n",
       "other_infrastructure      0.18\n",
       "search_and_rescue         0.14\n",
       "aid_centers               0.12\n",
       "security                  0.10\n",
       "offer                     0.08\n",
       "tools                     0.00\n",
       "Name: precisions, dtype: float64"
      ]
     },
     "execution_count": 20,
     "metadata": {},
     "output_type": "execute_result"
    }
   ],
   "source": [
<<<<<<< HEAD
    "svc_precisions"
||||||| 98fd509
    "adaboost_optimized_report_df.groupby(\n",
    "    [\"communicate\"])[\"f1_scores\"].mean().sort_values(ascending = False)"
=======
    "classification_reports = {}"
>>>>>>> 9fe0a1c184ecc047f46d11363af5258dfc96dea0
   ]
  },
  {
   "cell_type": "markdown",
<<<<<<< HEAD
   "id": "99a0fb6f",
   "metadata": {},
   "source": [
    "#### Mean recall for True over all categories"
   ]
  },
  {
   "cell_type": "code",
   "execution_count": 21,
   "id": "ceb0f1a6",
   "metadata": {},
   "outputs": [
    {
     "data": {
      "text/plain": [
       "0.48147058823529415"
      ]
     },
     "execution_count": 21,
     "metadata": {},
     "output_type": "execute_result"
    }
   ],
   "source": [
    "svc_recalls = svc_report.loc[\n",
    "    svc_report.label == 1].groupby(\n",
    "    [\"communicate\"])[\"recalls\"].mean().sort_values(ascending = False)\n",
    "svc_recalls.mean()"
   ]
  },
  {
   "cell_type": "markdown",
   "id": "848ad678",
   "metadata": {},
   "source": [
    "#### Recalls for True for each category"
   ]
  },
  {
   "cell_type": "code",
   "execution_count": 22,
   "id": "820a30cb",
||||||| 98fd509
   "id": "a8ceca11",
   "metadata": {},
   "source": [
    "\n",
    ">Undersampling still gives poor results - escpecially for recall which is very important in disaster response system. Undersampling may not necesserilly work good in multioutput problems, because of possible noise beeing added to the data set.\n",
    "Moreover, if we really want to balance all of the classes via undersampling we will end up with very small data set (some imbalanced classes are much less numerous than the better balanced ones). Hence the next iterration will be conducted with **´class weights´** adjustments and without any reduction of the data set size."
   ]
  },
  {
   "cell_type": "code",
   "execution_count": null,
   "id": "b7248f6b",
   "metadata": {},
   "outputs": [],
   "source": [
    "adaboost_optimized_report_df.to_csv(\"Adaboost_DT_GridSearch_splitter_random_best_estimators_50and100.csv\", \n",
    "                                    index = True)"
   ]
  },
  {
   "cell_type": "code",
   "execution_count": null,
   "id": "5de79ed0",
   "metadata": {},
   "outputs": [],
   "source": [
    "filename = \"AdaBoostClassifier_opt\""
   ]
  },
  {
   "cell_type": "code",
   "execution_count": null,
   "id": "5e146dde",
=======
   "id": "77da1454",
>>>>>>> 9fe0a1c184ecc047f46d11363af5258dfc96dea0
   "metadata": {},
<<<<<<< HEAD
   "outputs": [
    {
     "data": {
      "text/plain": [
       "communicate\n",
       "food                      0.84\n",
       "weather_related           0.82\n",
       "earthquake                0.79\n",
       "storm                     0.77\n",
       "water                     0.74\n",
       "request                   0.73\n",
       "aid_related               0.73\n",
       "shelter                   0.72\n",
       "floods                    0.68\n",
       "death                     0.68\n",
       "direct_report             0.66\n",
       "electricity               0.57\n",
       "military                  0.56\n",
       "medical_products          0.56\n",
       "medical_help              0.55\n",
       "cold                      0.52\n",
       "money                     0.52\n",
       "buildings                 0.52\n",
       "clothing                  0.50\n",
       "refugees                  0.49\n",
       "other_aid                 0.47\n",
       "fire                      0.42\n",
       "other_weather             0.42\n",
       "infrastructure_related    0.38\n",
       "transport                 0.37\n",
       "missing_people            0.31\n",
       "other_infrastructure      0.31\n",
       "hospitals                 0.20\n",
       "search_and_rescue         0.17\n",
       "security                  0.12\n",
       "shops                     0.09\n",
       "aid_centers               0.09\n",
       "offer                     0.07\n",
       "tools                     0.00\n",
       "Name: recalls, dtype: float64"
      ]
     },
     "execution_count": 22,
     "metadata": {},
     "output_type": "execute_result"
    }
   ],
||||||| 98fd509
   "outputs": [],
=======
>>>>>>> 9fe0a1c184ecc047f46d11363af5258dfc96dea0
   "source": [
<<<<<<< HEAD
    "svc_recalls"
||||||| 98fd509
    "joblib.dump(adaboost_transf_optimized, filename)"
=======
    "### 3. Building a machine learning pipeline"
>>>>>>> 9fe0a1c184ecc047f46d11363af5258dfc96dea0
   ]
  },
  {
   "cell_type": "markdown",
   "id": "79f4cf3c",
   "metadata": {},
   "source": [
<<<<<<< HEAD
    "#### 3.2 DecisionTree"
||||||| 98fd509
    "## SVC"
=======
    "#### 3.1 SVC"
>>>>>>> 9fe0a1c184ecc047f46d11363af5258dfc96dea0
   ]
  },
  {
   "cell_type": "code",
   "execution_count": 23,
   "id": "251c0772",
   "metadata": {},
   "outputs": [],
   "source": [
    "tree = make_sklearn_pipeline(verbose = True, steps = [('vect', CountVectorizer(tokenizer = tokenize)),\n",
    "                           ('tfidf', TfidfTransformer()),                                              \n",
<<<<<<< HEAD
    "                           ('clf', MultiOutputClassifier(estimator = DecisionTreeClassifier\n",
    "                                                         (max_depth=7, min_samples_leaf=1, \n",
    "                                                          class_weight = \"balanced\",\n",
    "                                                          random_state = 42)))])"
||||||| 98fd509
    "                           ('clf', MultiOutputClassifier(estimator = LinearSVC\n",
    "                                                         (class_weight = \"balanced\", dual = False, max_iter = 10000)))])"
=======
    "                           ('clf', MultiOutputClassifier(estimator = LinearSVC\n",
    "                                                         (class_weight = \"balanced\", \n",
    "                                                          dual = False, max_iter = 10000,\n",
    "                                                          random_state = 42)))])"
>>>>>>> 9fe0a1c184ecc047f46d11363af5258dfc96dea0
   ]
  },
  {
   "cell_type": "code",
   "execution_count": 24,
   "id": "54d6a2d1",
   "metadata": {},
   "outputs": [],
   "source": [
    "classification_reports.clear()"
   ]
  },
  {
   "cell_type": "code",
   "execution_count": 25,
   "id": "a094de1f",
   "metadata": {},
   "outputs": [
    {
     "name": "stdout",
     "output_type": "stream",
     "text": [
      "[Pipeline] .............. (step 1 of 3) Processing vect, total= 3.4min\n",
      "[Pipeline] ............. (step 2 of 3) Processing tfidf, total=   0.0s\n",
<<<<<<< HEAD
      "[Pipeline] ............... (step 3 of 3) Processing clf, total=   7.1s\n"
||||||| 98fd509
      "[Pipeline] ............... (step 3 of 3) Processing clf, total=   5.4s\n"
=======
      "[Pipeline] ............... (step 3 of 3) Processing clf, total=   6.0s\n"
>>>>>>> 9fe0a1c184ecc047f46d11363af5258dfc96dea0
     ]
    },
    {
     "data": {
      "text/plain": [
       "Pipeline(steps=[('vect',\n",
<<<<<<< HEAD
       "                 CountVectorizer(tokenizer=<function tokenize at 0x000001AEEFE95A60>)),\n",
||||||| 98fd509
       "                 CountVectorizer(tokenizer=<function tokenize at 0x00000227E6689A60>)),\n",
=======
       "                 CountVectorizer(tokenizer=<function tokenize at 0x000001C1B4F6AE50>)),\n",
>>>>>>> 9fe0a1c184ecc047f46d11363af5258dfc96dea0
       "                ('tfidf', TfidfTransformer()),\n",
       "                ('clf',\n",
<<<<<<< HEAD
       "                 MultiOutputClassifier(estimator=DecisionTreeClassifier(class_weight='balanced',\n",
       "                                                                        max_depth=7,\n",
       "                                                                        random_state=42)))],\n",
||||||| 98fd509
       "                 MultiOutputClassifier(estimator=LinearSVC(class_weight='balanced',\n",
       "                                                           dual=False,\n",
       "                                                           max_iter=10000)))],\n",
=======
       "                 MultiOutputClassifier(estimator=LinearSVC(class_weight='balanced',\n",
       "                                                           dual=False,\n",
       "                                                           max_iter=10000,\n",
       "                                                           random_state=42)))],\n",
>>>>>>> 9fe0a1c184ecc047f46d11363af5258dfc96dea0
       "         verbose=True)"
      ]
     },
     "execution_count": 25,
     "metadata": {},
     "output_type": "execute_result"
    }
   ],
   "source": [
    "tree.fit(X_train, y_train)"
   ]
  },
  {
   "cell_type": "code",
   "execution_count": 26,
   "id": "17ac49f9",
   "metadata": {},
   "outputs": [
    {
     "name": "stdout",
     "output_type": "stream",
     "text": [
<<<<<<< HEAD
||||||| 98fd509
      "related\n",
      "              precision    recall  f1-score   support\n",
      "\n",
      "         0.0       0.59      0.69      0.63      1221\n",
      "         1.0       0.90      0.85      0.88      3985\n",
      "\n",
      "    accuracy                           0.81      5206\n",
      "   macro avg       0.74      0.77      0.76      5206\n",
      "weighted avg       0.83      0.81      0.82      5206\n",
      "\n",
=======
      "related\n",
      "              precision    recall  f1-score   support\n",
      "\n",
      "         0.0       0.56      0.71      0.63       321\n",
      "         1.0       0.90      0.82      0.86       981\n",
      "\n",
      "    accuracy                           0.79      1302\n",
      "   macro avg       0.73      0.76      0.74      1302\n",
      "weighted avg       0.81      0.79      0.80      1302\n",
      "\n",
>>>>>>> 9fe0a1c184ecc047f46d11363af5258dfc96dea0
      "request\n",
      "              precision    recall  f1-score   support\n",
      "\n",
<<<<<<< HEAD
      "         0.0       0.94      0.88      0.91      2175\n",
      "         1.0       0.54      0.70      0.61       428\n",
||||||| 98fd509
      "         0.0       0.94      0.89      0.91      4311\n",
      "         1.0       0.58      0.74      0.65       895\n",
=======
      "         0.0       0.95      0.90      0.92      1088\n",
      "         1.0       0.59      0.73      0.66       214\n",
>>>>>>> 9fe0a1c184ecc047f46d11363af5258dfc96dea0
      "\n",
<<<<<<< HEAD
      "    accuracy                           0.85      2603\n",
      "   macro avg       0.74      0.79      0.76      2603\n",
      "weighted avg       0.87      0.85      0.86      2603\n",
||||||| 98fd509
      "    accuracy                           0.86      5206\n",
      "   macro avg       0.76      0.81      0.78      5206\n",
      "weighted avg       0.88      0.86      0.87      5206\n",
=======
      "    accuracy                           0.87      1302\n",
      "   macro avg       0.77      0.82      0.79      1302\n",
      "weighted avg       0.89      0.87      0.88      1302\n",
>>>>>>> 9fe0a1c184ecc047f46d11363af5258dfc96dea0
      "\n",
      "offer\n",
      "              precision    recall  f1-score   support\n",
      "\n",
<<<<<<< HEAD
      "         0.0       1.00      0.91      0.95      2589\n",
      "         1.0       0.02      0.29      0.03        14\n",
||||||| 98fd509
      "         0.0       1.00      1.00      1.00      5182\n",
      "         1.0       0.00      0.00      0.00        24\n",
=======
      "         0.0       0.99      0.99      0.99      1295\n",
      "         1.0       0.00      0.00      0.00         7\n",
>>>>>>> 9fe0a1c184ecc047f46d11363af5258dfc96dea0
      "\n",
<<<<<<< HEAD
      "    accuracy                           0.91      2603\n",
      "   macro avg       0.51      0.60      0.49      2603\n",
      "weighted avg       0.99      0.91      0.95      2603\n",
||||||| 98fd509
      "    accuracy                           0.99      5206\n",
      "   macro avg       0.50      0.50      0.50      5206\n",
      "weighted avg       0.99      0.99      0.99      5206\n",
=======
      "    accuracy                           0.99      1302\n",
      "   macro avg       0.50      0.50      0.50      1302\n",
      "weighted avg       0.99      0.99      0.99      1302\n",
>>>>>>> 9fe0a1c184ecc047f46d11363af5258dfc96dea0
      "\n",
      "aid_related\n",
      "              precision    recall  f1-score   support\n",
      "\n",
<<<<<<< HEAD
      "         0.0       0.74      0.82      0.77      1558\n",
      "         1.0       0.67      0.57      0.62      1045\n",
||||||| 98fd509
      "         0.0       0.80      0.77      0.78      3000\n",
      "         1.0       0.70      0.73      0.72      2206\n",
=======
      "         0.0       0.81      0.81      0.81       772\n",
      "         1.0       0.73      0.73      0.73       530\n",
>>>>>>> 9fe0a1c184ecc047f46d11363af5258dfc96dea0
      "\n",
<<<<<<< HEAD
      "    accuracy                           0.72      2603\n",
      "   macro avg       0.71      0.69      0.70      2603\n",
      "weighted avg       0.71      0.72      0.71      2603\n",
||||||| 98fd509
      "    accuracy                           0.75      5206\n",
      "   macro avg       0.75      0.75      0.75      5206\n",
      "weighted avg       0.76      0.75      0.76      5206\n",
=======
      "    accuracy                           0.78      1302\n",
      "   macro avg       0.77      0.77      0.77      1302\n",
      "weighted avg       0.78      0.78      0.78      1302\n",
>>>>>>> 9fe0a1c184ecc047f46d11363af5258dfc96dea0
      "\n",
      "medical_help\n",
      "              precision    recall  f1-score   support\n",
      "\n",
<<<<<<< HEAD
      "         0.0       0.94      0.97      0.95      2379\n",
      "         1.0       0.46      0.32      0.38       224\n",
||||||| 98fd509
      "         0.0       0.96      0.92      0.94      4768\n",
      "         1.0       0.40      0.54      0.46       438\n",
=======
      "         0.0       0.96      0.91      0.93      1195\n",
      "         1.0       0.34      0.53      0.41       107\n",
>>>>>>> 9fe0a1c184ecc047f46d11363af5258dfc96dea0
      "\n",
<<<<<<< HEAD
      "    accuracy                           0.91      2603\n",
      "   macro avg       0.70      0.64      0.67      2603\n",
      "weighted avg       0.90      0.91      0.90      2603\n",
||||||| 98fd509
      "    accuracy                           0.89      5206\n",
      "   macro avg       0.68      0.73      0.70      5206\n",
      "weighted avg       0.91      0.89      0.90      5206\n",
=======
      "    accuracy                           0.88      1302\n",
      "   macro avg       0.65      0.72      0.67      1302\n",
      "weighted avg       0.91      0.88      0.89      1302\n",
>>>>>>> 9fe0a1c184ecc047f46d11363af5258dfc96dea0
      "\n",
      "medical_products\n",
      "              precision    recall  f1-score   support\n",
      "\n",
<<<<<<< HEAD
      "         0.0       0.97      0.89      0.93      2461\n",
      "         1.0       0.24      0.59      0.34       142\n",
||||||| 98fd509
      "         0.0       0.97      0.95      0.96      4934\n",
      "         1.0       0.38      0.51      0.43       272\n",
=======
      "         0.0       0.97      0.94      0.96      1226\n",
      "         1.0       0.38      0.59      0.46        76\n",
>>>>>>> 9fe0a1c184ecc047f46d11363af5258dfc96dea0
      "\n",
<<<<<<< HEAD
      "    accuracy                           0.88      2603\n",
      "   macro avg       0.61      0.74      0.64      2603\n",
      "weighted avg       0.93      0.88      0.90      2603\n",
||||||| 98fd509
      "    accuracy                           0.93      5206\n",
      "   macro avg       0.67      0.73      0.70      5206\n",
      "weighted avg       0.94      0.93      0.94      5206\n",
=======
      "    accuracy                           0.92      1302\n",
      "   macro avg       0.68      0.77      0.71      1302\n",
      "weighted avg       0.94      0.92      0.93      1302\n",
>>>>>>> 9fe0a1c184ecc047f46d11363af5258dfc96dea0
      "\n",
      "search_and_rescue\n",
      "              precision    recall  f1-score   support\n",
      "\n",
<<<<<<< HEAD
      "         0.0       0.98      0.84      0.90      2523\n",
      "         1.0       0.08      0.44      0.13        80\n",
||||||| 98fd509
      "         0.0       0.98      0.97      0.97      5057\n",
      "         1.0       0.21      0.27      0.23       149\n",
=======
      "         0.0       0.98      0.96      0.97      1264\n",
      "         1.0       0.18      0.26      0.21        38\n",
>>>>>>> 9fe0a1c184ecc047f46d11363af5258dfc96dea0
      "\n",
<<<<<<< HEAD
      "    accuracy                           0.83      2603\n",
      "   macro avg       0.53      0.64      0.52      2603\n",
      "weighted avg       0.95      0.83      0.88      2603\n",
||||||| 98fd509
      "    accuracy                           0.95      5206\n",
      "   macro avg       0.59      0.62      0.60      5206\n",
      "weighted avg       0.96      0.95      0.95      5206\n",
=======
      "    accuracy                           0.94      1302\n",
      "   macro avg       0.58      0.61      0.59      1302\n",
      "weighted avg       0.95      0.94      0.95      1302\n",
>>>>>>> 9fe0a1c184ecc047f46d11363af5258dfc96dea0
      "\n",
      "security\n",
      "              precision    recall  f1-score   support\n",
      "\n",
<<<<<<< HEAD
      "         0.0       0.98      0.98      0.98      2545\n",
      "         1.0       0.25      0.28      0.26        58\n",
||||||| 98fd509
      "         0.0       0.98      0.98      0.98      5110\n",
      "         1.0       0.11      0.11      0.11        96\n",
=======
      "         0.0       0.98      0.98      0.98      1278\n",
      "         1.0       0.12      0.17      0.14        24\n",
>>>>>>> 9fe0a1c184ecc047f46d11363af5258dfc96dea0
      "\n",
<<<<<<< HEAD
      "    accuracy                           0.97      2603\n",
      "   macro avg       0.62      0.63      0.62      2603\n",
      "weighted avg       0.97      0.97      0.97      2603\n",
||||||| 98fd509
      "    accuracy                           0.97      5206\n",
      "   macro avg       0.55      0.55      0.55      5206\n",
      "weighted avg       0.97      0.97      0.97      5206\n",
=======
      "    accuracy                           0.96      1302\n",
      "   macro avg       0.55      0.57      0.56      1302\n",
      "weighted avg       0.97      0.96      0.97      1302\n",
>>>>>>> 9fe0a1c184ecc047f46d11363af5258dfc96dea0
      "\n",
      "military\n",
      "              precision    recall  f1-score   support\n",
      "\n",
<<<<<<< HEAD
      "         0.0       0.98      0.98      0.98      2521\n",
      "         1.0       0.51      0.50      0.50        82\n",
||||||| 98fd509
      "         0.0       0.98      0.98      0.98      5039\n",
      "         1.0       0.46      0.52      0.49       167\n",
=======
      "         0.0       0.98      0.99      0.99      1261\n",
      "         1.0       0.60      0.44      0.51        41\n",
>>>>>>> 9fe0a1c184ecc047f46d11363af5258dfc96dea0
      "\n",
<<<<<<< HEAD
      "    accuracy                           0.97      2603\n",
      "   macro avg       0.74      0.74      0.74      2603\n",
      "weighted avg       0.97      0.97      0.97      2603\n",
||||||| 98fd509
      "    accuracy                           0.96      5206\n",
      "   macro avg       0.72      0.75      0.73      5206\n",
      "weighted avg       0.97      0.96      0.97      5206\n",
=======
      "    accuracy                           0.97      1302\n",
      "   macro avg       0.79      0.71      0.75      1302\n",
      "weighted avg       0.97      0.97      0.97      1302\n",
>>>>>>> 9fe0a1c184ecc047f46d11363af5258dfc96dea0
      "\n",
      "water\n",
      "              precision    recall  f1-score   support\n",
      "\n",
<<<<<<< HEAD
      "         0.0       0.99      0.96      0.97      2432\n",
      "         1.0       0.58      0.85      0.69       171\n",
||||||| 98fd509
      "         0.0       0.98      0.97      0.98      4854\n",
      "         1.0       0.64      0.78      0.70       352\n",
=======
      "         0.0       0.98      0.97      0.97      1206\n",
      "         1.0       0.65      0.80      0.72        96\n",
>>>>>>> 9fe0a1c184ecc047f46d11363af5258dfc96dea0
      "\n",
<<<<<<< HEAD
      "    accuracy                           0.95      2603\n",
      "   macro avg       0.79      0.90      0.83      2603\n",
      "weighted avg       0.96      0.95      0.95      2603\n",
||||||| 98fd509
      "    accuracy                           0.96      5206\n",
      "   macro avg       0.81      0.87      0.84      5206\n",
      "weighted avg       0.96      0.96      0.96      5206\n",
=======
      "    accuracy                           0.95      1302\n",
      "   macro avg       0.82      0.88      0.85      1302\n",
      "weighted avg       0.96      0.95      0.96      1302\n",
>>>>>>> 9fe0a1c184ecc047f46d11363af5258dfc96dea0
      "\n",
      "food\n",
      "              precision    recall  f1-score   support\n",
      "\n",
<<<<<<< HEAD
      "         0.0       0.98      0.95      0.97      2328\n",
      "         1.0       0.68      0.83      0.75       275\n",
||||||| 98fd509
      "         0.0       0.98      0.96      0.97      4601\n",
      "         1.0       0.72      0.82      0.77       605\n",
=======
      "         0.0       0.98      0.96      0.97      1168\n",
      "         1.0       0.68      0.84      0.75       134\n",
>>>>>>> 9fe0a1c184ecc047f46d11363af5258dfc96dea0
      "\n",
<<<<<<< HEAD
      "    accuracy                           0.94      2603\n",
      "   macro avg       0.83      0.89      0.86      2603\n",
      "weighted avg       0.95      0.94      0.94      2603\n",
||||||| 98fd509
      "    accuracy                           0.94      5206\n",
      "   macro avg       0.85      0.89      0.87      5206\n",
      "weighted avg       0.95      0.94      0.94      5206\n",
=======
      "    accuracy                           0.94      1302\n",
      "   macro avg       0.83      0.90      0.86      1302\n",
      "weighted avg       0.95      0.94      0.95      1302\n",
>>>>>>> 9fe0a1c184ecc047f46d11363af5258dfc96dea0
      "\n",
      "shelter\n",
      "              precision    recall  f1-score   support\n",
      "\n",
<<<<<<< HEAD
      "         0.0       0.97      0.95      0.96      2360\n",
      "         1.0       0.61      0.76      0.68       243\n",
||||||| 98fd509
      "         0.0       0.97      0.96      0.96      4759\n",
      "         1.0       0.59      0.67      0.63       447\n",
=======
      "         0.0       0.98      0.95      0.96      1180\n",
      "         1.0       0.60      0.78      0.68       122\n",
>>>>>>> 9fe0a1c184ecc047f46d11363af5258dfc96dea0
      "\n",
<<<<<<< HEAD
      "    accuracy                           0.93      2603\n",
      "   macro avg       0.79      0.86      0.82      2603\n",
      "weighted avg       0.94      0.93      0.94      2603\n",
||||||| 98fd509
      "    accuracy                           0.93      5206\n",
      "   macro avg       0.78      0.81      0.80      5206\n",
      "weighted avg       0.94      0.93      0.93      5206\n",
=======
      "    accuracy                           0.93      1302\n",
      "   macro avg       0.79      0.86      0.82      1302\n",
      "weighted avg       0.94      0.93      0.93      1302\n",
>>>>>>> 9fe0a1c184ecc047f46d11363af5258dfc96dea0
      "\n",
      "clothing\n",
      "              precision    recall  f1-score   support\n",
      "\n",
<<<<<<< HEAD
      "         0.0       0.99      0.98      0.99      2567\n",
      "         1.0       0.30      0.61      0.40        36\n",
||||||| 98fd509
      "         0.0       0.99      0.99      0.99      5125\n",
      "         1.0       0.63      0.60      0.62        81\n",
=======
      "         0.0       0.99      0.99      0.99      1284\n",
      "         1.0       0.43      0.56      0.49        18\n",
>>>>>>> 9fe0a1c184ecc047f46d11363af5258dfc96dea0
      "\n",
<<<<<<< HEAD
      "    accuracy                           0.98      2603\n",
      "   macro avg       0.65      0.80      0.70      2603\n",
      "weighted avg       0.98      0.98      0.98      2603\n",
||||||| 98fd509
      "    accuracy                           0.99      5206\n",
      "   macro avg       0.81      0.80      0.81      5206\n",
      "weighted avg       0.99      0.99      0.99      5206\n",
=======
      "    accuracy                           0.98      1302\n",
      "   macro avg       0.71      0.77      0.74      1302\n",
      "weighted avg       0.99      0.98      0.98      1302\n",
>>>>>>> 9fe0a1c184ecc047f46d11363af5258dfc96dea0
      "\n",
      "money\n",
      "              precision    recall  f1-score   support\n",
      "\n",
<<<<<<< HEAD
      "         0.0       0.99      0.95      0.97      2545\n",
      "         1.0       0.25      0.69      0.37        58\n",
||||||| 98fd509
      "         0.0       0.99      0.98      0.99      5090\n",
      "         1.0       0.41      0.47      0.44       116\n",
=======
      "         0.0       0.99      0.98      0.99      1274\n",
      "         1.0       0.40      0.57      0.47        28\n",
>>>>>>> 9fe0a1c184ecc047f46d11363af5258dfc96dea0
      "\n",
<<<<<<< HEAD
      "    accuracy                           0.95      2603\n",
      "   macro avg       0.62      0.82      0.67      2603\n",
      "weighted avg       0.98      0.95      0.96      2603\n",
||||||| 98fd509
      "    accuracy                           0.97      5206\n",
      "   macro avg       0.70      0.73      0.71      5206\n",
      "weighted avg       0.98      0.97      0.97      5206\n",
=======
      "    accuracy                           0.97      1302\n",
      "   macro avg       0.70      0.78      0.73      1302\n",
      "weighted avg       0.98      0.97      0.97      1302\n",
>>>>>>> 9fe0a1c184ecc047f46d11363af5258dfc96dea0
      "\n",
      "missing_people\n",
      "              precision    recall  f1-score   support\n",
      "\n",
<<<<<<< HEAD
      "         0.0       0.99      0.86      0.92      2574\n",
      "         1.0       0.04      0.55      0.08        29\n",
||||||| 98fd509
      "         0.0       0.99      0.99      0.99      5139\n",
      "         1.0       0.30      0.21      0.25        67\n",
=======
      "         0.0       0.99      0.99      0.99      1284\n",
      "         1.0       0.33      0.28      0.30        18\n",
>>>>>>> 9fe0a1c184ecc047f46d11363af5258dfc96dea0
      "\n",
<<<<<<< HEAD
      "    accuracy                           0.86      2603\n",
      "   macro avg       0.52      0.71      0.50      2603\n",
      "weighted avg       0.98      0.86      0.91      2603\n",
||||||| 98fd509
      "    accuracy                           0.98      5206\n",
      "   macro avg       0.64      0.60      0.62      5206\n",
      "weighted avg       0.98      0.98      0.98      5206\n",
=======
      "    accuracy                           0.98      1302\n",
      "   macro avg       0.66      0.63      0.65      1302\n",
      "weighted avg       0.98      0.98      0.98      1302\n",
>>>>>>> 9fe0a1c184ecc047f46d11363af5258dfc96dea0
      "\n",
      "refugees\n",
      "              precision    recall  f1-score   support\n",
      "\n",
<<<<<<< HEAD
      "         0.0       0.99      0.88      0.93      2520\n",
      "         1.0       0.15      0.63      0.24        83\n",
||||||| 98fd509
      "         0.0       0.98      0.97      0.98      5039\n",
      "         1.0       0.36      0.42      0.38       167\n",
=======
      "         0.0       0.98      0.96      0.97      1260\n",
      "         1.0       0.29      0.52      0.38        42\n",
>>>>>>> 9fe0a1c184ecc047f46d11363af5258dfc96dea0
      "\n",
<<<<<<< HEAD
      "    accuracy                           0.87      2603\n",
      "   macro avg       0.57      0.75      0.59      2603\n",
      "weighted avg       0.96      0.87      0.91      2603\n",
||||||| 98fd509
      "    accuracy                           0.96      5206\n",
      "   macro avg       0.67      0.70      0.68      5206\n",
      "weighted avg       0.96      0.96      0.96      5206\n",
=======
      "    accuracy                           0.94      1302\n",
      "   macro avg       0.64      0.74      0.67      1302\n",
      "weighted avg       0.96      0.94      0.95      1302\n",
>>>>>>> 9fe0a1c184ecc047f46d11363af5258dfc96dea0
      "\n",
      "death\n",
      "              precision    recall  f1-score   support\n",
      "\n",
<<<<<<< HEAD
      "         0.0       0.99      0.95      0.97      2493\n",
      "         1.0       0.39      0.73      0.51       110\n",
||||||| 98fd509
      "         0.0       0.98      0.98      0.98      4973\n",
      "         1.0       0.55      0.62      0.58       233\n",
=======
      "         0.0       0.99      0.98      0.98      1246\n",
      "         1.0       0.62      0.71      0.66        56\n",
>>>>>>> 9fe0a1c184ecc047f46d11363af5258dfc96dea0
      "\n",
<<<<<<< HEAD
      "    accuracy                           0.94      2603\n",
      "   macro avg       0.69      0.84      0.74      2603\n",
      "weighted avg       0.96      0.94      0.95      2603\n",
||||||| 98fd509
      "    accuracy                           0.96      5206\n",
      "   macro avg       0.77      0.80      0.78      5206\n",
      "weighted avg       0.96      0.96      0.96      5206\n",
=======
      "    accuracy                           0.97      1302\n",
      "   macro avg       0.80      0.85      0.82      1302\n",
      "weighted avg       0.97      0.97      0.97      1302\n",
>>>>>>> 9fe0a1c184ecc047f46d11363af5258dfc96dea0
      "\n",
      "other_aid\n",
      "              precision    recall  f1-score   support\n",
      "\n",
<<<<<<< HEAD
      "         0.0       0.93      0.86      0.89      2286\n",
      "         1.0       0.34      0.53      0.41       317\n",
||||||| 98fd509
      "         0.0       0.92      0.85      0.88      4521\n",
      "         1.0       0.33      0.50      0.40       685\n",
=======
      "         0.0       0.91      0.83      0.87      1137\n",
      "         1.0       0.28      0.45      0.35       165\n",
>>>>>>> 9fe0a1c184ecc047f46d11363af5258dfc96dea0
      "\n",
<<<<<<< HEAD
      "    accuracy                           0.82      2603\n",
      "   macro avg       0.63      0.69      0.65      2603\n",
      "weighted avg       0.86      0.82      0.83      2603\n",
||||||| 98fd509
      "    accuracy                           0.80      5206\n",
      "   macro avg       0.62      0.67      0.64      5206\n",
      "weighted avg       0.84      0.80      0.82      5206\n",
=======
      "    accuracy                           0.78      1302\n",
      "   macro avg       0.60      0.64      0.61      1302\n",
      "weighted avg       0.83      0.78      0.80      1302\n",
>>>>>>> 9fe0a1c184ecc047f46d11363af5258dfc96dea0
      "\n",
      "infrastructure_related\n",
      "              precision    recall  f1-score   support\n",
      "\n",
<<<<<<< HEAD
      "         0.0       0.96      0.89      0.93      2444\n",
      "         1.0       0.22      0.45      0.29       159\n",
||||||| 98fd509
      "         0.0       0.95      0.92      0.94      4865\n",
      "         1.0       0.23      0.33      0.27       341\n",
=======
      "         0.0       0.96      0.91      0.93      1213\n",
      "         1.0       0.26      0.43      0.32        89\n",
>>>>>>> 9fe0a1c184ecc047f46d11363af5258dfc96dea0
      "\n",
<<<<<<< HEAD
      "    accuracy                           0.87      2603\n",
      "   macro avg       0.59      0.67      0.61      2603\n",
      "weighted avg       0.92      0.87      0.89      2603\n",
||||||| 98fd509
      "    accuracy                           0.88      5206\n",
      "   macro avg       0.59      0.62      0.60      5206\n",
      "weighted avg       0.90      0.88      0.89      5206\n",
=======
      "    accuracy                           0.88      1302\n",
      "   macro avg       0.61      0.67      0.63      1302\n",
      "weighted avg       0.91      0.88      0.89      1302\n",
>>>>>>> 9fe0a1c184ecc047f46d11363af5258dfc96dea0
      "\n",
      "transport\n",
      "              precision    recall  f1-score   support\n",
      "\n",
<<<<<<< HEAD
      "         0.0       0.97      0.94      0.95      2486\n",
      "         1.0       0.23      0.39      0.29       117\n",
||||||| 98fd509
      "         0.0       0.97      0.95      0.96      4967\n",
      "         1.0       0.25      0.37      0.29       239\n",
=======
      "         0.0       0.97      0.93      0.95      1245\n",
      "         1.0       0.20      0.40      0.27        57\n",
>>>>>>> 9fe0a1c184ecc047f46d11363af5258dfc96dea0
      "\n",
<<<<<<< HEAD
      "    accuracy                           0.91      2603\n",
      "   macro avg       0.60      0.67      0.62      2603\n",
      "weighted avg       0.94      0.91      0.92      2603\n",
||||||| 98fd509
      "    accuracy                           0.92      5206\n",
      "   macro avg       0.61      0.66      0.63      5206\n",
      "weighted avg       0.94      0.92      0.93      5206\n",
=======
      "    accuracy                           0.90      1302\n",
      "   macro avg       0.59      0.67      0.61      1302\n",
      "weighted avg       0.94      0.90      0.92      1302\n",
>>>>>>> 9fe0a1c184ecc047f46d11363af5258dfc96dea0
      "\n",
      "buildings\n",
      "              precision    recall  f1-score   support\n",
      "\n",
<<<<<<< HEAD
      "         0.0       0.98      0.94      0.96      2460\n",
      "         1.0       0.38      0.66      0.48       143\n",
||||||| 98fd509
      "         0.0       0.97      0.96      0.97      4946\n",
      "         1.0       0.43      0.51      0.47       260\n",
=======
      "         0.0       0.97      0.96      0.97      1230\n",
      "         1.0       0.44      0.53      0.48        72\n",
>>>>>>> 9fe0a1c184ecc047f46d11363af5258dfc96dea0
      "\n",
<<<<<<< HEAD
      "    accuracy                           0.92      2603\n",
      "   macro avg       0.68      0.80      0.72      2603\n",
      "weighted avg       0.95      0.92      0.93      2603\n",
||||||| 98fd509
      "    accuracy                           0.94      5206\n",
      "   macro avg       0.70      0.74      0.72      5206\n",
      "weighted avg       0.95      0.94      0.94      5206\n",
=======
      "    accuracy                           0.94      1302\n",
      "   macro avg       0.70      0.74      0.72      1302\n",
      "weighted avg       0.94      0.94      0.94      1302\n",
>>>>>>> 9fe0a1c184ecc047f46d11363af5258dfc96dea0
      "\n",
      "electricity\n",
      "              precision    recall  f1-score   support\n",
      "\n",
<<<<<<< HEAD
      "         0.0       0.99      0.98      0.99      2552\n",
      "         1.0       0.38      0.59      0.47        51\n",
||||||| 98fd509
      "         0.0       0.99      0.99      0.99      5104\n",
      "         1.0       0.46      0.50      0.48       102\n",
=======
      "         0.0       0.99      0.98      0.99      1273\n",
      "         1.0       0.42      0.55      0.48        29\n",
>>>>>>> 9fe0a1c184ecc047f46d11363af5258dfc96dea0
      "\n",
<<<<<<< HEAD
      "    accuracy                           0.97      2603\n",
      "   macro avg       0.69      0.78      0.73      2603\n",
      "weighted avg       0.98      0.97      0.98      2603\n",
||||||| 98fd509
      "    accuracy                           0.98      5206\n",
      "   macro avg       0.72      0.74      0.73      5206\n",
      "weighted avg       0.98      0.98      0.98      5206\n",
=======
      "    accuracy                           0.97      1302\n",
      "   macro avg       0.71      0.77      0.73      1302\n",
      "weighted avg       0.98      0.97      0.97      1302\n",
>>>>>>> 9fe0a1c184ecc047f46d11363af5258dfc96dea0
      "\n",
      "tools\n",
      "              precision    recall  f1-score   support\n",
      "\n",
<<<<<<< HEAD
      "         0.0       0.99      0.93      0.96      2587\n",
      "         1.0       0.01      0.12      0.02        16\n",
||||||| 98fd509
      "         0.0       0.99      1.00      1.00      5173\n",
      "         1.0       0.00      0.00      0.00        33\n",
=======
      "         0.0       1.00      1.00      1.00      1297\n",
      "         1.0       0.00      0.00      0.00         5\n",
>>>>>>> 9fe0a1c184ecc047f46d11363af5258dfc96dea0
      "\n",
<<<<<<< HEAD
      "    accuracy                           0.92      2603\n",
      "   macro avg       0.50      0.53      0.49      2603\n",
      "weighted avg       0.99      0.92      0.95      2603\n",
||||||| 98fd509
      "    accuracy                           0.99      5206\n",
      "   macro avg       0.50      0.50      0.50      5206\n",
      "weighted avg       0.99      0.99      0.99      5206\n",
=======
      "    accuracy                           0.99      1302\n",
      "   macro avg       0.50      0.50      0.50      1302\n",
      "weighted avg       0.99      0.99      0.99      1302\n",
>>>>>>> 9fe0a1c184ecc047f46d11363af5258dfc96dea0
      "\n",
      "hospitals\n",
      "              precision    recall  f1-score   support\n",
      "\n",
<<<<<<< HEAD
      "         0.0       0.99      0.95      0.97      2573\n",
      "         1.0       0.08      0.40      0.13        30\n",
||||||| 98fd509
      "         0.0       0.99      0.99      0.99      5157\n",
      "         1.0       0.27      0.24      0.26        49\n",
=======
      "         0.0       0.99      0.99      0.99      1285\n",
      "         1.0       0.27      0.18      0.21        17\n",
>>>>>>> 9fe0a1c184ecc047f46d11363af5258dfc96dea0
      "\n",
<<<<<<< HEAD
      "    accuracy                           0.94      2603\n",
      "   macro avg       0.54      0.67      0.55      2603\n",
      "weighted avg       0.98      0.94      0.96      2603\n",
||||||| 98fd509
      "    accuracy                           0.99      5206\n",
      "   macro avg       0.63      0.62      0.62      5206\n",
      "weighted avg       0.99      0.99      0.99      5206\n",
=======
      "    accuracy                           0.98      1302\n",
      "   macro avg       0.63      0.59      0.60      1302\n",
      "weighted avg       0.98      0.98      0.98      1302\n",
>>>>>>> 9fe0a1c184ecc047f46d11363af5258dfc96dea0
      "\n",
      "shops\n",
      "              precision    recall  f1-score   support\n",
      "\n",
<<<<<<< HEAD
      "         0.0       1.00      0.89      0.94      2592\n",
      "         1.0       0.01      0.27      0.02        11\n",
||||||| 98fd509
      "         0.0       1.00      1.00      1.00      5184\n",
      "         1.0       0.00      0.00      0.00        22\n",
=======
      "         0.0       1.00      1.00      1.00      1299\n",
      "         1.0       0.25      0.33      0.29         3\n",
>>>>>>> 9fe0a1c184ecc047f46d11363af5258dfc96dea0
      "\n",
<<<<<<< HEAD
      "    accuracy                           0.88      2603\n",
      "   macro avg       0.50      0.58      0.48      2603\n",
      "weighted avg       0.99      0.88      0.93      2603\n",
||||||| 98fd509
      "    accuracy                           0.99      5206\n",
      "   macro avg       0.50      0.50      0.50      5206\n",
      "weighted avg       0.99      0.99      0.99      5206\n",
=======
      "    accuracy                           1.00      1302\n",
      "   macro avg       0.62      0.67      0.64      1302\n",
      "weighted avg       1.00      1.00      1.00      1302\n",
>>>>>>> 9fe0a1c184ecc047f46d11363af5258dfc96dea0
      "\n",
      "aid_centers\n",
      "              precision    recall  f1-score   support\n",
      "\n",
<<<<<<< HEAD
      "         0.0       0.99      0.95      0.97      2569\n",
      "         1.0       0.10      0.47      0.17        34\n",
||||||| 98fd509
      "         0.0       0.99      0.99      0.99      5144\n",
      "         1.0       0.20      0.19      0.20        62\n",
=======
      "         0.0       0.99      0.99      0.99      1286\n",
      "         1.0       0.12      0.12      0.12        16\n",
>>>>>>> 9fe0a1c184ecc047f46d11363af5258dfc96dea0
      "\n",
<<<<<<< HEAD
      "    accuracy                           0.94      2603\n",
      "   macro avg       0.55      0.71      0.57      2603\n",
      "weighted avg       0.98      0.94      0.96      2603\n",
||||||| 98fd509
      "    accuracy                           0.98      5206\n",
      "   macro avg       0.60      0.59      0.59      5206\n",
      "weighted avg       0.98      0.98      0.98      5206\n",
=======
      "    accuracy                           0.98      1302\n",
      "   macro avg       0.55      0.56      0.55      1302\n",
      "weighted avg       0.98      0.98      0.98      1302\n",
>>>>>>> 9fe0a1c184ecc047f46d11363af5258dfc96dea0
      "\n",
      "other_infrastructure\n",
      "              precision    recall  f1-score   support\n",
      "\n",
<<<<<<< HEAD
      "         0.0       0.97      0.90      0.94      2499\n",
      "         1.0       0.16      0.44      0.23       104\n",
||||||| 98fd509
      "         0.0       0.96      0.95      0.96      4973\n",
      "         1.0       0.17      0.22      0.19       233\n",
=======
      "         0.0       0.97      0.94      0.96      1241\n",
      "         1.0       0.27      0.41      0.32        61\n",
>>>>>>> 9fe0a1c184ecc047f46d11363af5258dfc96dea0
      "\n",
<<<<<<< HEAD
      "    accuracy                           0.88      2603\n",
      "   macro avg       0.57      0.67      0.58      2603\n",
      "weighted avg       0.94      0.88      0.91      2603\n",
||||||| 98fd509
      "    accuracy                           0.92      5206\n",
      "   macro avg       0.57      0.59      0.58      5206\n",
      "weighted avg       0.93      0.92      0.92      5206\n",
=======
      "    accuracy                           0.92      1302\n",
      "   macro avg       0.62      0.68      0.64      1302\n",
      "weighted avg       0.94      0.92      0.93      1302\n",
>>>>>>> 9fe0a1c184ecc047f46d11363af5258dfc96dea0
      "\n",
      "weather_related\n",
      "              precision    recall  f1-score   support\n",
      "\n",
<<<<<<< HEAD
      "         0.0       0.86      0.96      0.91      1865\n",
      "         1.0       0.85      0.60      0.70       738\n",
||||||| 98fd509
      "         0.0       0.91      0.90      0.91      3775\n",
      "         1.0       0.75      0.77      0.76      1431\n",
=======
      "         0.0       0.93      0.90      0.92       923\n",
      "         1.0       0.78      0.85      0.81       379\n",
>>>>>>> 9fe0a1c184ecc047f46d11363af5258dfc96dea0
      "\n",
<<<<<<< HEAD
      "    accuracy                           0.86      2603\n",
      "   macro avg       0.85      0.78      0.80      2603\n",
      "weighted avg       0.86      0.86      0.85      2603\n",
||||||| 98fd509
      "    accuracy                           0.86      5206\n",
      "   macro avg       0.83      0.84      0.83      5206\n",
      "weighted avg       0.87      0.86      0.87      5206\n",
=======
      "    accuracy                           0.89      1302\n",
      "   macro avg       0.86      0.87      0.86      1302\n",
      "weighted avg       0.89      0.89      0.89      1302\n",
>>>>>>> 9fe0a1c184ecc047f46d11363af5258dfc96dea0
      "\n",
      "floods\n",
      "              precision    recall  f1-score   support\n",
      "\n",
<<<<<<< HEAD
      "         0.0       0.97      0.97      0.97      2394\n",
      "         1.0       0.64      0.67      0.66       209\n",
||||||| 98fd509
      "         0.0       0.97      0.96      0.96      4761\n",
      "         1.0       0.58      0.63      0.60       445\n",
=======
      "         0.0       0.97      0.95      0.96      1193\n",
      "         1.0       0.56      0.70      0.62       109\n",
>>>>>>> 9fe0a1c184ecc047f46d11363af5258dfc96dea0
      "\n",
<<<<<<< HEAD
      "    accuracy                           0.94      2603\n",
      "   macro avg       0.81      0.82      0.81      2603\n",
      "weighted avg       0.94      0.94      0.94      2603\n",
||||||| 98fd509
      "    accuracy                           0.93      5206\n",
      "   macro avg       0.77      0.79      0.78      5206\n",
      "weighted avg       0.93      0.93      0.93      5206\n",
=======
      "    accuracy                           0.93      1302\n",
      "   macro avg       0.77      0.82      0.79      1302\n",
      "weighted avg       0.94      0.93      0.93      1302\n",
>>>>>>> 9fe0a1c184ecc047f46d11363af5258dfc96dea0
      "\n",
      "storm\n",
      "              precision    recall  f1-score   support\n",
      "\n",
<<<<<<< HEAD
      "         0.0       0.97      0.96      0.96      2345\n",
      "         1.0       0.66      0.71      0.69       258\n",
||||||| 98fd509
      "         0.0       0.97      0.96      0.97      4728\n",
      "         1.0       0.64      0.74      0.69       478\n",
=======
      "         0.0       0.98      0.96      0.97      1163\n",
      "         1.0       0.72      0.85      0.78       139\n",
>>>>>>> 9fe0a1c184ecc047f46d11363af5258dfc96dea0
      "\n",
<<<<<<< HEAD
      "    accuracy                           0.94      2603\n",
      "   macro avg       0.81      0.84      0.82      2603\n",
      "weighted avg       0.94      0.94      0.94      2603\n",
||||||| 98fd509
      "    accuracy                           0.94      5206\n",
      "   macro avg       0.81      0.85      0.83      5206\n",
      "weighted avg       0.94      0.94      0.94      5206\n",
=======
      "    accuracy                           0.95      1302\n",
      "   macro avg       0.85      0.90      0.87      1302\n",
      "weighted avg       0.95      0.95      0.95      1302\n",
>>>>>>> 9fe0a1c184ecc047f46d11363af5258dfc96dea0
      "\n",
      "fire\n"
     ]
    },
    {
     "name": "stdout",
     "output_type": "stream",
     "text": [
      "              precision    recall  f1-score   support\n",
      "\n",
<<<<<<< HEAD
      "         0.0       0.99      0.96      0.98      2570\n",
      "         1.0       0.14      0.45      0.21        33\n",
||||||| 98fd509
      "         0.0       0.99      1.00      0.99      5152\n",
      "         1.0       0.44      0.35      0.39        54\n",
=======
      "         0.0       0.99      0.99      0.99      1288\n",
      "         1.0       0.39      0.50      0.44        14\n",
>>>>>>> 9fe0a1c184ecc047f46d11363af5258dfc96dea0
      "\n",
<<<<<<< HEAD
      "    accuracy                           0.96      2603\n",
      "   macro avg       0.57      0.71      0.59      2603\n",
      "weighted avg       0.98      0.96      0.97      2603\n",
||||||| 98fd509
      "    accuracy                           0.99      5206\n",
      "   macro avg       0.72      0.67      0.69      5206\n",
      "weighted avg       0.99      0.99      0.99      5206\n",
=======
      "    accuracy                           0.99      1302\n",
      "   macro avg       0.69      0.75      0.72      1302\n",
      "weighted avg       0.99      0.99      0.99      1302\n",
>>>>>>> 9fe0a1c184ecc047f46d11363af5258dfc96dea0
      "\n",
      "earthquake\n",
      "              precision    recall  f1-score   support\n",
      "\n",
<<<<<<< HEAD
      "         0.0       0.98      0.98      0.98      2348\n",
      "         1.0       0.82      0.80      0.81       255\n",
||||||| 98fd509
      "         0.0       0.98      0.98      0.98      4742\n",
      "         1.0       0.80      0.83      0.81       464\n",
=======
      "         0.0       0.98      0.97      0.98      1178\n",
      "         1.0       0.76      0.81      0.78       124\n",
>>>>>>> 9fe0a1c184ecc047f46d11363af5258dfc96dea0
      "\n",
<<<<<<< HEAD
      "    accuracy                           0.96      2603\n",
      "   macro avg       0.90      0.89      0.89      2603\n",
      "weighted avg       0.96      0.96      0.96      2603\n",
||||||| 98fd509
      "    accuracy                           0.97      5206\n",
      "   macro avg       0.89      0.90      0.90      5206\n",
      "weighted avg       0.97      0.97      0.97      5206\n",
=======
      "    accuracy                           0.96      1302\n",
      "   macro avg       0.87      0.89      0.88      1302\n",
      "weighted avg       0.96      0.96      0.96      1302\n",
>>>>>>> 9fe0a1c184ecc047f46d11363af5258dfc96dea0
      "\n",
      "cold\n",
      "              precision    recall  f1-score   support\n",
      "\n",
<<<<<<< HEAD
      "         0.0       0.99      0.99      0.99      2540\n",
      "         1.0       0.54      0.60      0.57        63\n",
||||||| 98fd509
      "         0.0       0.99      0.99      0.99      5098\n",
      "         1.0       0.48      0.42      0.45       108\n",
=======
      "         0.0       0.99      0.99      0.99      1269\n",
      "         1.0       0.56      0.55      0.55        33\n",
>>>>>>> 9fe0a1c184ecc047f46d11363af5258dfc96dea0
      "\n",
<<<<<<< HEAD
      "    accuracy                           0.98      2603\n",
      "   macro avg       0.76      0.80      0.78      2603\n",
      "weighted avg       0.98      0.98      0.98      2603\n",
||||||| 98fd509
      "    accuracy                           0.98      5206\n",
      "   macro avg       0.74      0.70      0.72      5206\n",
      "weighted avg       0.98      0.98      0.98      5206\n",
=======
      "    accuracy                           0.98      1302\n",
      "   macro avg       0.78      0.77      0.77      1302\n",
      "weighted avg       0.98      0.98      0.98      1302\n",
>>>>>>> 9fe0a1c184ecc047f46d11363af5258dfc96dea0
      "\n",
      "other_weather\n",
      "              precision    recall  f1-score   support\n",
      "\n",
<<<<<<< HEAD
      "         0.0       0.96      0.96      0.96      2475\n",
      "         1.0       0.28      0.27      0.27       128\n",
||||||| 98fd509
      "         0.0       0.96      0.95      0.95      4932\n",
      "         1.0       0.26      0.34      0.29       274\n",
=======
      "         0.0       0.97      0.92      0.94      1231\n",
      "         1.0       0.26      0.48      0.34        71\n",
>>>>>>> 9fe0a1c184ecc047f46d11363af5258dfc96dea0
      "\n",
<<<<<<< HEAD
      "    accuracy                           0.93      2603\n",
      "   macro avg       0.62      0.62      0.62      2603\n",
      "weighted avg       0.93      0.93      0.93      2603\n",
||||||| 98fd509
      "    accuracy                           0.91      5206\n",
      "   macro avg       0.61      0.64      0.62      5206\n",
      "weighted avg       0.93      0.91      0.92      5206\n",
=======
      "    accuracy                           0.90      1302\n",
      "   macro avg       0.61      0.70      0.64      1302\n",
      "weighted avg       0.93      0.90      0.91      1302\n",
>>>>>>> 9fe0a1c184ecc047f46d11363af5258dfc96dea0
      "\n",
      "direct_report\n",
      "              precision    recall  f1-score   support\n",
      "\n",
<<<<<<< HEAD
      "         0.0       0.89      0.85      0.87      2105\n",
      "         1.0       0.48      0.56      0.51       498\n",
||||||| 98fd509
      "         0.0       0.91      0.86      0.89      4166\n",
      "         1.0       0.55      0.68      0.61      1040\n",
=======
      "         0.0       0.92      0.85      0.88      1048\n",
      "         1.0       0.53      0.67      0.59       254\n",
>>>>>>> 9fe0a1c184ecc047f46d11363af5258dfc96dea0
      "\n",
<<<<<<< HEAD
      "    accuracy                           0.80      2603\n",
      "   macro avg       0.68      0.71      0.69      2603\n",
      "weighted avg       0.81      0.80      0.80      2603\n",
||||||| 98fd509
      "    accuracy                           0.82      5206\n",
      "   macro avg       0.73      0.77      0.75      5206\n",
      "weighted avg       0.84      0.82      0.83      5206\n",
=======
      "    accuracy                           0.82      1302\n",
      "   macro avg       0.72      0.76      0.74      1302\n",
      "weighted avg       0.84      0.82      0.83      1302\n",
>>>>>>> 9fe0a1c184ecc047f46d11363af5258dfc96dea0
      "\n"
     ]
    }
   ],
   "source": [
    "y_pred_tree = tree.predict(X_test)\n",
    "y_pred_tree = pd.DataFrame(y_pred_tree, columns = list(Y.columns))\n",
    "y_test = y_test.reset_index(drop = True)\n",
    "for i, var in enumerate(Y):\n",
    "    print(var)\n",
    "    print(classification_report(y_test.iloc[:,i], y_pred_tree.iloc[:,i]))"
   ]
  },
  {
   "cell_type": "code",
   "execution_count": 27,
   "id": "608ca7a7",
   "metadata": {},
   "outputs": [],
   "source": [
    "for i, var in enumerate(Y):\n",
    "    classification_reports[var] = (classification_report(y_test.iloc[:,i], y_pred_tree.iloc[:,i]));"
   ]
  },
  {
   "cell_type": "code",
   "execution_count": 28,
   "id": "eeedc488",
   "metadata": {},
   "outputs": [],
   "source": [
    "tree_report = df_from_sklearn_cl_reports(classification_reports)"
   ]
  },
  {
<<<<<<< HEAD
   "cell_type": "markdown",
   "id": "8f99724e",
||||||| 98fd509
   "cell_type": "code",
   "execution_count": 48,
   "id": "efb726a4",
=======
   "cell_type": "code",
   "execution_count": 17,
   "id": "efb726a4",
>>>>>>> 9fe0a1c184ecc047f46d11363af5258dfc96dea0
   "metadata": {},
<<<<<<< HEAD
||||||| 98fd509
   "outputs": [
    {
     "data": {
      "text/plain": [
       "['cold',\n",
       " 'electricity',\n",
       " 'military',\n",
       " 'fire',\n",
       " 'buildings',\n",
       " 'money',\n",
       " 'medical_help',\n",
       " 'medical_products',\n",
       " 'refugees',\n",
       " 'other_aid',\n",
       " 'missing_people',\n",
       " 'hospitals',\n",
       " 'other_weather',\n",
       " 'transport',\n",
       " 'infrastructure_related',\n",
       " 'search_and_rescue',\n",
       " 'aid_centers',\n",
       " 'other_infrastructure',\n",
       " 'security',\n",
       " 'offer',\n",
       " 'shops',\n",
       " 'tools']"
      ]
     },
     "execution_count": 48,
     "metadata": {},
     "output_type": "execute_result"
    }
   ],
=======
   "outputs": [
    {
     "data": {
      "text/plain": [
       "0.4259999999999999"
      ]
     },
     "execution_count": 17,
     "metadata": {},
     "output_type": "execute_result"
    }
   ],
>>>>>>> 9fe0a1c184ecc047f46d11363af5258dfc96dea0
   "source": [
<<<<<<< HEAD
    "#### Mean precision for True over all categories"
||||||| 98fd509
    "svc_precisions = svc_report.loc[\n",
    "    svc_report.label == 1].groupby(\n",
    "    [\"communicate\"])[\"precisions\"].mean().sort_values(ascending = False)"
=======
    "svc_precisions = svc_report.loc[\n",
    "    svc_report.label == 1].groupby(\n",
    "    [\"communicate\"])[\"precisions\"].mean().sort_values(ascending = False)\n",
    "svc_precisions.mean()"
>>>>>>> 9fe0a1c184ecc047f46d11363af5258dfc96dea0
   ]
  },
  {
   "cell_type": "code",
<<<<<<< HEAD
   "execution_count": 29,
   "id": "db944fac",
   "metadata": {
    "scrolled": true
   },
||||||| 98fd509
   "execution_count": 47,
   "id": "ceb0f1a6",
   "metadata": {},
=======
   "execution_count": 18,
   "id": "ceb0f1a6",
   "metadata": {},
>>>>>>> 9fe0a1c184ecc047f46d11363af5258dfc96dea0
   "outputs": [
    {
     "data": {
      "text/plain": [
<<<<<<< HEAD
       "0.35558823529411776"
||||||| 98fd509
       "['money',\n",
       " 'refugees',\n",
       " 'cold',\n",
       " 'transport',\n",
       " 'fire',\n",
       " 'other_weather',\n",
       " 'infrastructure_related',\n",
       " 'search_and_rescue',\n",
       " 'hospitals',\n",
       " 'other_infrastructure',\n",
       " 'missing_people',\n",
       " 'aid_centers',\n",
       " 'security',\n",
       " 'shops',\n",
       " 'tools',\n",
       " 'offer']"
=======
       "0.5182857142857143"
>>>>>>> 9fe0a1c184ecc047f46d11363af5258dfc96dea0
      ]
     },
<<<<<<< HEAD
     "execution_count": 29,
||||||| 98fd509
     "execution_count": 47,
=======
     "execution_count": 18,
>>>>>>> 9fe0a1c184ecc047f46d11363af5258dfc96dea0
     "metadata": {},
     "output_type": "execute_result"
    }
   ],
   "source": [
<<<<<<< HEAD
    "decision_tree_precisions = tree_report.loc[tree_report.label == 1].groupby(\n",
    "    [\"communicate\"])[\"precisions\"].mean().sort_values(ascending = False)\n",
    "decision_tree_precisions.mean()"
   ]
  },
  {
   "cell_type": "markdown",
   "id": "566c0408",
   "metadata": {},
   "source": [
    "#### Precisions for True for each category"
   ]
  },
  {
   "cell_type": "code",
   "execution_count": 30,
   "id": "270338c4",
   "metadata": {},
   "outputs": [
    {
     "data": {
      "text/plain": [
       "communicate\n",
       "weather_related           0.85\n",
       "earthquake                0.82\n",
       "food                      0.68\n",
       "aid_related               0.67\n",
       "storm                     0.66\n",
       "floods                    0.64\n",
       "shelter                   0.61\n",
       "water                     0.58\n",
       "cold                      0.54\n",
       "request                   0.54\n",
       "military                  0.51\n",
       "direct_report             0.48\n",
       "medical_help              0.46\n",
       "death                     0.39\n",
       "electricity               0.38\n",
       "buildings                 0.38\n",
       "other_aid                 0.34\n",
       "clothing                  0.30\n",
       "other_weather             0.28\n",
       "security                  0.25\n",
       "money                     0.25\n",
       "medical_products          0.24\n",
       "transport                 0.23\n",
       "infrastructure_related    0.22\n",
       "other_infrastructure      0.16\n",
       "refugees                  0.15\n",
       "fire                      0.14\n",
       "aid_centers               0.10\n",
       "search_and_rescue         0.08\n",
       "hospitals                 0.08\n",
       "missing_people            0.04\n",
       "offer                     0.02\n",
       "shops                     0.01\n",
       "tools                     0.01\n",
       "Name: precisions, dtype: float64"
      ]
     },
     "execution_count": 30,
     "metadata": {},
     "output_type": "execute_result"
    }
   ],
||||||| 98fd509
    "svc_recalls = svc_report.loc[\n",
    "    svc_report.label == 1].groupby(\n",
    "    [\"communicate\"])[\"recalls\"].mean().sort_values(ascending = False)"
   ]
  },
  {
   "cell_type": "code",
   "execution_count": 49,
   "id": "4baa35e1",
   "metadata": {},
   "outputs": [
    {
     "data": {
      "text/plain": [
       "['cold',\n",
       " 'electricity',\n",
       " 'military',\n",
       " 'fire',\n",
       " 'buildings',\n",
       " 'money',\n",
       " 'medical_help',\n",
       " 'medical_products',\n",
       " 'refugees',\n",
       " 'other_aid',\n",
       " 'missing_people',\n",
       " 'hospitals',\n",
       " 'other_weather',\n",
       " 'transport',\n",
       " 'infrastructure_related',\n",
       " 'search_and_rescue',\n",
       " 'aid_centers',\n",
       " 'other_infrastructure',\n",
       " 'security',\n",
       " 'offer',\n",
       " 'shops',\n",
       " 'tools',\n",
       " 'money',\n",
       " 'refugees',\n",
       " 'cold',\n",
       " 'transport',\n",
       " 'fire',\n",
       " 'other_weather',\n",
       " 'infrastructure_related',\n",
       " 'search_and_rescue',\n",
       " 'hospitals',\n",
       " 'other_infrastructure',\n",
       " 'missing_people',\n",
       " 'aid_centers',\n",
       " 'security',\n",
       " 'shops',\n",
       " 'tools',\n",
       " 'offer']"
      ]
     },
     "execution_count": 49,
     "metadata": {},
     "output_type": "execute_result"
    }
   ],
   "source": []
  },
  {
   "cell_type": "markdown",
   "id": "848314d0",
   "metadata": {},
   "source": [
    "\n",
    ">Undersampling still gives poor results - escpecially for recall which is very important in disaster response system. Undersampling may not necesserilly work good in multioutput problems, because of possible noise beeing added to the data set.\n",
    "Moreover, if we really want to balance all of the classes via undersampling we will end up with very small data set (some imbalanced classes are much less numerous than the better balanced ones). Hence the next iterration will be conducted with **´class weights´** adjustments and without any reduction of the data set size."
   ]
  },
  {
   "cell_type": "markdown",
   "id": "f23f1a2f",
   "metadata": {},
   "source": [
    "## Adaboost SVC"
   ]
  },
  {
   "cell_type": "code",
   "execution_count": null,
   "id": "d1a15564",
   "metadata": {},
   "outputs": [],
=======
    "svc_recalls = svc_report.loc[\n",
    "    svc_report.label == 1].groupby(\n",
    "    [\"communicate\"])[\"recalls\"].mean().sort_values(ascending = False)\n",
    "svc_recalls.mean()"
   ]
  },
  {
   "cell_type": "markdown",
   "id": "79f4cf3c",
   "metadata": {},
>>>>>>> 9fe0a1c184ecc047f46d11363af5258dfc96dea0
   "source": [
<<<<<<< HEAD
    "decision_tree_precisions"
   ]
  },
  {
   "cell_type": "markdown",
   "id": "d9362a64",
||||||| 98fd509
    "classification_reports.clear()"
   ]
  },
  {
   "cell_type": "code",
   "execution_count": null,
   "id": "e2e7c6e7",
   "metadata": {},
   "outputs": [],
   "source": [
    "adaSVC = make_sklearn_pipeline(verbose = True, steps = [('vect', CountVectorizer(tokenizer = tokenize)),\n",
    "                           ('tfidf', TfidfTransformer()),                                              \n",
    "                       ('clf', MultiOutputClassifier(estimator = AdaBoostClassifier(\n",
    "                           LinearSVC(class_weight = \"balanced\"),algorithm=\"SAMME\")))])"
   ]
  },
  {
   "cell_type": "code",
   "execution_count": null,
   "id": "f8b367aa",
   "metadata": {},
   "outputs": [],
   "source": [
    "adaSVC.fit(X_train, y_train)"
   ]
  },
  {
   "cell_type": "code",
   "execution_count": null,
   "id": "b21a4935",
   "metadata": {},
   "outputs": [],
   "source": []
  },
  {
   "cell_type": "markdown",
   "id": "57e536d8",
   "metadata": {},
   "source": [
    "##### Predicting and classification report"
   ]
  },
  {
   "cell_type": "code",
   "execution_count": null,
   "id": "19a5a2fe",
   "metadata": {},
   "outputs": [],
   "source": [
    "y_pred_ada_svc = adaSVC.predict(X_test)\n",
    "y_pred_ada_svc = pd.DataFrame(y_pred_ada_svc, columns = list(Y.columns))\n",
    "y_test = y_test.reset_index(drop = True)\n",
    "for i, var in enumerate(Y):\n",
    "    print(var)\n",
    "    print(classification_report(y_test.iloc[:,i], y_pred_ada_svc.iloc[:,i]))"
   ]
  },
  {
   "cell_type": "markdown",
   "id": "0d5fd536",
   "metadata": {},
   "source": [
    "##### Providing a data frame for easier results assessment"
   ]
  },
  {
   "cell_type": "code",
   "execution_count": null,
   "id": "ccf8a60c",
=======
    "#### 3.2 DecisionTree"
   ]
  },
  {
   "cell_type": "code",
   "execution_count": 19,
   "id": "251c0772",
   "metadata": {},
   "outputs": [],
   "source": [
    "Tree = make_sklearn_pipeline(verbose = True, steps = [('vect', CountVectorizer(tokenizer = tokenize)),\n",
    "                           ('tfidf', TfidfTransformer()),                                              \n",
    "                           ('clf', MultiOutputClassifier(estimator = DecisionTreeClassifier\n",
    "                                                         (max_depth=7, min_samples_leaf=1, \n",
    "                                                          class_weight = \"balanced\",\n",
    "                                                          random_state = 42)))])"
   ]
  },
  {
   "cell_type": "code",
   "execution_count": 20,
   "id": "54d6a2d1",
   "metadata": {},
   "outputs": [],
   "source": [
    "classification_reports.clear()"
   ]
  },
  {
   "cell_type": "code",
   "execution_count": 21,
   "id": "a094de1f",
   "metadata": {},
   "outputs": [
    {
     "name": "stdout",
     "output_type": "stream",
     "text": [
      "[Pipeline] .............. (step 1 of 3) Processing vect, total= 3.3min\n",
      "[Pipeline] ............. (step 2 of 3) Processing tfidf, total=   0.0s\n",
      "[Pipeline] ............... (step 3 of 3) Processing clf, total=   8.0s\n"
     ]
    },
    {
     "data": {
      "text/plain": [
       "Pipeline(steps=[('vect',\n",
       "                 CountVectorizer(tokenizer=<function tokenize at 0x000001C1B4F6AE50>)),\n",
       "                ('tfidf', TfidfTransformer()),\n",
       "                ('clf',\n",
       "                 MultiOutputClassifier(estimator=DecisionTreeClassifier(class_weight='balanced',\n",
       "                                                                        max_depth=7,\n",
       "                                                                        random_state=42)))],\n",
       "         verbose=True)"
      ]
     },
     "execution_count": 21,
     "metadata": {},
     "output_type": "execute_result"
    }
   ],
   "source": [
    "Tree.fit(X_train, y_train)"
   ]
  },
  {
   "cell_type": "code",
   "execution_count": 22,
   "id": "17ac49f9",
   "metadata": {},
   "outputs": [
    {
     "name": "stdout",
     "output_type": "stream",
     "text": [
      "related\n",
      "              precision    recall  f1-score   support\n",
      "\n",
      "         0.0       0.34      0.86      0.48       321\n",
      "         1.0       0.91      0.44      0.59       981\n",
      "\n",
      "    accuracy                           0.55      1302\n",
      "   macro avg       0.62      0.65      0.54      1302\n",
      "weighted avg       0.77      0.55      0.57      1302\n",
      "\n",
      "request\n",
      "              precision    recall  f1-score   support\n",
      "\n",
      "         0.0       0.94      0.88      0.91      1088\n",
      "         1.0       0.55      0.72      0.62       214\n",
      "\n",
      "    accuracy                           0.86      1302\n",
      "   macro avg       0.74      0.80      0.77      1302\n",
      "weighted avg       0.88      0.86      0.86      1302\n",
      "\n",
      "offer\n",
      "              precision    recall  f1-score   support\n",
      "\n",
      "         0.0       1.00      0.92      0.96      1295\n",
      "         1.0       0.02      0.29      0.04         7\n",
      "\n",
      "    accuracy                           0.92      1302\n",
      "   macro avg       0.51      0.61      0.50      1302\n",
      "weighted avg       0.99      0.92      0.95      1302\n",
      "\n",
      "aid_related\n",
      "              precision    recall  f1-score   support\n",
      "\n",
      "         0.0       0.74      0.83      0.78       772\n",
      "         1.0       0.70      0.57      0.63       530\n",
      "\n",
      "    accuracy                           0.73      1302\n",
      "   macro avg       0.72      0.70      0.71      1302\n",
      "weighted avg       0.72      0.73      0.72      1302\n",
      "\n",
      "medical_help\n",
      "              precision    recall  f1-score   support\n",
      "\n",
      "         0.0       0.94      0.96      0.95      1195\n",
      "         1.0       0.48      0.37      0.42       107\n",
      "\n",
      "    accuracy                           0.91      1302\n",
      "   macro avg       0.71      0.67      0.69      1302\n",
      "weighted avg       0.91      0.91      0.91      1302\n",
      "\n",
      "medical_products\n",
      "              precision    recall  f1-score   support\n",
      "\n",
      "         0.0       0.97      0.90      0.93      1226\n",
      "         1.0       0.26      0.61      0.37        76\n",
      "\n",
      "    accuracy                           0.88      1302\n",
      "   macro avg       0.62      0.75      0.65      1302\n",
      "weighted avg       0.93      0.88      0.90      1302\n",
      "\n",
      "search_and_rescue\n",
      "              precision    recall  f1-score   support\n",
      "\n",
      "         0.0       0.98      0.84      0.91      1264\n",
      "         1.0       0.08      0.47      0.14        38\n",
      "\n",
      "    accuracy                           0.83      1302\n",
      "   macro avg       0.53      0.66      0.52      1302\n",
      "weighted avg       0.96      0.83      0.88      1302\n",
      "\n",
      "security\n",
      "              precision    recall  f1-score   support\n",
      "\n",
      "         0.0       0.99      0.98      0.99      1278\n",
      "         1.0       0.33      0.50      0.40        24\n",
      "\n",
      "    accuracy                           0.97      1302\n",
      "   macro avg       0.66      0.74      0.69      1302\n",
      "weighted avg       0.98      0.97      0.98      1302\n",
      "\n",
      "military\n",
      "              precision    recall  f1-score   support\n",
      "\n",
      "         0.0       0.98      0.98      0.98      1261\n",
      "         1.0       0.40      0.39      0.40        41\n",
      "\n",
      "    accuracy                           0.96      1302\n",
      "   macro avg       0.69      0.69      0.69      1302\n",
      "weighted avg       0.96      0.96      0.96      1302\n",
      "\n",
      "water\n",
      "              precision    recall  f1-score   support\n",
      "\n",
      "         0.0       0.99      0.96      0.98      1206\n",
      "         1.0       0.65      0.89      0.75        96\n",
      "\n",
      "    accuracy                           0.96      1302\n",
      "   macro avg       0.82      0.92      0.86      1302\n",
      "weighted avg       0.97      0.96      0.96      1302\n",
      "\n",
      "food\n",
      "              precision    recall  f1-score   support\n",
      "\n",
      "         0.0       0.98      0.96      0.97      1168\n",
      "         1.0       0.69      0.83      0.75       134\n",
      "\n",
      "    accuracy                           0.94      1302\n",
      "   macro avg       0.83      0.89      0.86      1302\n",
      "weighted avg       0.95      0.94      0.95      1302\n",
      "\n",
      "shelter\n",
      "              precision    recall  f1-score   support\n",
      "\n",
      "         0.0       0.97      0.95      0.96      1180\n",
      "         1.0       0.61      0.75      0.67       122\n",
      "\n",
      "    accuracy                           0.93      1302\n",
      "   macro avg       0.79      0.85      0.82      1302\n",
      "weighted avg       0.94      0.93      0.93      1302\n",
      "\n",
      "clothing\n",
      "              precision    recall  f1-score   support\n",
      "\n",
      "         0.0       1.00      0.95      0.97      1284\n",
      "         1.0       0.18      0.72      0.29        18\n",
      "\n",
      "    accuracy                           0.95      1302\n",
      "   macro avg       0.59      0.84      0.63      1302\n",
      "weighted avg       0.98      0.95      0.96      1302\n",
      "\n",
      "money\n",
      "              precision    recall  f1-score   support\n",
      "\n",
      "         0.0       0.99      0.95      0.97      1274\n",
      "         1.0       0.21      0.61      0.31        28\n",
      "\n",
      "    accuracy                           0.94      1302\n",
      "   macro avg       0.60      0.78      0.64      1302\n",
      "weighted avg       0.97      0.94      0.96      1302\n",
      "\n",
      "missing_people\n",
      "              precision    recall  f1-score   support\n",
      "\n",
      "         0.0       0.99      0.87      0.92      1284\n",
      "         1.0       0.05      0.50      0.09        18\n",
      "\n",
      "    accuracy                           0.86      1302\n",
      "   macro avg       0.52      0.68      0.51      1302\n",
      "weighted avg       0.98      0.86      0.91      1302\n",
      "\n",
      "refugees\n",
      "              precision    recall  f1-score   support\n",
      "\n",
      "         0.0       0.99      0.88      0.93      1260\n",
      "         1.0       0.14      0.62      0.23        42\n",
      "\n",
      "    accuracy                           0.87      1302\n",
      "   macro avg       0.56      0.75      0.58      1302\n",
      "weighted avg       0.96      0.87      0.90      1302\n",
      "\n",
      "death\n",
      "              precision    recall  f1-score   support\n",
      "\n",
      "         0.0       0.99      0.98      0.98      1246\n",
      "         1.0       0.62      0.71      0.67        56\n",
      "\n",
      "    accuracy                           0.97      1302\n",
      "   macro avg       0.81      0.85      0.83      1302\n",
      "weighted avg       0.97      0.97      0.97      1302\n",
      "\n",
      "other_aid\n",
      "              precision    recall  f1-score   support\n",
      "\n",
      "         0.0       0.93      0.87      0.90      1137\n",
      "         1.0       0.37      0.53      0.44       165\n",
      "\n",
      "    accuracy                           0.82      1302\n",
      "   macro avg       0.65      0.70      0.67      1302\n",
      "weighted avg       0.86      0.82      0.84      1302\n",
      "\n",
      "infrastructure_related\n",
      "              precision    recall  f1-score   support\n",
      "\n",
      "         0.0       0.96      0.90      0.93      1213\n",
      "         1.0       0.26      0.48      0.34        89\n",
      "\n",
      "    accuracy                           0.87      1302\n",
      "   macro avg       0.61      0.69      0.63      1302\n",
      "weighted avg       0.91      0.87      0.89      1302\n",
      "\n",
      "transport\n",
      "              precision    recall  f1-score   support\n",
      "\n",
      "         0.0       0.97      0.92      0.95      1245\n",
      "         1.0       0.21      0.46      0.29        57\n",
      "\n",
      "    accuracy                           0.90      1302\n",
      "   macro avg       0.59      0.69      0.62      1302\n",
      "weighted avg       0.94      0.90      0.92      1302\n",
      "\n",
      "buildings\n",
      "              precision    recall  f1-score   support\n",
      "\n",
      "         0.0       0.98      0.94      0.96      1230\n",
      "         1.0       0.38      0.62      0.47        72\n",
      "\n",
      "    accuracy                           0.92      1302\n",
      "   macro avg       0.68      0.78      0.72      1302\n",
      "weighted avg       0.94      0.92      0.93      1302\n",
      "\n",
      "electricity\n",
      "              precision    recall  f1-score   support\n",
      "\n",
      "         0.0       0.99      0.98      0.98      1273\n",
      "         1.0       0.38      0.62      0.47        29\n",
      "\n",
      "    accuracy                           0.97      1302\n",
      "   macro avg       0.68      0.80      0.73      1302\n",
      "weighted avg       0.98      0.97      0.97      1302\n",
      "\n",
      "tools\n",
      "              precision    recall  f1-score   support\n",
      "\n",
      "         0.0       1.00      0.96      0.98      1297\n",
      "         1.0       0.02      0.20      0.04         5\n",
      "\n",
      "    accuracy                           0.96      1302\n",
      "   macro avg       0.51      0.58      0.51      1302\n",
      "weighted avg       0.99      0.96      0.98      1302\n",
      "\n",
      "hospitals\n",
      "              precision    recall  f1-score   support\n",
      "\n",
      "         0.0       0.99      0.98      0.98      1285\n",
      "         1.0       0.18      0.41      0.25        17\n",
      "\n",
      "    accuracy                           0.97      1302\n",
      "   macro avg       0.59      0.69      0.62      1302\n",
      "weighted avg       0.98      0.97      0.97      1302\n",
      "\n",
      "shops\n",
      "              precision    recall  f1-score   support\n",
      "\n",
      "         0.0       1.00      0.89      0.94      1299\n",
      "         1.0       0.01      0.67      0.03         3\n",
      "\n",
      "    accuracy                           0.89      1302\n",
      "   macro avg       0.51      0.78      0.49      1302\n",
      "weighted avg       1.00      0.89      0.94      1302\n",
      "\n",
      "aid_centers\n",
      "              precision    recall  f1-score   support\n",
      "\n",
      "         0.0       0.99      0.95      0.97      1286\n",
      "         1.0       0.09      0.44      0.15        16\n",
      "\n",
      "    accuracy                           0.94      1302\n",
      "   macro avg       0.54      0.69      0.56      1302\n",
      "weighted avg       0.98      0.94      0.96      1302\n",
      "\n",
      "other_infrastructure\n",
      "              precision    recall  f1-score   support\n",
      "\n",
      "         0.0       0.97      0.91      0.94      1241\n",
      "         1.0       0.17      0.39      0.24        61\n",
      "\n",
      "    accuracy                           0.88      1302\n",
      "   macro avg       0.57      0.65      0.59      1302\n",
      "weighted avg       0.93      0.88      0.90      1302\n",
      "\n",
      "weather_related\n",
      "              precision    recall  f1-score   support\n",
      "\n",
      "         0.0       0.85      0.97      0.91       923\n",
      "         1.0       0.90      0.60      0.72       379\n",
      "\n",
      "    accuracy                           0.86      1302\n",
      "   macro avg       0.88      0.78      0.81      1302\n",
      "weighted avg       0.87      0.86      0.85      1302\n",
      "\n",
      "floods\n",
      "              precision    recall  f1-score   support\n",
      "\n",
      "         0.0       0.97      0.97      0.97      1193\n",
      "         1.0       0.65      0.70      0.67       109\n",
      "\n",
      "    accuracy                           0.94      1302\n",
      "   macro avg       0.81      0.83      0.82      1302\n",
      "weighted avg       0.95      0.94      0.94      1302\n",
      "\n",
      "storm\n",
      "              precision    recall  f1-score   support\n",
      "\n",
      "         0.0       0.97      0.96      0.97      1163\n",
      "         1.0       0.70      0.74      0.72       139\n",
      "\n",
      "    accuracy                           0.94      1302\n",
      "   macro avg       0.83      0.85      0.84      1302\n",
      "weighted avg       0.94      0.94      0.94      1302\n",
      "\n",
      "fire\n",
      "              precision    recall  f1-score   support\n",
      "\n",
      "         0.0       1.00      0.96      0.98      1288\n",
      "         1.0       0.15      0.57      0.23        14\n",
      "\n",
      "    accuracy                           0.96      1302\n",
      "   macro avg       0.57      0.77      0.61      1302\n",
      "weighted avg       0.99      0.96      0.97      1302\n",
      "\n",
      "earthquake\n",
      "              precision    recall  f1-score   support\n",
      "\n",
      "         0.0       0.98      0.98      0.98      1178\n",
      "         1.0       0.80      0.78      0.79       124\n",
      "\n",
      "    accuracy                           0.96      1302\n",
      "   macro avg       0.89      0.88      0.89      1302\n",
      "weighted avg       0.96      0.96      0.96      1302\n",
      "\n",
      "cold\n",
      "              precision    recall  f1-score   support\n",
      "\n",
      "         0.0       0.99      0.99      0.99      1269\n",
      "         1.0       0.59      0.58      0.58        33\n",
      "\n",
      "    accuracy                           0.98      1302\n",
      "   macro avg       0.79      0.78      0.79      1302\n",
      "weighted avg       0.98      0.98      0.98      1302\n",
      "\n",
      "other_weather\n",
      "              precision    recall  f1-score   support\n",
      "\n",
      "         0.0       0.96      0.96      0.96      1231\n",
      "         1.0       0.32      0.34      0.33        71\n",
      "\n",
      "    accuracy                           0.92      1302\n",
      "   macro avg       0.64      0.65      0.64      1302\n",
      "weighted avg       0.93      0.92      0.93      1302\n",
      "\n",
      "direct_report\n",
      "              precision    recall  f1-score   support\n",
      "\n",
      "         0.0       0.89      0.86      0.87      1048\n",
      "         1.0       0.49      0.54      0.51       254\n",
      "\n",
      "    accuracy                           0.80      1302\n",
      "   macro avg       0.69      0.70      0.69      1302\n",
      "weighted avg       0.81      0.80      0.80      1302\n",
      "\n"
     ]
    }
   ],
   "source": [
    "y_pred_tree = Tree.predict(X_test)\n",
    "y_pred_tree = pd.DataFrame(y_pred_tree, columns = list(Y.columns))\n",
    "y_test = y_test.reset_index(drop = True)\n",
    "for i, var in enumerate(Y):\n",
    "    print(var)\n",
    "    print(classification_report(y_test.iloc[:,i], y_pred_tree.iloc[:,i]))"
   ]
  },
  {
   "cell_type": "code",
   "execution_count": 23,
   "id": "608ca7a7",
>>>>>>> 9fe0a1c184ecc047f46d11363af5258dfc96dea0
   "metadata": {},
   "source": [
<<<<<<< HEAD
    "#### Mean recall for True over all categories"
||||||| 98fd509
    "for i, var in enumerate(Y):\n",
    "    classification_reports[var] = (classification_report(y_test.iloc[:,i], y_pred_ada_svc.iloc[:,i]));"
=======
    "for i, var in enumerate(Y):\n",
    "    classification_reports[var] = (classification_report(y_test.iloc[:,i], y_pred_tree.iloc[:,i]));"
>>>>>>> 9fe0a1c184ecc047f46d11363af5258dfc96dea0
   ]
  },
  {
   "cell_type": "code",
<<<<<<< HEAD
   "execution_count": 31,
   "id": "c17b1c19",
||||||| 98fd509
   "execution_count": null,
   "id": "dc5bf1ae",
=======
   "execution_count": 24,
   "id": "eeedc488",
>>>>>>> 9fe0a1c184ecc047f46d11363af5258dfc96dea0
   "metadata": {},
   "outputs": [
    {
     "data": {
      "text/plain": [
       "0.5388235294117647"
      ]
     },
     "execution_count": 31,
     "metadata": {},
     "output_type": "execute_result"
    }
   ],
   "source": [
<<<<<<< HEAD
    "decision_tree_recalls = tree_report.loc[tree_report.label == 1].groupby(\n",
    "    [\"communicate\"])[\"recalls\"].mean().sort_values(ascending = False)\n",
    "\n",
    "decision_tree_recalls.mean()"
||||||| 98fd509
    "ada_svc_report_df = df_from_sklearn_cl_reports(classification_reports)"
=======
    "tree_report = df_from_sklearn_cl_reports(classification_reports)"
>>>>>>> 9fe0a1c184ecc047f46d11363af5258dfc96dea0
   ]
  },
  {
<<<<<<< HEAD
   "cell_type": "markdown",
   "id": "eb31bb22",
||||||| 98fd509
   "cell_type": "code",
   "execution_count": null,
   "id": "45a1bbd8",
=======
   "cell_type": "code",
   "execution_count": 69,
   "id": "2494d325",
>>>>>>> 9fe0a1c184ecc047f46d11363af5258dfc96dea0
   "metadata": {},
<<<<<<< HEAD
||||||| 98fd509
   "outputs": [],
=======
   "outputs": [
    {
     "data": {
      "text/plain": [
       "0.3871428571428573"
      ]
     },
     "execution_count": 69,
     "metadata": {},
     "output_type": "execute_result"
    }
   ],
>>>>>>> 9fe0a1c184ecc047f46d11363af5258dfc96dea0
   "source": [
<<<<<<< HEAD
    "#### Recalls for True for each category"
||||||| 98fd509
    "ada_svc_report_df.loc[\n",
    "    ada_svc_report_df.label == 1].groupby(\n",
    "    [\"communicate\"])[\"precisions\"].mean().sort_values(ascending = False).mean()"
=======
    "decision_tree_precisions = tree_report.loc[tree_report.label == 1].groupby(\n",
    "    [\"communicate\"])[\"precisions\"].mean().sort_values(ascending = False)\n",
    "decision_tree_precisions.mean()"
>>>>>>> 9fe0a1c184ecc047f46d11363af5258dfc96dea0
   ]
  },
  {
   "cell_type": "code",
<<<<<<< HEAD
   "execution_count": 32,
   "id": "0ebd4287",
||||||| 98fd509
   "execution_count": null,
   "id": "4b4bf8bb",
=======
   "execution_count": 68,
   "id": "e5b17e85",
>>>>>>> 9fe0a1c184ecc047f46d11363af5258dfc96dea0
   "metadata": {},
<<<<<<< HEAD
   "outputs": [
    {
     "data": {
      "text/plain": [
       "communicate\n",
       "water                     0.85\n",
       "food                      0.83\n",
       "earthquake                0.80\n",
       "shelter                   0.76\n",
       "death                     0.73\n",
       "storm                     0.71\n",
       "request                   0.70\n",
       "money                     0.69\n",
       "floods                    0.67\n",
       "buildings                 0.66\n",
       "refugees                  0.63\n",
       "clothing                  0.61\n",
       "weather_related           0.60\n",
       "cold                      0.60\n",
       "electricity               0.59\n",
       "medical_products          0.59\n",
       "aid_related               0.57\n",
       "direct_report             0.56\n",
       "missing_people            0.55\n",
       "other_aid                 0.53\n",
       "military                  0.50\n",
       "aid_centers               0.47\n",
       "infrastructure_related    0.45\n",
       "fire                      0.45\n",
       "other_infrastructure      0.44\n",
       "search_and_rescue         0.44\n",
       "hospitals                 0.40\n",
       "transport                 0.39\n",
       "medical_help              0.32\n",
       "offer                     0.29\n",
       "security                  0.28\n",
       "other_weather             0.27\n",
       "shops                     0.27\n",
       "tools                     0.12\n",
       "Name: recalls, dtype: float64"
      ]
     },
     "execution_count": 32,
     "metadata": {},
     "output_type": "execute_result"
    }
   ],
||||||| 98fd509
   "outputs": [],
=======
   "outputs": [
    {
     "data": {
      "text/plain": [
       "0.5617142857142857"
      ]
     },
     "execution_count": 68,
     "metadata": {},
     "output_type": "execute_result"
    }
   ],
>>>>>>> 9fe0a1c184ecc047f46d11363af5258dfc96dea0
   "source": [
<<<<<<< HEAD
    "decision_tree_recalls"
||||||| 98fd509
    "ada_svc_report_df.loc[\n",
    "    ada_svc_report_df.label == 1].groupby(\n",
    "    [\"communicate\"])[\"recalls\"].mean().sort_values(ascending = False).mean()"
=======
    "decision_tree_recalls = tree_report.loc[tree_report.label == 1].groupby(\n",
    "    [\"communicate\"])[\"recalls\"].mean().sort_values(ascending = False)\n",
    "\n",
    "decision_tree_recalls.mean()\n"
>>>>>>> 9fe0a1c184ecc047f46d11363af5258dfc96dea0
   ]
  },
  {
   "cell_type": "markdown",
   "id": "c06d77cf",
   "metadata": {},
   "source": [
    "#### 3.2 RandomForest"
   ]
  },
  {
   "cell_type": "code",
<<<<<<< HEAD
   "execution_count": 33,
   "id": "98bd39fa",
||||||| 98fd509
   "execution_count": 19,
   "id": "251c0772",
=======
   "execution_count": 27,
   "id": "98bd39fa",
>>>>>>> 9fe0a1c184ecc047f46d11363af5258dfc96dea0
   "metadata": {},
   "outputs": [],
   "source": [
    "classification_reports.clear()"
   ]
  },
  {
   "cell_type": "code",
<<<<<<< HEAD
   "execution_count": 34,
   "id": "0d34aad7",
||||||| 98fd509
   "execution_count": 20,
   "id": "54d6a2d1",
=======
   "execution_count": 28,
   "id": "0d34aad7",
>>>>>>> 9fe0a1c184ecc047f46d11363af5258dfc96dea0
   "metadata": {},
   "outputs": [],
   "source": [
    "forest = make_sklearn_pipeline(verbose = True, steps = [('vect', CountVectorizer(tokenizer = tokenize)),\n",
    "                           ('tfidf', TfidfTransformer()),                                              \n",
    "                           ('clf', MultiOutputClassifier(estimator = RandomForestClassifier\n",
    "                                (n_estimators = 500, max_depth=7, min_samples_leaf=1, \n",
    "                                 class_weight = \"balanced\",random_state = 42)))])"
   ]
  },
  {
   "cell_type": "code",
<<<<<<< HEAD
   "execution_count": 35,
   "id": "f5bfa8e7",
||||||| 98fd509
   "execution_count": 21,
   "id": "a094de1f",
=======
   "execution_count": 29,
   "id": "f5bfa8e7",
>>>>>>> 9fe0a1c184ecc047f46d11363af5258dfc96dea0
   "metadata": {},
   "outputs": [
    {
     "name": "stdout",
     "output_type": "stream",
     "text": [
<<<<<<< HEAD
      "[Pipeline] .............. (step 1 of 3) Processing vect, total= 3.4min\n",
||||||| 98fd509
      "[Pipeline] .............. (step 1 of 3) Processing vect, total= 3.1min\n",
=======
      "[Pipeline] .............. (step 1 of 3) Processing vect, total= 3.3min\n",
>>>>>>> 9fe0a1c184ecc047f46d11363af5258dfc96dea0
      "[Pipeline] ............. (step 2 of 3) Processing tfidf, total=   0.0s\n",
      "[Pipeline] ............... (step 3 of 3) Processing clf, total= 1.2min\n"
     ]
    },
    {
     "data": {
      "text/plain": [
       "Pipeline(steps=[('vect',\n",
<<<<<<< HEAD
       "                 CountVectorizer(tokenizer=<function tokenize at 0x000001AEEFE95A60>)),\n",
||||||| 98fd509
       "                 CountVectorizer(tokenizer=<function tokenize at 0x00000227E6689A60>)),\n",
=======
       "                 CountVectorizer(tokenizer=<function tokenize at 0x000001C1B4F6AE50>)),\n",
>>>>>>> 9fe0a1c184ecc047f46d11363af5258dfc96dea0
       "                ('tfidf', TfidfTransformer()),\n",
       "                ('clf',\n",
       "                 MultiOutputClassifier(estimator=RandomForestClassifier(class_weight='balanced',\n",
       "                                                                        max_depth=7,\n",
       "                                                                        n_estimators=500,\n",
       "                                                                        random_state=42)))],\n",
       "         verbose=True)"
      ]
     },
<<<<<<< HEAD
     "execution_count": 35,
||||||| 98fd509
     "execution_count": 21,
=======
     "execution_count": 29,
>>>>>>> 9fe0a1c184ecc047f46d11363af5258dfc96dea0
     "metadata": {},
     "output_type": "execute_result"
    }
   ],
   "source": [
    "forest.fit(X_train, y_train)"
   ]
  },
  {
   "cell_type": "code",
<<<<<<< HEAD
   "execution_count": 36,
   "id": "24fe09d6",
||||||| 98fd509
   "execution_count": 22,
   "id": "17ac49f9",
=======
   "execution_count": 30,
   "id": "24fe09d6",
>>>>>>> 9fe0a1c184ecc047f46d11363af5258dfc96dea0
   "metadata": {},
   "outputs": [
    {
     "name": "stdout",
     "output_type": "stream",
     "text": [
<<<<<<< HEAD
||||||| 98fd509
      "related\n",
      "              precision    recall  f1-score   support\n",
      "\n",
      "         0.0       0.43      0.57      0.49      1221\n",
      "         1.0       0.85      0.76      0.81      3985\n",
      "\n",
      "    accuracy                           0.72      5206\n",
      "   macro avg       0.64      0.67      0.65      5206\n",
      "weighted avg       0.75      0.72      0.73      5206\n",
      "\n",
=======
      "related\n",
      "              precision    recall  f1-score   support\n",
      "\n",
      "         0.0       0.47      0.81      0.59       321\n",
      "         1.0       0.92      0.70      0.79       981\n",
      "\n",
      "    accuracy                           0.73      1302\n",
      "   macro avg       0.69      0.76      0.69      1302\n",
      "weighted avg       0.81      0.73      0.74      1302\n",
      "\n",
>>>>>>> 9fe0a1c184ecc047f46d11363af5258dfc96dea0
      "request\n",
      "              precision    recall  f1-score   support\n",
      "\n",
<<<<<<< HEAD
      "         0.0       0.95      0.89      0.92      2175\n",
      "         1.0       0.56      0.74      0.64       428\n",
||||||| 98fd509
      "         0.0       0.92      0.86      0.89      4311\n",
      "         1.0       0.50      0.66      0.57       895\n",
=======
      "         0.0       0.95      0.89      0.92      1088\n",
      "         1.0       0.57      0.75      0.65       214\n",
>>>>>>> 9fe0a1c184ecc047f46d11363af5258dfc96dea0
      "\n",
<<<<<<< HEAD
      "    accuracy                           0.86      2603\n",
      "   macro avg       0.75      0.81      0.78      2603\n",
      "weighted avg       0.88      0.86      0.87      2603\n",
||||||| 98fd509
      "    accuracy                           0.83      5206\n",
      "   macro avg       0.71      0.76      0.73      5206\n",
      "weighted avg       0.85      0.83      0.84      5206\n",
=======
      "    accuracy                           0.87      1302\n",
      "   macro avg       0.76      0.82      0.78      1302\n",
      "weighted avg       0.89      0.87      0.87      1302\n",
>>>>>>> 9fe0a1c184ecc047f46d11363af5258dfc96dea0
      "\n",
      "offer\n",
      "              precision    recall  f1-score   support\n",
      "\n",
<<<<<<< HEAD
      "         0.0       0.99      1.00      1.00      2589\n",
      "         1.0       0.09      0.07      0.08        14\n",
||||||| 98fd509
      "         0.0       1.00      0.90      0.95      5182\n",
      "         1.0       0.01      0.29      0.03        24\n",
=======
      "         0.0       1.00      1.00      1.00      1295\n",
      "         1.0       0.14      0.14      0.14         7\n",
>>>>>>> 9fe0a1c184ecc047f46d11363af5258dfc96dea0
      "\n",
<<<<<<< HEAD
      "    accuracy                           0.99      2603\n",
      "   macro avg       0.54      0.53      0.54      2603\n",
      "weighted avg       0.99      0.99      0.99      2603\n",
||||||| 98fd509
      "    accuracy                           0.90      5206\n",
      "   macro avg       0.51      0.60      0.49      5206\n",
      "weighted avg       0.99      0.90      0.94      5206\n",
=======
      "    accuracy                           0.99      1302\n",
      "   macro avg       0.57      0.57      0.57      1302\n",
      "weighted avg       0.99      0.99      0.99      1302\n",
>>>>>>> 9fe0a1c184ecc047f46d11363af5258dfc96dea0
      "\n",
      "aid_related\n",
      "              precision    recall  f1-score   support\n",
      "\n",
<<<<<<< HEAD
      "         0.0       0.79      0.83      0.81      1558\n",
      "         1.0       0.73      0.66      0.69      1045\n",
||||||| 98fd509
      "         0.0       0.72      0.82      0.77      3000\n",
      "         1.0       0.70      0.57      0.63      2206\n",
=======
      "         0.0       0.80      0.87      0.84       772\n",
      "         1.0       0.79      0.68      0.73       530\n",
>>>>>>> 9fe0a1c184ecc047f46d11363af5258dfc96dea0
      "\n",
<<<<<<< HEAD
      "    accuracy                           0.76      2603\n",
      "   macro avg       0.76      0.75      0.75      2603\n",
      "weighted avg       0.76      0.76      0.76      2603\n",
||||||| 98fd509
      "    accuracy                           0.72      5206\n",
      "   macro avg       0.71      0.70      0.70      5206\n",
      "weighted avg       0.72      0.72      0.71      5206\n",
=======
      "    accuracy                           0.80      1302\n",
      "   macro avg       0.80      0.78      0.78      1302\n",
      "weighted avg       0.80      0.80      0.79      1302\n",
>>>>>>> 9fe0a1c184ecc047f46d11363af5258dfc96dea0
      "\n",
      "medical_help\n",
      "              precision    recall  f1-score   support\n",
      "\n",
<<<<<<< HEAD
      "         0.0       0.96      0.93      0.94      2379\n",
      "         1.0       0.44      0.60      0.51       224\n",
||||||| 98fd509
      "         0.0       0.95      0.96      0.95      4768\n",
      "         1.0       0.47      0.44      0.45       438\n",
=======
      "         0.0       0.96      0.92      0.94      1195\n",
      "         1.0       0.42      0.61      0.49       107\n",
>>>>>>> 9fe0a1c184ecc047f46d11363af5258dfc96dea0
      "\n",
<<<<<<< HEAD
      "    accuracy                           0.90      2603\n",
      "   macro avg       0.70      0.77      0.73      2603\n",
      "weighted avg       0.92      0.90      0.91      2603\n",
||||||| 98fd509
      "    accuracy                           0.91      5206\n",
      "   macro avg       0.71      0.70      0.70      5206\n",
      "weighted avg       0.91      0.91      0.91      5206\n",
=======
      "    accuracy                           0.90      1302\n",
      "   macro avg       0.69      0.77      0.72      1302\n",
      "weighted avg       0.92      0.90      0.91      1302\n",
>>>>>>> 9fe0a1c184ecc047f46d11363af5258dfc96dea0
      "\n",
      "medical_products\n",
      "              precision    recall  f1-score   support\n",
      "\n",
<<<<<<< HEAD
      "         0.0       0.98      0.93      0.95      2461\n",
      "         1.0       0.36      0.70      0.47       142\n",
||||||| 98fd509
      "         0.0       0.97      0.94      0.96      4934\n",
      "         1.0       0.32      0.50      0.39       272\n",
=======
      "         0.0       0.98      0.92      0.95      1226\n",
      "         1.0       0.38      0.76      0.50        76\n",
>>>>>>> 9fe0a1c184ecc047f46d11363af5258dfc96dea0
      "\n",
<<<<<<< HEAD
      "    accuracy                           0.92      2603\n",
      "   macro avg       0.67      0.81      0.71      2603\n",
      "weighted avg       0.95      0.92      0.93      2603\n",
||||||| 98fd509
      "    accuracy                           0.92      5206\n",
      "   macro avg       0.65      0.72      0.67      5206\n",
      "weighted avg       0.94      0.92      0.93      5206\n",
=======
      "    accuracy                           0.91      1302\n",
      "   macro avg       0.68      0.84      0.73      1302\n",
      "weighted avg       0.95      0.91      0.93      1302\n",
>>>>>>> 9fe0a1c184ecc047f46d11363af5258dfc96dea0
      "\n",
      "search_and_rescue\n",
      "              precision    recall  f1-score   support\n",
      "\n",
<<<<<<< HEAD
      "         0.0       0.98      0.96      0.97      2523\n",
      "         1.0       0.19      0.29      0.23        80\n",
||||||| 98fd509
      "         0.0       0.98      0.83      0.90      5057\n",
      "         1.0       0.08      0.46      0.13       149\n",
=======
      "         0.0       0.98      0.96      0.97      1264\n",
      "         1.0       0.24      0.39      0.30        38\n",
>>>>>>> 9fe0a1c184ecc047f46d11363af5258dfc96dea0
      "\n",
<<<<<<< HEAD
      "    accuracy                           0.94      2603\n",
      "   macro avg       0.58      0.62      0.60      2603\n",
      "weighted avg       0.95      0.94      0.95      2603\n",
||||||| 98fd509
      "    accuracy                           0.82      5206\n",
      "   macro avg       0.53      0.65      0.52      5206\n",
      "weighted avg       0.96      0.82      0.88      5206\n",
=======
      "    accuracy                           0.95      1302\n",
      "   macro avg       0.61      0.68      0.64      1302\n",
      "weighted avg       0.96      0.95      0.95      1302\n",
>>>>>>> 9fe0a1c184ecc047f46d11363af5258dfc96dea0
      "\n",
      "security\n",
      "              precision    recall  f1-score   support\n",
      "\n",
<<<<<<< HEAD
      "         0.0       0.98      0.98      0.98      2545\n",
      "         1.0       0.18      0.21      0.19        58\n",
||||||| 98fd509
      "         0.0       0.98      0.61      0.76      5110\n",
      "         1.0       0.02      0.48      0.04        96\n",
=======
      "         0.0       0.99      0.98      0.98      1278\n",
      "         1.0       0.20      0.25      0.22        24\n",
>>>>>>> 9fe0a1c184ecc047f46d11363af5258dfc96dea0
      "\n",
<<<<<<< HEAD
      "    accuracy                           0.96      2603\n",
      "   macro avg       0.58      0.59      0.59      2603\n",
      "weighted avg       0.96      0.96      0.96      2603\n",
||||||| 98fd509
      "    accuracy                           0.61      5206\n",
      "   macro avg       0.50      0.55      0.40      5206\n",
      "weighted avg       0.97      0.61      0.74      5206\n",
=======
      "    accuracy                           0.97      1302\n",
      "   macro avg       0.59      0.62      0.60      1302\n",
      "weighted avg       0.97      0.97      0.97      1302\n",
>>>>>>> 9fe0a1c184ecc047f46d11363af5258dfc96dea0
      "\n",
      "military\n",
      "              precision    recall  f1-score   support\n",
      "\n",
<<<<<<< HEAD
      "         0.0       0.99      0.97      0.98      2521\n",
      "         1.0       0.40      0.71      0.51        82\n",
||||||| 98fd509
      "         0.0       0.98      0.99      0.98      5039\n",
      "         1.0       0.46      0.37      0.41       167\n",
=======
      "         0.0       0.99      0.98      0.98      1261\n",
      "         1.0       0.47      0.63      0.54        41\n",
>>>>>>> 9fe0a1c184ecc047f46d11363af5258dfc96dea0
      "\n",
<<<<<<< HEAD
      "    accuracy                           0.96      2603\n",
      "   macro avg       0.70      0.84      0.75      2603\n",
      "weighted avg       0.97      0.96      0.96      2603\n",
||||||| 98fd509
      "    accuracy                           0.97      5206\n",
      "   macro avg       0.72      0.68      0.69      5206\n",
      "weighted avg       0.96      0.97      0.96      5206\n",
=======
      "    accuracy                           0.97      1302\n",
      "   macro avg       0.73      0.81      0.76      1302\n",
      "weighted avg       0.97      0.97      0.97      1302\n",
>>>>>>> 9fe0a1c184ecc047f46d11363af5258dfc96dea0
      "\n",
      "water\n",
      "              precision    recall  f1-score   support\n",
      "\n",
<<<<<<< HEAD
      "         0.0       0.98      0.94      0.96      2432\n",
      "         1.0       0.47      0.76      0.58       171\n",
||||||| 98fd509
      "         0.0       0.99      0.95      0.97      4854\n",
      "         1.0       0.56      0.84      0.67       352\n",
=======
      "         0.0       0.99      0.95      0.97      1206\n",
      "         1.0       0.57      0.84      0.68        96\n",
>>>>>>> 9fe0a1c184ecc047f46d11363af5258dfc96dea0
      "\n",
<<<<<<< HEAD
      "    accuracy                           0.93      2603\n",
      "   macro avg       0.72      0.85      0.77      2603\n",
      "weighted avg       0.95      0.93      0.93      2603\n",
||||||| 98fd509
      "    accuracy                           0.95      5206\n",
      "   macro avg       0.78      0.90      0.82      5206\n",
      "weighted avg       0.96      0.95      0.95      5206\n",
=======
      "    accuracy                           0.94      1302\n",
      "   macro avg       0.78      0.90      0.82      1302\n",
      "weighted avg       0.96      0.94      0.95      1302\n",
>>>>>>> 9fe0a1c184ecc047f46d11363af5258dfc96dea0
      "\n",
      "food\n",
      "              precision    recall  f1-score   support\n",
      "\n",
<<<<<<< HEAD
      "         0.0       0.98      0.93      0.95      2328\n",
      "         1.0       0.57      0.82      0.68       275\n",
||||||| 98fd509
      "         0.0       0.98      0.96      0.97      4601\n",
      "         1.0       0.71      0.83      0.77       605\n",
=======
      "         0.0       0.98      0.91      0.94      1168\n",
      "         1.0       0.52      0.87      0.65       134\n",
>>>>>>> 9fe0a1c184ecc047f46d11363af5258dfc96dea0
      "\n",
<<<<<<< HEAD
      "    accuracy                           0.92      2603\n",
      "   macro avg       0.78      0.87      0.81      2603\n",
      "weighted avg       0.94      0.92      0.92      2603\n",
||||||| 98fd509
      "    accuracy                           0.94      5206\n",
      "   macro avg       0.85      0.90      0.87      5206\n",
      "weighted avg       0.95      0.94      0.94      5206\n",
=======
      "    accuracy                           0.90      1302\n",
      "   macro avg       0.75      0.89      0.80      1302\n",
      "weighted avg       0.94      0.90      0.91      1302\n",
>>>>>>> 9fe0a1c184ecc047f46d11363af5258dfc96dea0
      "\n",
      "shelter\n",
      "              precision    recall  f1-score   support\n",
      "\n",
<<<<<<< HEAD
      "         0.0       0.97      0.92      0.94      2360\n",
      "         1.0       0.49      0.76      0.59       243\n",
||||||| 98fd509
      "         0.0       0.97      0.95      0.96      4759\n",
      "         1.0       0.57      0.71      0.63       447\n",
=======
      "         0.0       0.98      0.93      0.95      1180\n",
      "         1.0       0.55      0.79      0.64       122\n",
>>>>>>> 9fe0a1c184ecc047f46d11363af5258dfc96dea0
      "\n",
<<<<<<< HEAD
      "    accuracy                           0.90      2603\n",
      "   macro avg       0.73      0.84      0.77      2603\n",
      "weighted avg       0.93      0.90      0.91      2603\n",
||||||| 98fd509
      "    accuracy                           0.93      5206\n",
      "   macro avg       0.77      0.83      0.79      5206\n",
      "weighted avg       0.94      0.93      0.93      5206\n",
=======
      "    accuracy                           0.92      1302\n",
      "   macro avg       0.76      0.86      0.80      1302\n",
      "weighted avg       0.94      0.92      0.93      1302\n",
>>>>>>> 9fe0a1c184ecc047f46d11363af5258dfc96dea0
      "\n",
      "clothing\n",
      "              precision    recall  f1-score   support\n",
      "\n",
<<<<<<< HEAD
      "         0.0       0.99      0.97      0.98      2567\n",
      "         1.0       0.20      0.56      0.29        36\n",
||||||| 98fd509
      "         0.0       0.99      0.97      0.98      5125\n",
      "         1.0       0.22      0.60      0.33        81\n",
=======
      "         0.0       1.00      0.98      0.99      1284\n",
      "         1.0       0.30      0.67      0.41        18\n",
>>>>>>> 9fe0a1c184ecc047f46d11363af5258dfc96dea0
      "\n",
<<<<<<< HEAD
      "    accuracy                           0.96      2603\n",
      "   macro avg       0.59      0.76      0.64      2603\n",
      "weighted avg       0.98      0.96      0.97      2603\n",
||||||| 98fd509
      "    accuracy                           0.96      5206\n",
      "   macro avg       0.61      0.79      0.65      5206\n",
      "weighted avg       0.98      0.96      0.97      5206\n",
=======
      "    accuracy                           0.97      1302\n",
      "   macro avg       0.65      0.82      0.70      1302\n",
      "weighted avg       0.99      0.97      0.98      1302\n",
>>>>>>> 9fe0a1c184ecc047f46d11363af5258dfc96dea0
      "\n",
      "money\n",
      "              precision    recall  f1-score   support\n",
      "\n",
<<<<<<< HEAD
      "         0.0       0.99      0.97      0.98      2545\n",
      "         1.0       0.28      0.45      0.35        58\n",
||||||| 98fd509
      "         0.0       0.99      0.96      0.98      5090\n",
      "         1.0       0.28      0.65      0.39       116\n",
=======
      "         0.0       0.99      0.97      0.98      1274\n",
      "         1.0       0.27      0.43      0.33        28\n",
>>>>>>> 9fe0a1c184ecc047f46d11363af5258dfc96dea0
      "\n",
<<<<<<< HEAD
      "    accuracy                           0.96      2603\n",
      "   macro avg       0.63      0.71      0.66      2603\n",
      "weighted avg       0.97      0.96      0.97      2603\n",
||||||| 98fd509
      "    accuracy                           0.95      5206\n",
      "   macro avg       0.63      0.80      0.68      5206\n",
      "weighted avg       0.98      0.95      0.96      5206\n",
=======
      "    accuracy                           0.96      1302\n",
      "   macro avg       0.63      0.70      0.65      1302\n",
      "weighted avg       0.97      0.96      0.97      1302\n",
>>>>>>> 9fe0a1c184ecc047f46d11363af5258dfc96dea0
      "\n",
      "missing_people\n",
      "              precision    recall  f1-score   support\n",
      "\n",
<<<<<<< HEAD
      "         0.0       0.99      0.99      0.99      2574\n",
      "         1.0       0.30      0.34      0.32        29\n",
||||||| 98fd509
      "         0.0       0.99      0.95      0.97      5139\n",
      "         1.0       0.07      0.28      0.11        67\n",
=======
      "         0.0       0.99      1.00      0.99      1284\n",
      "         1.0       0.50      0.33      0.40        18\n",
>>>>>>> 9fe0a1c184ecc047f46d11363af5258dfc96dea0
      "\n",
<<<<<<< HEAD
      "    accuracy                           0.98      2603\n",
      "   macro avg       0.65      0.67      0.66      2603\n",
      "weighted avg       0.98      0.98      0.98      2603\n",
||||||| 98fd509
      "    accuracy                           0.94      5206\n",
      "   macro avg       0.53      0.62      0.54      5206\n",
      "weighted avg       0.98      0.94      0.96      5206\n",
=======
      "    accuracy                           0.99      1302\n",
      "   macro avg       0.75      0.66      0.70      1302\n",
      "weighted avg       0.98      0.99      0.98      1302\n",
>>>>>>> 9fe0a1c184ecc047f46d11363af5258dfc96dea0
      "\n",
      "refugees\n",
      "              precision    recall  f1-score   support\n",
      "\n",
<<<<<<< HEAD
      "         0.0       0.99      0.94      0.97      2520\n",
      "         1.0       0.27      0.64      0.38        83\n",
||||||| 98fd509
      "         0.0       0.99      0.87      0.92      5039\n",
      "         1.0       0.14      0.65      0.23       167\n",
=======
      "         0.0       0.99      0.95      0.97      1260\n",
      "         1.0       0.28      0.60      0.38        42\n",
>>>>>>> 9fe0a1c184ecc047f46d11363af5258dfc96dea0
      "\n",
<<<<<<< HEAD
      "    accuracy                           0.93      2603\n",
      "   macro avg       0.63      0.79      0.67      2603\n",
      "weighted avg       0.96      0.93      0.95      2603\n",
||||||| 98fd509
      "    accuracy                           0.86      5206\n",
      "   macro avg       0.56      0.76      0.58      5206\n",
      "weighted avg       0.96      0.86      0.90      5206\n",
=======
      "    accuracy                           0.94      1302\n",
      "   macro avg       0.63      0.77      0.67      1302\n",
      "weighted avg       0.96      0.94      0.95      1302\n",
>>>>>>> 9fe0a1c184ecc047f46d11363af5258dfc96dea0
      "\n",
      "death\n",
      "              precision    recall  f1-score   support\n",
      "\n",
<<<<<<< HEAD
      "         0.0       0.98      0.95      0.97      2493\n",
      "         1.0       0.37      0.63      0.46       110\n",
||||||| 98fd509
      "         0.0       0.98      0.98      0.98      4973\n",
      "         1.0       0.59      0.62      0.60       233\n",
=======
      "         0.0       0.98      0.96      0.97      1246\n",
      "         1.0       0.38      0.59      0.46        56\n",
>>>>>>> 9fe0a1c184ecc047f46d11363af5258dfc96dea0
      "\n",
<<<<<<< HEAD
      "    accuracy                           0.94      2603\n",
      "   macro avg       0.68      0.79      0.72      2603\n",
      "weighted avg       0.96      0.94      0.95      2603\n",
||||||| 98fd509
      "    accuracy                           0.96      5206\n",
      "   macro avg       0.78      0.80      0.79      5206\n",
      "weighted avg       0.96      0.96      0.96      5206\n",
=======
      "    accuracy                           0.94      1302\n",
      "   macro avg       0.68      0.77      0.71      1302\n",
      "weighted avg       0.95      0.94      0.95      1302\n",
>>>>>>> 9fe0a1c184ecc047f46d11363af5258dfc96dea0
      "\n",
      "other_aid\n",
      "              precision    recall  f1-score   support\n",
      "\n",
<<<<<<< HEAD
      "         0.0       0.93      0.85      0.89      2286\n",
      "         1.0       0.33      0.52      0.40       317\n",
||||||| 98fd509
      "         0.0       0.92      0.83      0.87      4521\n",
      "         1.0       0.33      0.55      0.41       685\n",
=======
      "         0.0       0.93      0.84      0.88      1137\n",
      "         1.0       0.35      0.58      0.43       165\n",
>>>>>>> 9fe0a1c184ecc047f46d11363af5258dfc96dea0
      "\n",
<<<<<<< HEAD
      "    accuracy                           0.81      2603\n",
      "   macro avg       0.63      0.69      0.65      2603\n",
      "weighted avg       0.85      0.81      0.83      2603\n",
||||||| 98fd509
      "    accuracy                           0.79      5206\n",
      "   macro avg       0.62      0.69      0.64      5206\n",
      "weighted avg       0.85      0.79      0.81      5206\n",
=======
      "    accuracy                           0.81      1302\n",
      "   macro avg       0.64      0.71      0.66      1302\n",
      "weighted avg       0.86      0.81      0.83      1302\n",
>>>>>>> 9fe0a1c184ecc047f46d11363af5258dfc96dea0
      "\n",
      "infrastructure_related\n",
      "              precision    recall  f1-score   support\n",
      "\n",
<<<<<<< HEAD
      "         0.0       0.97      0.86      0.91      2444\n",
      "         1.0       0.21      0.55      0.30       159\n",
||||||| 98fd509
      "         0.0       0.95      0.91      0.93      4865\n",
      "         1.0       0.18      0.27      0.22       341\n",
=======
      "         0.0       0.96      0.88      0.92      1213\n",
      "         1.0       0.26      0.56      0.35        89\n",
>>>>>>> 9fe0a1c184ecc047f46d11363af5258dfc96dea0
      "\n",
<<<<<<< HEAD
      "    accuracy                           0.84      2603\n",
      "   macro avg       0.59      0.70      0.60      2603\n",
      "weighted avg       0.92      0.84      0.87      2603\n",
||||||| 98fd509
      "    accuracy                           0.87      5206\n",
      "   macro avg       0.56      0.59      0.57      5206\n",
      "weighted avg       0.90      0.87      0.88      5206\n",
=======
      "    accuracy                           0.86      1302\n",
      "   macro avg       0.61      0.72      0.64      1302\n",
      "weighted avg       0.92      0.86      0.88      1302\n",
>>>>>>> 9fe0a1c184ecc047f46d11363af5258dfc96dea0
      "\n",
      "transport\n",
      "              precision    recall  f1-score   support\n",
      "\n",
<<<<<<< HEAD
      "         0.0       0.98      0.92      0.95      2486\n",
      "         1.0       0.23      0.51      0.32       117\n",
||||||| 98fd509
      "         0.0       0.97      0.96      0.96      4967\n",
      "         1.0       0.29      0.36      0.33       239\n",
=======
      "         0.0       0.98      0.92      0.95      1245\n",
      "         1.0       0.24      0.56      0.34        57\n",
>>>>>>> 9fe0a1c184ecc047f46d11363af5258dfc96dea0
      "\n",
<<<<<<< HEAD
      "    accuracy                           0.90      2603\n",
      "   macro avg       0.60      0.72      0.63      2603\n",
      "weighted avg       0.94      0.90      0.92      2603\n",
||||||| 98fd509
      "    accuracy                           0.93      5206\n",
      "   macro avg       0.63      0.66      0.64      5206\n",
      "weighted avg       0.94      0.93      0.93      5206\n",
=======
      "    accuracy                           0.90      1302\n",
      "   macro avg       0.61      0.74      0.64      1302\n",
      "weighted avg       0.95      0.90      0.92      1302\n",
>>>>>>> 9fe0a1c184ecc047f46d11363af5258dfc96dea0
      "\n",
      "buildings\n",
      "              precision    recall  f1-score   support\n",
      "\n",
<<<<<<< HEAD
      "         0.0       0.98      0.95      0.96      2460\n",
      "         1.0       0.42      0.65      0.51       143\n",
||||||| 98fd509
      "         0.0       0.98      0.95      0.96      4946\n",
      "         1.0       0.39      0.63      0.48       260\n",
=======
      "         0.0       0.98      0.95      0.96      1230\n",
      "         1.0       0.44      0.69      0.54        72\n",
>>>>>>> 9fe0a1c184ecc047f46d11363af5258dfc96dea0
      "\n",
<<<<<<< HEAD
      "    accuracy                           0.93      2603\n",
      "   macro avg       0.70      0.80      0.74      2603\n",
      "weighted avg       0.95      0.93      0.94      2603\n",
||||||| 98fd509
      "    accuracy                           0.93      5206\n",
      "   macro avg       0.68      0.79      0.72      5206\n",
      "weighted avg       0.95      0.93      0.94      5206\n",
=======
      "    accuracy                           0.93      1302\n",
      "   macro avg       0.71      0.82      0.75      1302\n",
      "weighted avg       0.95      0.93      0.94      1302\n",
>>>>>>> 9fe0a1c184ecc047f46d11363af5258dfc96dea0
      "\n",
      "electricity\n",
      "              precision    recall  f1-score   support\n",
      "\n",
<<<<<<< HEAD
      "         0.0       0.99      0.97      0.98      2552\n",
      "         1.0       0.28      0.57      0.37        51\n",
||||||| 98fd509
      "         0.0       0.99      0.98      0.99      5104\n",
      "         1.0       0.37      0.59      0.45       102\n",
=======
      "         0.0       0.99      0.96      0.98      1273\n",
      "         1.0       0.26      0.55      0.35        29\n",
>>>>>>> 9fe0a1c184ecc047f46d11363af5258dfc96dea0
      "\n",
<<<<<<< HEAD
      "    accuracy                           0.96      2603\n",
      "   macro avg       0.63      0.77      0.68      2603\n",
      "weighted avg       0.98      0.96      0.97      2603\n",
||||||| 98fd509
      "    accuracy                           0.97      5206\n",
      "   macro avg       0.68      0.78      0.72      5206\n",
      "weighted avg       0.98      0.97      0.98      5206\n",
=======
      "    accuracy                           0.95      1302\n",
      "   macro avg       0.62      0.76      0.66      1302\n",
      "weighted avg       0.97      0.95      0.96      1302\n",
>>>>>>> 9fe0a1c184ecc047f46d11363af5258dfc96dea0
      "\n",
      "tools\n",
      "              precision    recall  f1-score   support\n",
      "\n",
<<<<<<< HEAD
      "         0.0       0.99      1.00      1.00      2587\n",
      "         1.0       0.50      0.06      0.11        16\n",
||||||| 98fd509
      "         0.0       0.99      0.93      0.96      5173\n",
      "         1.0       0.01      0.09      0.02        33\n",
=======
      "         0.0       1.00      1.00      1.00      1297\n",
      "         1.0       0.00      0.00      0.00         5\n",
>>>>>>> 9fe0a1c184ecc047f46d11363af5258dfc96dea0
      "\n",
<<<<<<< HEAD
      "    accuracy                           0.99      2603\n",
      "   macro avg       0.75      0.53      0.55      2603\n",
      "weighted avg       0.99      0.99      0.99      2603\n",
||||||| 98fd509
      "    accuracy                           0.93      5206\n",
      "   macro avg       0.50      0.51      0.49      5206\n",
      "weighted avg       0.99      0.93      0.96      5206\n",
=======
      "    accuracy                           1.00      1302\n",
      "   macro avg       0.50      0.50      0.50      1302\n",
      "weighted avg       0.99      1.00      0.99      1302\n",
>>>>>>> 9fe0a1c184ecc047f46d11363af5258dfc96dea0
      "\n",
      "hospitals\n",
      "              precision    recall  f1-score   support\n",
      "\n",
<<<<<<< HEAD
      "         0.0       0.99      0.99      0.99      2573\n",
      "         1.0       0.17      0.17      0.17        30\n",
||||||| 98fd509
      "         0.0       0.99      0.96      0.98      5157\n",
      "         1.0       0.08      0.37      0.14        49\n",
=======
      "         0.0       0.99      0.99      0.99      1285\n",
      "         1.0       0.10      0.12      0.11        17\n",
>>>>>>> 9fe0a1c184ecc047f46d11363af5258dfc96dea0
      "\n",
<<<<<<< HEAD
      "    accuracy                           0.98      2603\n",
      "   macro avg       0.58      0.58      0.58      2603\n",
      "weighted avg       0.98      0.98      0.98      2603\n",
||||||| 98fd509
      "    accuracy                           0.96      5206\n",
      "   macro avg       0.54      0.66      0.56      5206\n",
      "weighted avg       0.99      0.96      0.97      5206\n",
=======
      "    accuracy                           0.97      1302\n",
      "   macro avg       0.54      0.55      0.55      1302\n",
      "weighted avg       0.98      0.97      0.98      1302\n",
>>>>>>> 9fe0a1c184ecc047f46d11363af5258dfc96dea0
      "\n",
      "shops\n",
      "              precision    recall  f1-score   support\n",
      "\n",
<<<<<<< HEAD
      "         0.0       1.00      1.00      1.00      2592\n",
      "         1.0       0.00      0.00      0.00        11\n",
||||||| 98fd509
      "         0.0       1.00      0.93      0.96      5184\n",
      "         1.0       0.01      0.14      0.02        22\n",
=======
      "         0.0       1.00      1.00      1.00      1299\n",
      "         1.0       0.00      0.00      0.00         3\n",
>>>>>>> 9fe0a1c184ecc047f46d11363af5258dfc96dea0
      "\n",
<<<<<<< HEAD
      "    accuracy                           1.00      2603\n",
      "   macro avg       0.50      0.50      0.50      2603\n",
      "weighted avg       0.99      1.00      0.99      2603\n",
||||||| 98fd509
      "    accuracy                           0.93      5206\n",
      "   macro avg       0.50      0.53      0.49      5206\n",
      "weighted avg       0.99      0.93      0.96      5206\n",
=======
      "    accuracy                           1.00      1302\n",
      "   macro avg       0.50      0.50      0.50      1302\n",
      "weighted avg       1.00      1.00      1.00      1302\n",
>>>>>>> 9fe0a1c184ecc047f46d11363af5258dfc96dea0
      "\n",
      "aid_centers\n",
      "              precision    recall  f1-score   support\n",
      "\n",
<<<<<<< HEAD
      "         0.0       0.99      0.99      0.99      2569\n",
      "         1.0       0.13      0.09      0.11        34\n",
||||||| 98fd509
      "         0.0       0.99      0.95      0.97      5144\n",
      "         1.0       0.09      0.40      0.14        62\n",
=======
      "         0.0       0.99      0.98      0.99      1286\n",
      "         1.0       0.09      0.12      0.11        16\n",
>>>>>>> 9fe0a1c184ecc047f46d11363af5258dfc96dea0
      "\n",
<<<<<<< HEAD
      "    accuracy                           0.98      2603\n",
      "   macro avg       0.56      0.54      0.55      2603\n",
      "weighted avg       0.98      0.98      0.98      2603\n",
||||||| 98fd509
      "    accuracy                           0.94      5206\n",
      "   macro avg       0.54      0.68      0.56      5206\n",
      "weighted avg       0.98      0.94      0.96      5206\n",
=======
      "    accuracy                           0.97      1302\n",
      "   macro avg       0.54      0.55      0.55      1302\n",
      "weighted avg       0.98      0.97      0.98      1302\n",
>>>>>>> 9fe0a1c184ecc047f46d11363af5258dfc96dea0
      "\n",
      "other_infrastructure\n",
      "              precision    recall  f1-score   support\n",
      "\n",
<<<<<<< HEAD
      "         0.0       0.98      0.89      0.93      2499\n",
      "         1.0       0.17      0.56      0.26       104\n",
||||||| 98fd509
      "         0.0       0.97      0.92      0.94      4973\n",
      "         1.0       0.16      0.31      0.21       233\n",
=======
      "         0.0       0.97      0.89      0.93      1241\n",
      "         1.0       0.17      0.46      0.25        61\n",
>>>>>>> 9fe0a1c184ecc047f46d11363af5258dfc96dea0
      "\n",
<<<<<<< HEAD
      "    accuracy                           0.87      2603\n",
      "   macro avg       0.58      0.72      0.60      2603\n",
      "weighted avg       0.95      0.87      0.90      2603\n",
||||||| 98fd509
      "    accuracy                           0.90      5206\n",
      "   macro avg       0.56      0.62      0.58      5206\n",
      "weighted avg       0.93      0.90      0.91      5206\n",
=======
      "    accuracy                           0.87      1302\n",
      "   macro avg       0.57      0.68      0.59      1302\n",
      "weighted avg       0.93      0.87      0.90      1302\n",
>>>>>>> 9fe0a1c184ecc047f46d11363af5258dfc96dea0
      "\n",
      "weather_related\n",
      "              precision    recall  f1-score   support\n",
      "\n",
<<<<<<< HEAD
      "         0.0       0.88      0.90      0.89      1865\n",
      "         1.0       0.73      0.69      0.71       738\n",
||||||| 98fd509
      "         0.0       0.85      0.98      0.91      3775\n",
      "         1.0       0.90      0.56      0.69      1431\n",
=======
      "         0.0       0.89      0.91      0.90       923\n",
      "         1.0       0.77      0.72      0.74       379\n",
>>>>>>> 9fe0a1c184ecc047f46d11363af5258dfc96dea0
      "\n",
<<<<<<< HEAD
      "    accuracy                           0.84      2603\n",
      "   macro avg       0.80      0.79      0.80      2603\n",
      "weighted avg       0.84      0.84      0.84      2603\n",
||||||| 98fd509
      "    accuracy                           0.86      5206\n",
      "   macro avg       0.88      0.77      0.80      5206\n",
      "weighted avg       0.87      0.86      0.85      5206\n",
=======
      "    accuracy                           0.86      1302\n",
      "   macro avg       0.83      0.82      0.82      1302\n",
      "weighted avg       0.85      0.86      0.85      1302\n",
>>>>>>> 9fe0a1c184ecc047f46d11363af5258dfc96dea0
      "\n",
      "floods\n",
      "              precision    recall  f1-score   support\n",
      "\n",
<<<<<<< HEAD
      "         0.0       0.98      0.93      0.95      2394\n",
      "         1.0       0.49      0.73      0.59       209\n",
||||||| 98fd509
      "         0.0       0.97      0.97      0.97      4761\n",
      "         1.0       0.65      0.63      0.64       445\n",
=======
      "         0.0       0.98      0.92      0.95      1193\n",
      "         1.0       0.47      0.75      0.58       109\n",
>>>>>>> 9fe0a1c184ecc047f46d11363af5258dfc96dea0
      "\n",
<<<<<<< HEAD
      "    accuracy                           0.92      2603\n",
      "   macro avg       0.73      0.83      0.77      2603\n",
      "weighted avg       0.94      0.92      0.93      2603\n",
||||||| 98fd509
      "    accuracy                           0.94      5206\n",
      "   macro avg       0.81      0.80      0.80      5206\n",
      "weighted avg       0.94      0.94      0.94      5206\n",
=======
      "    accuracy                           0.91      1302\n",
      "   macro avg       0.72      0.84      0.76      1302\n",
      "weighted avg       0.93      0.91      0.92      1302\n",
>>>>>>> 9fe0a1c184ecc047f46d11363af5258dfc96dea0
      "\n",
      "storm\n",
      "              precision    recall  f1-score   support\n",
      "\n",
<<<<<<< HEAD
      "         0.0       0.96      0.94      0.95      2345\n",
      "         1.0       0.54      0.68      0.60       258\n",
||||||| 98fd509
      "         0.0       0.97      0.96      0.97      4728\n",
      "         1.0       0.67      0.73      0.70       478\n",
=======
      "         0.0       0.96      0.94      0.95      1163\n",
      "         1.0       0.59      0.71      0.64       139\n",
>>>>>>> 9fe0a1c184ecc047f46d11363af5258dfc96dea0
      "\n",
<<<<<<< HEAD
      "    accuracy                           0.91      2603\n",
      "   macro avg       0.75      0.81      0.78      2603\n",
      "weighted avg       0.92      0.91      0.92      2603\n",
||||||| 98fd509
      "    accuracy                           0.94      5206\n",
      "   macro avg       0.82      0.85      0.83      5206\n",
      "weighted avg       0.94      0.94      0.94      5206\n",
=======
      "    accuracy                           0.92      1302\n",
      "   macro avg       0.78      0.82      0.80      1302\n",
      "weighted avg       0.92      0.92      0.92      1302\n",
>>>>>>> 9fe0a1c184ecc047f46d11363af5258dfc96dea0
      "\n",
      "fire\n",
      "              precision    recall  f1-score   support\n",
      "\n",
<<<<<<< HEAD
      "         0.0       0.99      1.00      0.99      2570\n",
      "         1.0       0.78      0.21      0.33        33\n",
||||||| 98fd509
      "         0.0       0.99      0.96      0.98      5152\n",
      "         1.0       0.09      0.41      0.15        54\n",
=======
      "         0.0       0.99      1.00      1.00      1288\n",
      "         1.0       0.60      0.43      0.50        14\n",
>>>>>>> 9fe0a1c184ecc047f46d11363af5258dfc96dea0
      "\n",
<<<<<<< HEAD
      "    accuracy                           0.99      2603\n",
      "   macro avg       0.88      0.61      0.66      2603\n",
      "weighted avg       0.99      0.99      0.99      2603\n",
||||||| 98fd509
      "    accuracy                           0.95      5206\n",
      "   macro avg       0.54      0.68      0.56      5206\n",
      "weighted avg       0.98      0.95      0.97      5206\n",
=======
      "    accuracy                           0.99      1302\n",
      "   macro avg       0.80      0.71      0.75      1302\n",
      "weighted avg       0.99      0.99      0.99      1302\n",
>>>>>>> 9fe0a1c184ecc047f46d11363af5258dfc96dea0
      "\n",
      "earthquake\n",
      "              precision    recall  f1-score   support\n",
      "\n",
<<<<<<< HEAD
      "         0.0       0.97      0.97      0.97      2348\n",
      "         1.0       0.70      0.68      0.69       255\n",
||||||| 98fd509
      "         0.0       0.98      0.98      0.98      4742\n",
      "         1.0       0.80      0.81      0.81       464\n",
=======
      "         0.0       0.97      0.98      0.97      1178\n",
      "         1.0       0.75      0.71      0.73       124\n",
>>>>>>> 9fe0a1c184ecc047f46d11363af5258dfc96dea0
      "\n",
<<<<<<< HEAD
      "    accuracy                           0.94      2603\n",
      "   macro avg       0.83      0.82      0.83      2603\n",
      "weighted avg       0.94      0.94      0.94      2603\n",
||||||| 98fd509
      "    accuracy                           0.97      5206\n",
      "   macro avg       0.89      0.90      0.89      5206\n",
      "weighted avg       0.97      0.97      0.97      5206\n",
=======
      "    accuracy                           0.95      1302\n",
      "   macro avg       0.86      0.84      0.85      1302\n",
      "weighted avg       0.95      0.95      0.95      1302\n",
>>>>>>> 9fe0a1c184ecc047f46d11363af5258dfc96dea0
      "\n",
      "cold\n"
     ]
    },
    {
     "name": "stdout",
     "output_type": "stream",
     "text": [
      "              precision    recall  f1-score   support\n",
      "\n",
<<<<<<< HEAD
      "         0.0       0.99      0.98      0.99      2540\n",
      "         1.0       0.44      0.57      0.50        63\n",
||||||| 98fd509
      "         0.0       0.99      0.96      0.98      5098\n",
      "         1.0       0.27      0.61      0.37       108\n",
=======
      "         0.0       0.98      0.98      0.98      1269\n",
      "         1.0       0.33      0.39      0.36        33\n",
>>>>>>> 9fe0a1c184ecc047f46d11363af5258dfc96dea0
      "\n",
<<<<<<< HEAD
      "    accuracy                           0.97      2603\n",
      "   macro avg       0.72      0.78      0.74      2603\n",
      "weighted avg       0.98      0.97      0.97      2603\n",
||||||| 98fd509
      "    accuracy                           0.96      5206\n",
      "   macro avg       0.63      0.79      0.68      5206\n",
      "weighted avg       0.98      0.96      0.97      5206\n",
=======
      "    accuracy                           0.96      1302\n",
      "   macro avg       0.66      0.69      0.67      1302\n",
      "weighted avg       0.97      0.96      0.97      1302\n",
>>>>>>> 9fe0a1c184ecc047f46d11363af5258dfc96dea0
      "\n",
      "other_weather\n",
      "              precision    recall  f1-score   support\n",
      "\n",
<<<<<<< HEAD
      "         0.0       0.97      0.89      0.93      2475\n",
      "         1.0       0.18      0.47      0.26       128\n",
||||||| 98fd509
      "         0.0       0.96      0.95      0.96      4932\n",
      "         1.0       0.30      0.36      0.33       274\n",
=======
      "         0.0       0.97      0.88      0.93      1231\n",
      "         1.0       0.21      0.54      0.30        71\n",
>>>>>>> 9fe0a1c184ecc047f46d11363af5258dfc96dea0
      "\n",
<<<<<<< HEAD
      "    accuracy                           0.87      2603\n",
      "   macro avg       0.58      0.68      0.60      2603\n",
      "weighted avg       0.93      0.87      0.90      2603\n",
||||||| 98fd509
      "    accuracy                           0.92      5206\n",
      "   macro avg       0.63      0.66      0.64      5206\n",
      "weighted avg       0.93      0.92      0.93      5206\n",
=======
      "    accuracy                           0.86      1302\n",
      "   macro avg       0.59      0.71      0.61      1302\n",
      "weighted avg       0.93      0.86      0.89      1302\n",
>>>>>>> 9fe0a1c184ecc047f46d11363af5258dfc96dea0
      "\n",
      "direct_report\n",
      "              precision    recall  f1-score   support\n",
      "\n",
<<<<<<< HEAD
      "         0.0       0.91      0.85      0.88      2105\n",
      "         1.0       0.50      0.63      0.56       498\n",
||||||| 98fd509
      "         0.0       0.89      0.82      0.85      4166\n",
      "         1.0       0.45      0.59      0.51      1040\n",
=======
      "         0.0       0.91      0.83      0.87      1048\n",
      "         1.0       0.48      0.66      0.55       254\n",
>>>>>>> 9fe0a1c184ecc047f46d11363af5258dfc96dea0
      "\n",
<<<<<<< HEAD
      "    accuracy                           0.81      2603\n",
      "   macro avg       0.70      0.74      0.72      2603\n",
      "weighted avg       0.83      0.81      0.82      2603\n",
||||||| 98fd509
      "    accuracy                           0.77      5206\n",
      "   macro avg       0.67      0.70      0.68      5206\n",
      "weighted avg       0.80      0.77      0.78      5206\n",
=======
      "    accuracy                           0.79      1302\n",
      "   macro avg       0.69      0.74      0.71      1302\n",
      "weighted avg       0.82      0.79      0.80      1302\n",
>>>>>>> 9fe0a1c184ecc047f46d11363af5258dfc96dea0
      "\n"
     ]
<<<<<<< HEAD
    },
    {
     "name": "stderr",
     "output_type": "stream",
     "text": [
      "C:\\Users\\x\\Anaconda3\\envs\\DisasterResponse\\lib\\site-packages\\sklearn\\metrics\\_classification.py:1248: UndefinedMetricWarning: Precision and F-score are ill-defined and being set to 0.0 in labels with no predicted samples. Use `zero_division` parameter to control this behavior.\n",
      "  _warn_prf(average, modifier, msg_start, len(result))\n",
      "C:\\Users\\x\\Anaconda3\\envs\\DisasterResponse\\lib\\site-packages\\sklearn\\metrics\\_classification.py:1248: UndefinedMetricWarning: Precision and F-score are ill-defined and being set to 0.0 in labels with no predicted samples. Use `zero_division` parameter to control this behavior.\n",
      "  _warn_prf(average, modifier, msg_start, len(result))\n",
      "C:\\Users\\x\\Anaconda3\\envs\\DisasterResponse\\lib\\site-packages\\sklearn\\metrics\\_classification.py:1248: UndefinedMetricWarning: Precision and F-score are ill-defined and being set to 0.0 in labels with no predicted samples. Use `zero_division` parameter to control this behavior.\n",
      "  _warn_prf(average, modifier, msg_start, len(result))\n"
     ]
||||||| 98fd509
=======
    },
    {
     "name": "stderr",
     "output_type": "stream",
     "text": [
      "C:\\Users\\x\\Anaconda3\\envs\\DisasterResponse\\lib\\site-packages\\sklearn\\metrics\\_classification.py:1248: UndefinedMetricWarning: Precision and F-score are ill-defined and being set to 0.0 in labels with no predicted samples. Use `zero_division` parameter to control this behavior.\n",
      "  _warn_prf(average, modifier, msg_start, len(result))\n",
      "C:\\Users\\x\\Anaconda3\\envs\\DisasterResponse\\lib\\site-packages\\sklearn\\metrics\\_classification.py:1248: UndefinedMetricWarning: Precision and F-score are ill-defined and being set to 0.0 in labels with no predicted samples. Use `zero_division` parameter to control this behavior.\n",
      "  _warn_prf(average, modifier, msg_start, len(result))\n",
      "C:\\Users\\x\\Anaconda3\\envs\\DisasterResponse\\lib\\site-packages\\sklearn\\metrics\\_classification.py:1248: UndefinedMetricWarning: Precision and F-score are ill-defined and being set to 0.0 in labels with no predicted samples. Use `zero_division` parameter to control this behavior.\n",
      "  _warn_prf(average, modifier, msg_start, len(result))\n",
      "C:\\Users\\x\\Anaconda3\\envs\\DisasterResponse\\lib\\site-packages\\sklearn\\metrics\\_classification.py:1248: UndefinedMetricWarning: Precision and F-score are ill-defined and being set to 0.0 in labels with no predicted samples. Use `zero_division` parameter to control this behavior.\n",
      "  _warn_prf(average, modifier, msg_start, len(result))\n",
      "C:\\Users\\x\\Anaconda3\\envs\\DisasterResponse\\lib\\site-packages\\sklearn\\metrics\\_classification.py:1248: UndefinedMetricWarning: Precision and F-score are ill-defined and being set to 0.0 in labels with no predicted samples. Use `zero_division` parameter to control this behavior.\n",
      "  _warn_prf(average, modifier, msg_start, len(result))\n",
      "C:\\Users\\x\\Anaconda3\\envs\\DisasterResponse\\lib\\site-packages\\sklearn\\metrics\\_classification.py:1248: UndefinedMetricWarning: Precision and F-score are ill-defined and being set to 0.0 in labels with no predicted samples. Use `zero_division` parameter to control this behavior.\n",
      "  _warn_prf(average, modifier, msg_start, len(result))\n"
     ]
>>>>>>> 9fe0a1c184ecc047f46d11363af5258dfc96dea0
    }
   ],
   "source": [
    "y_pred_forest = forest.predict(X_test)\n",
    "y_pred_forest = pd.DataFrame(y_pred_forest, columns = list(Y.columns))\n",
    "y_test = y_test.reset_index(drop = True)\n",
    "for i, var in enumerate(Y):\n",
    "    print(var)\n",
    "    print(classification_report(y_test.iloc[:,i], y_pred_forest.iloc[:,i]))"
   ]
  },
  {
   "cell_type": "code",
<<<<<<< HEAD
   "execution_count": 37,
   "id": "9ae0ead5",
||||||| 98fd509
   "execution_count": 23,
   "id": "608ca7a7",
=======
   "execution_count": 31,
   "id": "9ae0ead5",
>>>>>>> 9fe0a1c184ecc047f46d11363af5258dfc96dea0
   "metadata": {},
<<<<<<< HEAD
   "outputs": [
    {
     "name": "stderr",
     "output_type": "stream",
     "text": [
      "C:\\Users\\x\\Anaconda3\\envs\\DisasterResponse\\lib\\site-packages\\sklearn\\metrics\\_classification.py:1248: UndefinedMetricWarning: Precision and F-score are ill-defined and being set to 0.0 in labels with no predicted samples. Use `zero_division` parameter to control this behavior.\n",
      "  _warn_prf(average, modifier, msg_start, len(result))\n",
      "C:\\Users\\x\\Anaconda3\\envs\\DisasterResponse\\lib\\site-packages\\sklearn\\metrics\\_classification.py:1248: UndefinedMetricWarning: Precision and F-score are ill-defined and being set to 0.0 in labels with no predicted samples. Use `zero_division` parameter to control this behavior.\n",
      "  _warn_prf(average, modifier, msg_start, len(result))\n",
      "C:\\Users\\x\\Anaconda3\\envs\\DisasterResponse\\lib\\site-packages\\sklearn\\metrics\\_classification.py:1248: UndefinedMetricWarning: Precision and F-score are ill-defined and being set to 0.0 in labels with no predicted samples. Use `zero_division` parameter to control this behavior.\n",
      "  _warn_prf(average, modifier, msg_start, len(result))\n"
     ]
    }
   ],
||||||| 98fd509
   "outputs": [],
=======
   "outputs": [
    {
     "name": "stderr",
     "output_type": "stream",
     "text": [
      "C:\\Users\\x\\Anaconda3\\envs\\DisasterResponse\\lib\\site-packages\\sklearn\\metrics\\_classification.py:1248: UndefinedMetricWarning: Precision and F-score are ill-defined and being set to 0.0 in labels with no predicted samples. Use `zero_division` parameter to control this behavior.\n",
      "  _warn_prf(average, modifier, msg_start, len(result))\n",
      "C:\\Users\\x\\Anaconda3\\envs\\DisasterResponse\\lib\\site-packages\\sklearn\\metrics\\_classification.py:1248: UndefinedMetricWarning: Precision and F-score are ill-defined and being set to 0.0 in labels with no predicted samples. Use `zero_division` parameter to control this behavior.\n",
      "  _warn_prf(average, modifier, msg_start, len(result))\n",
      "C:\\Users\\x\\Anaconda3\\envs\\DisasterResponse\\lib\\site-packages\\sklearn\\metrics\\_classification.py:1248: UndefinedMetricWarning: Precision and F-score are ill-defined and being set to 0.0 in labels with no predicted samples. Use `zero_division` parameter to control this behavior.\n",
      "  _warn_prf(average, modifier, msg_start, len(result))\n",
      "C:\\Users\\x\\Anaconda3\\envs\\DisasterResponse\\lib\\site-packages\\sklearn\\metrics\\_classification.py:1248: UndefinedMetricWarning: Precision and F-score are ill-defined and being set to 0.0 in labels with no predicted samples. Use `zero_division` parameter to control this behavior.\n",
      "  _warn_prf(average, modifier, msg_start, len(result))\n",
      "C:\\Users\\x\\Anaconda3\\envs\\DisasterResponse\\lib\\site-packages\\sklearn\\metrics\\_classification.py:1248: UndefinedMetricWarning: Precision and F-score are ill-defined and being set to 0.0 in labels with no predicted samples. Use `zero_division` parameter to control this behavior.\n",
      "  _warn_prf(average, modifier, msg_start, len(result))\n",
      "C:\\Users\\x\\Anaconda3\\envs\\DisasterResponse\\lib\\site-packages\\sklearn\\metrics\\_classification.py:1248: UndefinedMetricWarning: Precision and F-score are ill-defined and being set to 0.0 in labels with no predicted samples. Use `zero_division` parameter to control this behavior.\n",
      "  _warn_prf(average, modifier, msg_start, len(result))\n"
     ]
    }
   ],
>>>>>>> 9fe0a1c184ecc047f46d11363af5258dfc96dea0
   "source": [
    "for i, var in enumerate(Y):\n",
    "    classification_reports[var] = (classification_report(y_test.iloc[:,i], y_pred_forest.iloc[:,i]));"
   ]
  },
  {
   "cell_type": "code",
<<<<<<< HEAD
   "execution_count": 38,
   "id": "1e04e76b",
||||||| 98fd509
   "execution_count": 24,
   "id": "eeedc488",
=======
   "execution_count": 32,
   "id": "1e04e76b",
>>>>>>> 9fe0a1c184ecc047f46d11363af5258dfc96dea0
   "metadata": {},
   "outputs": [],
   "source": [
<<<<<<< HEAD
    "forest_report = df_from_sklearn_cl_reports(classification_reports)"
   ]
  },
  {
   "cell_type": "markdown",
   "id": "09a0edb1",
   "metadata": {},
   "source": [
    "#### Mean precision for True over all categories"
||||||| 98fd509
    "tree_report = df_from_sklearn_cl_reports(classification_reports)"
=======
    "forest_report = df_from_sklearn_cl_reports(classification_reports)"
>>>>>>> 9fe0a1c184ecc047f46d11363af5258dfc96dea0
   ]
  },
  {
   "cell_type": "code",
<<<<<<< HEAD
   "execution_count": 39,
   "id": "f11412a4",
   "metadata": {
    "scrolled": true
   },
   "outputs": [
    {
     "data": {
      "text/plain": [
       "0.3735294117647059"
      ]
     },
     "execution_count": 39,
     "metadata": {},
     "output_type": "execute_result"
    }
   ],
   "source": [
    "forest_precisions = forest_report.loc[forest_report.label == 1].groupby(\n",
    "    [\"communicate\"])[\"precisions\"].mean().sort_values(ascending = False)\n",
    "forest_precisions.mean()"
   ]
  },
  {
   "cell_type": "markdown",
   "id": "f2511a48",
   "metadata": {},
   "source": [
    "#### Precisions for True for each category"
   ]
  },
  {
   "cell_type": "code",
   "execution_count": 40,
   "id": "ed5dc6b8",
||||||| 98fd509
   "execution_count": 42,
   "id": "2494d325",
=======
   "execution_count": 33,
   "id": "25d97d05",
>>>>>>> 9fe0a1c184ecc047f46d11363af5258dfc96dea0
   "metadata": {},
   "outputs": [
    {
     "data": {
      "text/plain": [
<<<<<<< HEAD
       "communicate\n",
       "fire                      0.78\n",
       "aid_related               0.73\n",
       "weather_related           0.73\n",
       "earthquake                0.70\n",
       "food                      0.57\n",
       "request                   0.56\n",
       "storm                     0.54\n",
       "direct_report             0.50\n",
       "tools                     0.50\n",
       "floods                    0.49\n",
       "shelter                   0.49\n",
       "water                     0.47\n",
       "cold                      0.44\n",
       "medical_help              0.44\n",
       "buildings                 0.42\n",
       "military                  0.40\n",
       "death                     0.37\n",
       "medical_products          0.36\n",
       "other_aid                 0.33\n",
       "missing_people            0.30\n",
       "money                     0.28\n",
       "electricity               0.28\n",
       "refugees                  0.27\n",
       "transport                 0.23\n",
       "infrastructure_related    0.21\n",
       "clothing                  0.20\n",
       "search_and_rescue         0.19\n",
       "other_weather             0.18\n",
       "security                  0.18\n",
       "other_infrastructure      0.17\n",
       "hospitals                 0.17\n",
       "aid_centers               0.13\n",
       "offer                     0.09\n",
       "shops                     0.00\n",
       "Name: precisions, dtype: float64"
||||||| 98fd509
       "communicate\n",
       "medical_help              0.47\n",
       "military                  0.46\n",
       "direct_report             0.45\n",
       "buildings                 0.39\n",
       "electricity               0.37\n",
       "other_aid                 0.33\n",
       "medical_products          0.32\n",
       "other_weather             0.30\n",
       "transport                 0.29\n",
       "money                     0.28\n",
       "cold                      0.27\n",
       "clothing                  0.22\n",
       "infrastructure_related    0.18\n",
       "other_infrastructure      0.16\n",
       "refugees                  0.14\n",
       "aid_centers               0.09\n",
       "fire                      0.09\n",
       "search_and_rescue         0.08\n",
       "hospitals                 0.08\n",
       "missing_people            0.07\n",
       "security                  0.02\n",
       "shops                     0.01\n",
       "offer                     0.01\n",
       "tools                     0.01\n",
       "Name: precisions, dtype: float64"
=======
       "0.38885714285714296"
>>>>>>> 9fe0a1c184ecc047f46d11363af5258dfc96dea0
      ]
     },
<<<<<<< HEAD
     "execution_count": 40,
||||||| 98fd509
     "execution_count": 42,
=======
     "execution_count": 33,
>>>>>>> 9fe0a1c184ecc047f46d11363af5258dfc96dea0
     "metadata": {},
     "output_type": "execute_result"
    }
   ],
   "source": [
<<<<<<< HEAD
    "forest_precisions"
   ]
  },
  {
   "cell_type": "markdown",
   "id": "643e7b31",
   "metadata": {},
   "source": [
    "#### Mean recall for True over all categories"
||||||| 98fd509
    "decision_tree_precisions = tree_report.loc[tree_report.label == 1].groupby(\n",
    "    [\"communicate\"])[\"precisions\"].mean().sort_values(ascending = False)\n",
    "\n",
    "decision_tree_precisions.loc[decision_tree_precisions < 0.5]"
=======
    "forest_precisions = forest_report.loc[forest_report.label == 1].groupby(\n",
    "    [\"communicate\"])[\"precisions\"].mean().sort_values(ascending = False)\n",
    "forest_precisions.mean()"
>>>>>>> 9fe0a1c184ecc047f46d11363af5258dfc96dea0
   ]
  },
  {
   "cell_type": "code",
<<<<<<< HEAD
   "execution_count": 41,
   "id": "8678e60c",
||||||| 98fd509
   "execution_count": 43,
   "id": "e5b17e85",
=======
   "execution_count": 34,
   "id": "d1529e4b",
>>>>>>> 9fe0a1c184ecc047f46d11363af5258dfc96dea0
   "metadata": {},
   "outputs": [
    {
     "data": {
      "text/plain": [
<<<<<<< HEAD
       "0.5082352941176472"
||||||| 98fd509
       "communicate\n",
       "security                  0.48\n",
       "search_and_rescue         0.46\n",
       "medical_help              0.44\n",
       "fire                      0.41\n",
       "aid_centers               0.40\n",
       "military                  0.37\n",
       "hospitals                 0.37\n",
       "other_weather             0.36\n",
       "transport                 0.36\n",
       "other_infrastructure      0.31\n",
       "offer                     0.29\n",
       "missing_people            0.28\n",
       "infrastructure_related    0.27\n",
       "shops                     0.14\n",
       "tools                     0.09\n",
       "Name: recalls, dtype: float64"
=======
       "0.5308571428571429"
>>>>>>> 9fe0a1c184ecc047f46d11363af5258dfc96dea0
      ]
     },
<<<<<<< HEAD
     "execution_count": 41,
||||||| 98fd509
     "execution_count": 43,
=======
     "execution_count": 34,
>>>>>>> 9fe0a1c184ecc047f46d11363af5258dfc96dea0
     "metadata": {},
     "output_type": "execute_result"
    }
   ],
   "source": [
    "forest_recalls = forest_report.loc[forest_report.label == 1].groupby(\n",
    "    [\"communicate\"])[\"recalls\"].mean().sort_values(ascending = False)\n",
<<<<<<< HEAD
    "forest_recalls.mean()"
   ]
  },
  {
   "cell_type": "markdown",
   "id": "a13854fb",
   "metadata": {},
   "source": [
    "#### Recalls for True for each category"
   ]
  },
  {
   "cell_type": "code",
   "execution_count": 42,
   "id": "3e6ae2ad",
   "metadata": {},
   "outputs": [
    {
     "data": {
      "text/plain": [
       "communicate\n",
       "food                      0.82\n",
       "water                     0.76\n",
       "shelter                   0.76\n",
       "request                   0.74\n",
       "floods                    0.73\n",
       "military                  0.71\n",
       "medical_products          0.70\n",
       "weather_related           0.69\n",
       "earthquake                0.68\n",
       "storm                     0.68\n",
       "aid_related               0.66\n",
       "buildings                 0.65\n",
       "refugees                  0.64\n",
       "direct_report             0.63\n",
       "death                     0.63\n",
       "medical_help              0.60\n",
       "electricity               0.57\n",
       "cold                      0.57\n",
       "clothing                  0.56\n",
       "other_infrastructure      0.56\n",
       "infrastructure_related    0.55\n",
       "other_aid                 0.52\n",
       "transport                 0.51\n",
       "other_weather             0.47\n",
       "money                     0.45\n",
       "missing_people            0.34\n",
       "search_and_rescue         0.29\n",
       "security                  0.21\n",
       "fire                      0.21\n",
       "hospitals                 0.17\n",
       "aid_centers               0.09\n",
       "offer                     0.07\n",
       "tools                     0.06\n",
       "shops                     0.00\n",
       "Name: recalls, dtype: float64"
      ]
     },
     "execution_count": 42,
     "metadata": {},
     "output_type": "execute_result"
    }
   ],
   "source": [
    "forest_recalls"
||||||| 98fd509
    "\n",
    "decision_tree_recalls.loc[decision_tree_recalls < 0.5]"
   ]
  },
  {
   "cell_type": "code",
   "execution_count": 63,
   "id": "9551f5e7",
   "metadata": {},
   "outputs": [],
   "source": [
    "series_of_categories = pd.Series(list(svc_precisions.loc[svc_precisions < 0.5].index) \\\n",
    "+ list(svc_recalls.loc[svc_recalls < 0.5].index) \\\n",
    "+ list(decision_tree_precisions.loc[decision_tree_precisions < 0.5].index) \\\n",
    "+ list(decision_tree_recalls.loc[decision_tree_recalls < 0.5].index))"
   ]
  },
  {
   "cell_type": "code",
   "execution_count": 69,
   "id": "c150ad7f",
   "metadata": {},
   "outputs": [],
   "source": [
    "list_of_categories = list(series_of_categories.drop_duplicates().values)"
=======
    "forest_recalls.mean()"
>>>>>>> 9fe0a1c184ecc047f46d11363af5258dfc96dea0
   ]
  },
  {
   "cell_type": "markdown",
<<<<<<< HEAD
   "id": "0dca794b",
   "metadata": {},
   "source": [
    "### Grid Search for the best model (decision tree) "
   ]
  },
  {
   "cell_type": "code",
   "execution_count": 43,
   "id": "69d38eb6",
   "metadata": {},
   "outputs": [],
   "source": [
    "parameters = {\n",
    "    'clf__estimator__max_depth': [5,7,9,20],\n",
    "    'clf__estimator__criterion': [\"gini\", \"entropy\"]    \n",
    "}"
   ]
  },
  {
   "cell_type": "code",
   "execution_count": 44,
   "id": "f0e710be",
   "metadata": {},
   "outputs": [],
   "source": [
    "tree_opt = GridSearchCV(tree, param_grid = parameters)"
   ]
  },
  {
   "cell_type": "code",
   "execution_count": 45,
   "id": "ded62521",
   "metadata": {},
   "outputs": [],
   "source": [
    "classification_reports.clear()"
   ]
  },
  {
   "cell_type": "code",
   "execution_count": 46,
   "id": "5f3128ac",
   "metadata": {},
   "outputs": [
    {
     "name": "stdout",
     "output_type": "stream",
     "text": [
      "[Pipeline] .............. (step 1 of 3) Processing vect, total= 2.7min\n",
      "[Pipeline] ............. (step 2 of 3) Processing tfidf, total=   0.0s\n",
      "[Pipeline] ............... (step 3 of 3) Processing clf, total=   3.9s\n",
      "[Pipeline] .............. (step 1 of 3) Processing vect, total= 2.8min\n",
      "[Pipeline] ............. (step 2 of 3) Processing tfidf, total=   0.0s\n",
      "[Pipeline] ............... (step 3 of 3) Processing clf, total=   4.2s\n",
      "[Pipeline] .............. (step 1 of 3) Processing vect, total= 2.7min\n",
      "[Pipeline] ............. (step 2 of 3) Processing tfidf, total=   0.0s\n",
      "[Pipeline] ............... (step 3 of 3) Processing clf, total=   4.1s\n",
      "[Pipeline] .............. (step 1 of 3) Processing vect, total= 2.6min\n",
      "[Pipeline] ............. (step 2 of 3) Processing tfidf, total=   0.0s\n",
      "[Pipeline] ............... (step 3 of 3) Processing clf, total=   3.9s\n",
      "[Pipeline] .............. (step 1 of 3) Processing vect, total= 2.7min\n",
      "[Pipeline] ............. (step 2 of 3) Processing tfidf, total=   0.0s\n",
      "[Pipeline] ............... (step 3 of 3) Processing clf, total=   3.8s\n",
      "[Pipeline] .............. (step 1 of 3) Processing vect, total= 2.6min\n",
      "[Pipeline] ............. (step 2 of 3) Processing tfidf, total=   0.0s\n",
      "[Pipeline] ............... (step 3 of 3) Processing clf, total=   5.5s\n",
      "[Pipeline] .............. (step 1 of 3) Processing vect, total= 2.7min\n",
      "[Pipeline] ............. (step 2 of 3) Processing tfidf, total=   0.0s\n",
      "[Pipeline] ............... (step 3 of 3) Processing clf, total=   6.5s\n",
      "[Pipeline] .............. (step 1 of 3) Processing vect, total= 2.6min\n",
      "[Pipeline] ............. (step 2 of 3) Processing tfidf, total=   0.0s\n",
      "[Pipeline] ............... (step 3 of 3) Processing clf, total=   5.7s\n",
      "[Pipeline] .............. (step 1 of 3) Processing vect, total= 2.6min\n",
      "[Pipeline] ............. (step 2 of 3) Processing tfidf, total=   0.0s\n",
      "[Pipeline] ............... (step 3 of 3) Processing clf, total=   5.5s\n",
      "[Pipeline] .............. (step 1 of 3) Processing vect, total= 2.7min\n",
      "[Pipeline] ............. (step 2 of 3) Processing tfidf, total=   0.0s\n",
      "[Pipeline] ............... (step 3 of 3) Processing clf, total=   5.7s\n",
      "[Pipeline] .............. (step 1 of 3) Processing vect, total= 2.7min\n",
      "[Pipeline] ............. (step 2 of 3) Processing tfidf, total=   0.0s\n",
      "[Pipeline] ............... (step 3 of 3) Processing clf, total=   8.1s\n",
      "[Pipeline] .............. (step 1 of 3) Processing vect, total= 2.7min\n",
      "[Pipeline] ............. (step 2 of 3) Processing tfidf, total=   0.0s\n",
      "[Pipeline] ............... (step 3 of 3) Processing clf, total=   7.5s\n",
      "[Pipeline] .............. (step 1 of 3) Processing vect, total= 2.7min\n",
      "[Pipeline] ............. (step 2 of 3) Processing tfidf, total=   0.0s\n",
      "[Pipeline] ............... (step 3 of 3) Processing clf, total=   7.6s\n",
      "[Pipeline] .............. (step 1 of 3) Processing vect, total= 2.7min\n",
      "[Pipeline] ............. (step 2 of 3) Processing tfidf, total=   0.0s\n",
      "[Pipeline] ............... (step 3 of 3) Processing clf, total=   7.3s\n",
      "[Pipeline] .............. (step 1 of 3) Processing vect, total= 2.8min\n",
      "[Pipeline] ............. (step 2 of 3) Processing tfidf, total=   0.0s\n",
      "[Pipeline] ............... (step 3 of 3) Processing clf, total=   7.9s\n",
      "[Pipeline] .............. (step 1 of 3) Processing vect, total= 2.7min\n",
      "[Pipeline] ............. (step 2 of 3) Processing tfidf, total=   0.0s\n",
      "[Pipeline] ............... (step 3 of 3) Processing clf, total=  18.9s\n",
      "[Pipeline] .............. (step 1 of 3) Processing vect, total= 2.7min\n",
      "[Pipeline] ............. (step 2 of 3) Processing tfidf, total=   0.0s\n",
      "[Pipeline] ............... (step 3 of 3) Processing clf, total=  18.5s\n",
      "[Pipeline] .............. (step 1 of 3) Processing vect, total= 2.7min\n",
      "[Pipeline] ............. (step 2 of 3) Processing tfidf, total=   0.0s\n",
      "[Pipeline] ............... (step 3 of 3) Processing clf, total=  18.3s\n",
      "[Pipeline] .............. (step 1 of 3) Processing vect, total= 2.6min\n",
      "[Pipeline] ............. (step 2 of 3) Processing tfidf, total=   0.0s\n",
      "[Pipeline] ............... (step 3 of 3) Processing clf, total=  20.4s\n",
      "[Pipeline] .............. (step 1 of 3) Processing vect, total= 2.7min\n",
      "[Pipeline] ............. (step 2 of 3) Processing tfidf, total=   0.0s\n",
      "[Pipeline] ............... (step 3 of 3) Processing clf, total=  18.7s\n",
      "[Pipeline] .............. (step 1 of 3) Processing vect, total= 2.7min\n",
      "[Pipeline] ............. (step 2 of 3) Processing tfidf, total=   0.0s\n",
      "[Pipeline] ............... (step 3 of 3) Processing clf, total=   6.6s\n",
      "[Pipeline] .............. (step 1 of 3) Processing vect, total= 2.9min\n",
      "[Pipeline] ............. (step 2 of 3) Processing tfidf, total=   0.0s\n",
      "[Pipeline] ............... (step 3 of 3) Processing clf, total=   8.0s\n",
      "[Pipeline] .............. (step 1 of 3) Processing vect, total= 2.9min\n",
      "[Pipeline] ............. (step 2 of 3) Processing tfidf, total=   0.0s\n",
      "[Pipeline] ............... (step 3 of 3) Processing clf, total=   6.7s\n",
      "[Pipeline] .............. (step 1 of 3) Processing vect, total= 2.9min\n",
      "[Pipeline] ............. (step 2 of 3) Processing tfidf, total=   0.0s\n",
      "[Pipeline] ............... (step 3 of 3) Processing clf, total=   6.5s\n",
      "[Pipeline] .............. (step 1 of 3) Processing vect, total= 3.0min\n",
      "[Pipeline] ............. (step 2 of 3) Processing tfidf, total=   0.0s\n",
      "[Pipeline] ............... (step 3 of 3) Processing clf, total=   7.2s\n",
      "[Pipeline] .............. (step 1 of 3) Processing vect, total= 3.0min\n",
      "[Pipeline] ............. (step 2 of 3) Processing tfidf, total=   0.0s\n",
      "[Pipeline] ............... (step 3 of 3) Processing clf, total=   9.8s\n",
      "[Pipeline] .............. (step 1 of 3) Processing vect, total= 3.0min\n",
      "[Pipeline] ............. (step 2 of 3) Processing tfidf, total=   0.0s\n",
      "[Pipeline] ............... (step 3 of 3) Processing clf, total=  10.6s\n",
      "[Pipeline] .............. (step 1 of 3) Processing vect, total= 2.8min\n",
      "[Pipeline] ............. (step 2 of 3) Processing tfidf, total=   0.0s\n",
      "[Pipeline] ............... (step 3 of 3) Processing clf, total=   9.4s\n",
      "[Pipeline] .............. (step 1 of 3) Processing vect, total= 2.9min\n",
      "[Pipeline] ............. (step 2 of 3) Processing tfidf, total=   0.0s\n",
      "[Pipeline] ............... (step 3 of 3) Processing clf, total=   8.8s\n",
      "[Pipeline] .............. (step 1 of 3) Processing vect, total= 3.0min\n",
      "[Pipeline] ............. (step 2 of 3) Processing tfidf, total=   0.0s\n",
      "[Pipeline] ............... (step 3 of 3) Processing clf, total=   9.8s\n",
      "[Pipeline] .............. (step 1 of 3) Processing vect, total= 2.9min\n",
      "[Pipeline] ............. (step 2 of 3) Processing tfidf, total=   0.0s\n",
      "[Pipeline] ............... (step 3 of 3) Processing clf, total=  12.5s\n",
      "[Pipeline] .............. (step 1 of 3) Processing vect, total= 2.9min\n",
      "[Pipeline] ............. (step 2 of 3) Processing tfidf, total=   0.0s\n",
      "[Pipeline] ............... (step 3 of 3) Processing clf, total=  12.0s\n",
      "[Pipeline] .............. (step 1 of 3) Processing vect, total= 2.9min\n",
      "[Pipeline] ............. (step 2 of 3) Processing tfidf, total=   0.0s\n",
      "[Pipeline] ............... (step 3 of 3) Processing clf, total=  11.9s\n",
      "[Pipeline] .............. (step 1 of 3) Processing vect, total= 2.8min\n",
      "[Pipeline] ............. (step 2 of 3) Processing tfidf, total=   0.0s\n",
      "[Pipeline] ............... (step 3 of 3) Processing clf, total=  12.0s\n",
      "[Pipeline] .............. (step 1 of 3) Processing vect, total= 2.9min\n",
      "[Pipeline] ............. (step 2 of 3) Processing tfidf, total=   0.0s\n"
     ]
    },
    {
     "ename": "KeyboardInterrupt",
     "evalue": "",
     "output_type": "error",
     "traceback": [
      "\u001b[1;31m---------------------------------------------------------------------------\u001b[0m",
      "\u001b[1;31mKeyboardInterrupt\u001b[0m                         Traceback (most recent call last)",
      "\u001b[1;32m~\\AppData\\Local\\Temp/ipykernel_29744/4156931679.py\u001b[0m in \u001b[0;36m<module>\u001b[1;34m\u001b[0m\n\u001b[0;32m      1\u001b[0m \u001b[1;31m#Attention! This cell takes much time to perform!\u001b[0m\u001b[1;33m\u001b[0m\u001b[1;33m\u001b[0m\u001b[0m\n\u001b[1;32m----> 2\u001b[1;33m \u001b[0mtree_opt\u001b[0m\u001b[1;33m.\u001b[0m\u001b[0mfit\u001b[0m\u001b[1;33m(\u001b[0m\u001b[0mX_train\u001b[0m\u001b[1;33m,\u001b[0m \u001b[0my_train\u001b[0m\u001b[1;33m)\u001b[0m\u001b[1;33m\u001b[0m\u001b[1;33m\u001b[0m\u001b[0m\n\u001b[0m",
      "\u001b[1;32m~\\Anaconda3\\envs\\DisasterResponse\\lib\\site-packages\\sklearn\\utils\\validation.py\u001b[0m in \u001b[0;36minner_f\u001b[1;34m(*args, **kwargs)\u001b[0m\n\u001b[0;32m     61\u001b[0m             \u001b[0mextra_args\u001b[0m \u001b[1;33m=\u001b[0m \u001b[0mlen\u001b[0m\u001b[1;33m(\u001b[0m\u001b[0margs\u001b[0m\u001b[1;33m)\u001b[0m \u001b[1;33m-\u001b[0m \u001b[0mlen\u001b[0m\u001b[1;33m(\u001b[0m\u001b[0mall_args\u001b[0m\u001b[1;33m)\u001b[0m\u001b[1;33m\u001b[0m\u001b[1;33m\u001b[0m\u001b[0m\n\u001b[0;32m     62\u001b[0m             \u001b[1;32mif\u001b[0m \u001b[0mextra_args\u001b[0m \u001b[1;33m<=\u001b[0m \u001b[1;36m0\u001b[0m\u001b[1;33m:\u001b[0m\u001b[1;33m\u001b[0m\u001b[1;33m\u001b[0m\u001b[0m\n\u001b[1;32m---> 63\u001b[1;33m                 \u001b[1;32mreturn\u001b[0m \u001b[0mf\u001b[0m\u001b[1;33m(\u001b[0m\u001b[1;33m*\u001b[0m\u001b[0margs\u001b[0m\u001b[1;33m,\u001b[0m \u001b[1;33m**\u001b[0m\u001b[0mkwargs\u001b[0m\u001b[1;33m)\u001b[0m\u001b[1;33m\u001b[0m\u001b[1;33m\u001b[0m\u001b[0m\n\u001b[0m\u001b[0;32m     64\u001b[0m \u001b[1;33m\u001b[0m\u001b[0m\n\u001b[0;32m     65\u001b[0m             \u001b[1;31m# extra_args > 0\u001b[0m\u001b[1;33m\u001b[0m\u001b[1;33m\u001b[0m\u001b[0m\n",
      "\u001b[1;32m~\\Anaconda3\\envs\\DisasterResponse\\lib\\site-packages\\sklearn\\model_selection\\_search.py\u001b[0m in \u001b[0;36mfit\u001b[1;34m(self, X, y, groups, **fit_params)\u001b[0m\n\u001b[0;32m    839\u001b[0m                 \u001b[1;32mreturn\u001b[0m \u001b[0mresults\u001b[0m\u001b[1;33m\u001b[0m\u001b[1;33m\u001b[0m\u001b[0m\n\u001b[0;32m    840\u001b[0m \u001b[1;33m\u001b[0m\u001b[0m\n\u001b[1;32m--> 841\u001b[1;33m             \u001b[0mself\u001b[0m\u001b[1;33m.\u001b[0m\u001b[0m_run_search\u001b[0m\u001b[1;33m(\u001b[0m\u001b[0mevaluate_candidates\u001b[0m\u001b[1;33m)\u001b[0m\u001b[1;33m\u001b[0m\u001b[1;33m\u001b[0m\u001b[0m\n\u001b[0m\u001b[0;32m    842\u001b[0m \u001b[1;33m\u001b[0m\u001b[0m\n\u001b[0;32m    843\u001b[0m             \u001b[1;31m# multimetric is determined here because in the case of a callable\u001b[0m\u001b[1;33m\u001b[0m\u001b[1;33m\u001b[0m\u001b[0m\n",
      "\u001b[1;32m~\\Anaconda3\\envs\\DisasterResponse\\lib\\site-packages\\sklearn\\model_selection\\_search.py\u001b[0m in \u001b[0;36m_run_search\u001b[1;34m(self, evaluate_candidates)\u001b[0m\n\u001b[0;32m   1294\u001b[0m     \u001b[1;32mdef\u001b[0m \u001b[0m_run_search\u001b[0m\u001b[1;33m(\u001b[0m\u001b[0mself\u001b[0m\u001b[1;33m,\u001b[0m \u001b[0mevaluate_candidates\u001b[0m\u001b[1;33m)\u001b[0m\u001b[1;33m:\u001b[0m\u001b[1;33m\u001b[0m\u001b[1;33m\u001b[0m\u001b[0m\n\u001b[0;32m   1295\u001b[0m         \u001b[1;34m\"\"\"Search all candidates in param_grid\"\"\"\u001b[0m\u001b[1;33m\u001b[0m\u001b[1;33m\u001b[0m\u001b[0m\n\u001b[1;32m-> 1296\u001b[1;33m         \u001b[0mevaluate_candidates\u001b[0m\u001b[1;33m(\u001b[0m\u001b[0mParameterGrid\u001b[0m\u001b[1;33m(\u001b[0m\u001b[0mself\u001b[0m\u001b[1;33m.\u001b[0m\u001b[0mparam_grid\u001b[0m\u001b[1;33m)\u001b[0m\u001b[1;33m)\u001b[0m\u001b[1;33m\u001b[0m\u001b[1;33m\u001b[0m\u001b[0m\n\u001b[0m\u001b[0;32m   1297\u001b[0m \u001b[1;33m\u001b[0m\u001b[0m\n\u001b[0;32m   1298\u001b[0m \u001b[1;33m\u001b[0m\u001b[0m\n",
      "\u001b[1;32m~\\Anaconda3\\envs\\DisasterResponse\\lib\\site-packages\\sklearn\\model_selection\\_search.py\u001b[0m in \u001b[0;36mevaluate_candidates\u001b[1;34m(candidate_params, cv, more_results)\u001b[0m\n\u001b[0;32m    793\u001b[0m                               n_splits, n_candidates, n_candidates * n_splits))\n\u001b[0;32m    794\u001b[0m \u001b[1;33m\u001b[0m\u001b[0m\n\u001b[1;32m--> 795\u001b[1;33m                 out = parallel(delayed(_fit_and_score)(clone(base_estimator),\n\u001b[0m\u001b[0;32m    796\u001b[0m                                                        \u001b[0mX\u001b[0m\u001b[1;33m,\u001b[0m \u001b[0my\u001b[0m\u001b[1;33m,\u001b[0m\u001b[1;33m\u001b[0m\u001b[1;33m\u001b[0m\u001b[0m\n\u001b[0;32m    797\u001b[0m                                                        \u001b[0mtrain\u001b[0m\u001b[1;33m=\u001b[0m\u001b[0mtrain\u001b[0m\u001b[1;33m,\u001b[0m \u001b[0mtest\u001b[0m\u001b[1;33m=\u001b[0m\u001b[0mtest\u001b[0m\u001b[1;33m,\u001b[0m\u001b[1;33m\u001b[0m\u001b[1;33m\u001b[0m\u001b[0m\n",
      "\u001b[1;32m~\\Anaconda3\\envs\\DisasterResponse\\lib\\site-packages\\joblib\\parallel.py\u001b[0m in \u001b[0;36m__call__\u001b[1;34m(self, iterable)\u001b[0m\n\u001b[0;32m   1042\u001b[0m                 \u001b[0mself\u001b[0m\u001b[1;33m.\u001b[0m\u001b[0m_iterating\u001b[0m \u001b[1;33m=\u001b[0m \u001b[0mself\u001b[0m\u001b[1;33m.\u001b[0m\u001b[0m_original_iterator\u001b[0m \u001b[1;32mis\u001b[0m \u001b[1;32mnot\u001b[0m \u001b[1;32mNone\u001b[0m\u001b[1;33m\u001b[0m\u001b[1;33m\u001b[0m\u001b[0m\n\u001b[0;32m   1043\u001b[0m \u001b[1;33m\u001b[0m\u001b[0m\n\u001b[1;32m-> 1044\u001b[1;33m             \u001b[1;32mwhile\u001b[0m \u001b[0mself\u001b[0m\u001b[1;33m.\u001b[0m\u001b[0mdispatch_one_batch\u001b[0m\u001b[1;33m(\u001b[0m\u001b[0miterator\u001b[0m\u001b[1;33m)\u001b[0m\u001b[1;33m:\u001b[0m\u001b[1;33m\u001b[0m\u001b[1;33m\u001b[0m\u001b[0m\n\u001b[0m\u001b[0;32m   1045\u001b[0m                 \u001b[1;32mpass\u001b[0m\u001b[1;33m\u001b[0m\u001b[1;33m\u001b[0m\u001b[0m\n\u001b[0;32m   1046\u001b[0m \u001b[1;33m\u001b[0m\u001b[0m\n",
      "\u001b[1;32m~\\Anaconda3\\envs\\DisasterResponse\\lib\\site-packages\\joblib\\parallel.py\u001b[0m in \u001b[0;36mdispatch_one_batch\u001b[1;34m(self, iterator)\u001b[0m\n\u001b[0;32m    857\u001b[0m                 \u001b[1;32mreturn\u001b[0m \u001b[1;32mFalse\u001b[0m\u001b[1;33m\u001b[0m\u001b[1;33m\u001b[0m\u001b[0m\n\u001b[0;32m    858\u001b[0m             \u001b[1;32melse\u001b[0m\u001b[1;33m:\u001b[0m\u001b[1;33m\u001b[0m\u001b[1;33m\u001b[0m\u001b[0m\n\u001b[1;32m--> 859\u001b[1;33m                 \u001b[0mself\u001b[0m\u001b[1;33m.\u001b[0m\u001b[0m_dispatch\u001b[0m\u001b[1;33m(\u001b[0m\u001b[0mtasks\u001b[0m\u001b[1;33m)\u001b[0m\u001b[1;33m\u001b[0m\u001b[1;33m\u001b[0m\u001b[0m\n\u001b[0m\u001b[0;32m    860\u001b[0m                 \u001b[1;32mreturn\u001b[0m \u001b[1;32mTrue\u001b[0m\u001b[1;33m\u001b[0m\u001b[1;33m\u001b[0m\u001b[0m\n\u001b[0;32m    861\u001b[0m \u001b[1;33m\u001b[0m\u001b[0m\n",
      "\u001b[1;32m~\\Anaconda3\\envs\\DisasterResponse\\lib\\site-packages\\joblib\\parallel.py\u001b[0m in \u001b[0;36m_dispatch\u001b[1;34m(self, batch)\u001b[0m\n\u001b[0;32m    775\u001b[0m         \u001b[1;32mwith\u001b[0m \u001b[0mself\u001b[0m\u001b[1;33m.\u001b[0m\u001b[0m_lock\u001b[0m\u001b[1;33m:\u001b[0m\u001b[1;33m\u001b[0m\u001b[1;33m\u001b[0m\u001b[0m\n\u001b[0;32m    776\u001b[0m             \u001b[0mjob_idx\u001b[0m \u001b[1;33m=\u001b[0m \u001b[0mlen\u001b[0m\u001b[1;33m(\u001b[0m\u001b[0mself\u001b[0m\u001b[1;33m.\u001b[0m\u001b[0m_jobs\u001b[0m\u001b[1;33m)\u001b[0m\u001b[1;33m\u001b[0m\u001b[1;33m\u001b[0m\u001b[0m\n\u001b[1;32m--> 777\u001b[1;33m             \u001b[0mjob\u001b[0m \u001b[1;33m=\u001b[0m \u001b[0mself\u001b[0m\u001b[1;33m.\u001b[0m\u001b[0m_backend\u001b[0m\u001b[1;33m.\u001b[0m\u001b[0mapply_async\u001b[0m\u001b[1;33m(\u001b[0m\u001b[0mbatch\u001b[0m\u001b[1;33m,\u001b[0m \u001b[0mcallback\u001b[0m\u001b[1;33m=\u001b[0m\u001b[0mcb\u001b[0m\u001b[1;33m)\u001b[0m\u001b[1;33m\u001b[0m\u001b[1;33m\u001b[0m\u001b[0m\n\u001b[0m\u001b[0;32m    778\u001b[0m             \u001b[1;31m# A job can complete so quickly than its callback is\u001b[0m\u001b[1;33m\u001b[0m\u001b[1;33m\u001b[0m\u001b[0m\n\u001b[0;32m    779\u001b[0m             \u001b[1;31m# called before we get here, causing self._jobs to\u001b[0m\u001b[1;33m\u001b[0m\u001b[1;33m\u001b[0m\u001b[0m\n",
      "\u001b[1;32m~\\Anaconda3\\envs\\DisasterResponse\\lib\\site-packages\\joblib\\_parallel_backends.py\u001b[0m in \u001b[0;36mapply_async\u001b[1;34m(self, func, callback)\u001b[0m\n\u001b[0;32m    206\u001b[0m     \u001b[1;32mdef\u001b[0m \u001b[0mapply_async\u001b[0m\u001b[1;33m(\u001b[0m\u001b[0mself\u001b[0m\u001b[1;33m,\u001b[0m \u001b[0mfunc\u001b[0m\u001b[1;33m,\u001b[0m \u001b[0mcallback\u001b[0m\u001b[1;33m=\u001b[0m\u001b[1;32mNone\u001b[0m\u001b[1;33m)\u001b[0m\u001b[1;33m:\u001b[0m\u001b[1;33m\u001b[0m\u001b[1;33m\u001b[0m\u001b[0m\n\u001b[0;32m    207\u001b[0m         \u001b[1;34m\"\"\"Schedule a func to be run\"\"\"\u001b[0m\u001b[1;33m\u001b[0m\u001b[1;33m\u001b[0m\u001b[0m\n\u001b[1;32m--> 208\u001b[1;33m         \u001b[0mresult\u001b[0m \u001b[1;33m=\u001b[0m \u001b[0mImmediateResult\u001b[0m\u001b[1;33m(\u001b[0m\u001b[0mfunc\u001b[0m\u001b[1;33m)\u001b[0m\u001b[1;33m\u001b[0m\u001b[1;33m\u001b[0m\u001b[0m\n\u001b[0m\u001b[0;32m    209\u001b[0m         \u001b[1;32mif\u001b[0m \u001b[0mcallback\u001b[0m\u001b[1;33m:\u001b[0m\u001b[1;33m\u001b[0m\u001b[1;33m\u001b[0m\u001b[0m\n\u001b[0;32m    210\u001b[0m             \u001b[0mcallback\u001b[0m\u001b[1;33m(\u001b[0m\u001b[0mresult\u001b[0m\u001b[1;33m)\u001b[0m\u001b[1;33m\u001b[0m\u001b[1;33m\u001b[0m\u001b[0m\n",
      "\u001b[1;32m~\\Anaconda3\\envs\\DisasterResponse\\lib\\site-packages\\joblib\\_parallel_backends.py\u001b[0m in \u001b[0;36m__init__\u001b[1;34m(self, batch)\u001b[0m\n\u001b[0;32m    570\u001b[0m         \u001b[1;31m# Don't delay the application, to avoid keeping the input\u001b[0m\u001b[1;33m\u001b[0m\u001b[1;33m\u001b[0m\u001b[0m\n\u001b[0;32m    571\u001b[0m         \u001b[1;31m# arguments in memory\u001b[0m\u001b[1;33m\u001b[0m\u001b[1;33m\u001b[0m\u001b[0m\n\u001b[1;32m--> 572\u001b[1;33m         \u001b[0mself\u001b[0m\u001b[1;33m.\u001b[0m\u001b[0mresults\u001b[0m \u001b[1;33m=\u001b[0m \u001b[0mbatch\u001b[0m\u001b[1;33m(\u001b[0m\u001b[1;33m)\u001b[0m\u001b[1;33m\u001b[0m\u001b[1;33m\u001b[0m\u001b[0m\n\u001b[0m\u001b[0;32m    573\u001b[0m \u001b[1;33m\u001b[0m\u001b[0m\n\u001b[0;32m    574\u001b[0m     \u001b[1;32mdef\u001b[0m \u001b[0mget\u001b[0m\u001b[1;33m(\u001b[0m\u001b[0mself\u001b[0m\u001b[1;33m)\u001b[0m\u001b[1;33m:\u001b[0m\u001b[1;33m\u001b[0m\u001b[1;33m\u001b[0m\u001b[0m\n",
      "\u001b[1;32m~\\Anaconda3\\envs\\DisasterResponse\\lib\\site-packages\\joblib\\parallel.py\u001b[0m in \u001b[0;36m__call__\u001b[1;34m(self)\u001b[0m\n\u001b[0;32m    260\u001b[0m         \u001b[1;31m# change the default number of processes to -1\u001b[0m\u001b[1;33m\u001b[0m\u001b[1;33m\u001b[0m\u001b[0m\n\u001b[0;32m    261\u001b[0m         \u001b[1;32mwith\u001b[0m \u001b[0mparallel_backend\u001b[0m\u001b[1;33m(\u001b[0m\u001b[0mself\u001b[0m\u001b[1;33m.\u001b[0m\u001b[0m_backend\u001b[0m\u001b[1;33m,\u001b[0m \u001b[0mn_jobs\u001b[0m\u001b[1;33m=\u001b[0m\u001b[0mself\u001b[0m\u001b[1;33m.\u001b[0m\u001b[0m_n_jobs\u001b[0m\u001b[1;33m)\u001b[0m\u001b[1;33m:\u001b[0m\u001b[1;33m\u001b[0m\u001b[1;33m\u001b[0m\u001b[0m\n\u001b[1;32m--> 262\u001b[1;33m             return [func(*args, **kwargs)\n\u001b[0m\u001b[0;32m    263\u001b[0m                     for func, args, kwargs in self.items]\n\u001b[0;32m    264\u001b[0m \u001b[1;33m\u001b[0m\u001b[0m\n",
      "\u001b[1;32m~\\Anaconda3\\envs\\DisasterResponse\\lib\\site-packages\\joblib\\parallel.py\u001b[0m in \u001b[0;36m<listcomp>\u001b[1;34m(.0)\u001b[0m\n\u001b[0;32m    260\u001b[0m         \u001b[1;31m# change the default number of processes to -1\u001b[0m\u001b[1;33m\u001b[0m\u001b[1;33m\u001b[0m\u001b[0m\n\u001b[0;32m    261\u001b[0m         \u001b[1;32mwith\u001b[0m \u001b[0mparallel_backend\u001b[0m\u001b[1;33m(\u001b[0m\u001b[0mself\u001b[0m\u001b[1;33m.\u001b[0m\u001b[0m_backend\u001b[0m\u001b[1;33m,\u001b[0m \u001b[0mn_jobs\u001b[0m\u001b[1;33m=\u001b[0m\u001b[0mself\u001b[0m\u001b[1;33m.\u001b[0m\u001b[0m_n_jobs\u001b[0m\u001b[1;33m)\u001b[0m\u001b[1;33m:\u001b[0m\u001b[1;33m\u001b[0m\u001b[1;33m\u001b[0m\u001b[0m\n\u001b[1;32m--> 262\u001b[1;33m             return [func(*args, **kwargs)\n\u001b[0m\u001b[0;32m    263\u001b[0m                     for func, args, kwargs in self.items]\n\u001b[0;32m    264\u001b[0m \u001b[1;33m\u001b[0m\u001b[0m\n",
      "\u001b[1;32m~\\Anaconda3\\envs\\DisasterResponse\\lib\\site-packages\\sklearn\\utils\\fixes.py\u001b[0m in \u001b[0;36m__call__\u001b[1;34m(self, *args, **kwargs)\u001b[0m\n\u001b[0;32m    220\u001b[0m     \u001b[1;32mdef\u001b[0m \u001b[0m__call__\u001b[0m\u001b[1;33m(\u001b[0m\u001b[0mself\u001b[0m\u001b[1;33m,\u001b[0m \u001b[1;33m*\u001b[0m\u001b[0margs\u001b[0m\u001b[1;33m,\u001b[0m \u001b[1;33m**\u001b[0m\u001b[0mkwargs\u001b[0m\u001b[1;33m)\u001b[0m\u001b[1;33m:\u001b[0m\u001b[1;33m\u001b[0m\u001b[1;33m\u001b[0m\u001b[0m\n\u001b[0;32m    221\u001b[0m         \u001b[1;32mwith\u001b[0m \u001b[0mconfig_context\u001b[0m\u001b[1;33m(\u001b[0m\u001b[1;33m**\u001b[0m\u001b[0mself\u001b[0m\u001b[1;33m.\u001b[0m\u001b[0mconfig\u001b[0m\u001b[1;33m)\u001b[0m\u001b[1;33m:\u001b[0m\u001b[1;33m\u001b[0m\u001b[1;33m\u001b[0m\u001b[0m\n\u001b[1;32m--> 222\u001b[1;33m             \u001b[1;32mreturn\u001b[0m \u001b[0mself\u001b[0m\u001b[1;33m.\u001b[0m\u001b[0mfunction\u001b[0m\u001b[1;33m(\u001b[0m\u001b[1;33m*\u001b[0m\u001b[0margs\u001b[0m\u001b[1;33m,\u001b[0m \u001b[1;33m**\u001b[0m\u001b[0mkwargs\u001b[0m\u001b[1;33m)\u001b[0m\u001b[1;33m\u001b[0m\u001b[1;33m\u001b[0m\u001b[0m\n\u001b[0m",
      "\u001b[1;32m~\\Anaconda3\\envs\\DisasterResponse\\lib\\site-packages\\sklearn\\model_selection\\_validation.py\u001b[0m in \u001b[0;36m_fit_and_score\u001b[1;34m(estimator, X, y, scorer, train, test, verbose, parameters, fit_params, return_train_score, return_parameters, return_n_test_samples, return_times, return_estimator, split_progress, candidate_progress, error_score)\u001b[0m\n\u001b[0;32m    596\u001b[0m             \u001b[0mestimator\u001b[0m\u001b[1;33m.\u001b[0m\u001b[0mfit\u001b[0m\u001b[1;33m(\u001b[0m\u001b[0mX_train\u001b[0m\u001b[1;33m,\u001b[0m \u001b[1;33m**\u001b[0m\u001b[0mfit_params\u001b[0m\u001b[1;33m)\u001b[0m\u001b[1;33m\u001b[0m\u001b[1;33m\u001b[0m\u001b[0m\n\u001b[0;32m    597\u001b[0m         \u001b[1;32melse\u001b[0m\u001b[1;33m:\u001b[0m\u001b[1;33m\u001b[0m\u001b[1;33m\u001b[0m\u001b[0m\n\u001b[1;32m--> 598\u001b[1;33m             \u001b[0mestimator\u001b[0m\u001b[1;33m.\u001b[0m\u001b[0mfit\u001b[0m\u001b[1;33m(\u001b[0m\u001b[0mX_train\u001b[0m\u001b[1;33m,\u001b[0m \u001b[0my_train\u001b[0m\u001b[1;33m,\u001b[0m \u001b[1;33m**\u001b[0m\u001b[0mfit_params\u001b[0m\u001b[1;33m)\u001b[0m\u001b[1;33m\u001b[0m\u001b[1;33m\u001b[0m\u001b[0m\n\u001b[0m\u001b[0;32m    599\u001b[0m \u001b[1;33m\u001b[0m\u001b[0m\n\u001b[0;32m    600\u001b[0m     \u001b[1;32mexcept\u001b[0m \u001b[0mException\u001b[0m \u001b[1;32mas\u001b[0m \u001b[0me\u001b[0m\u001b[1;33m:\u001b[0m\u001b[1;33m\u001b[0m\u001b[1;33m\u001b[0m\u001b[0m\n",
      "\u001b[1;32m~\\Anaconda3\\envs\\DisasterResponse\\lib\\site-packages\\sklearn\\pipeline.py\u001b[0m in \u001b[0;36mfit\u001b[1;34m(self, X, y, **fit_params)\u001b[0m\n\u001b[0;32m    344\u001b[0m             \u001b[1;32mif\u001b[0m \u001b[0mself\u001b[0m\u001b[1;33m.\u001b[0m\u001b[0m_final_estimator\u001b[0m \u001b[1;33m!=\u001b[0m \u001b[1;34m'passthrough'\u001b[0m\u001b[1;33m:\u001b[0m\u001b[1;33m\u001b[0m\u001b[1;33m\u001b[0m\u001b[0m\n\u001b[0;32m    345\u001b[0m                 \u001b[0mfit_params_last_step\u001b[0m \u001b[1;33m=\u001b[0m \u001b[0mfit_params_steps\u001b[0m\u001b[1;33m[\u001b[0m\u001b[0mself\u001b[0m\u001b[1;33m.\u001b[0m\u001b[0msteps\u001b[0m\u001b[1;33m[\u001b[0m\u001b[1;33m-\u001b[0m\u001b[1;36m1\u001b[0m\u001b[1;33m]\u001b[0m\u001b[1;33m[\u001b[0m\u001b[1;36m0\u001b[0m\u001b[1;33m]\u001b[0m\u001b[1;33m]\u001b[0m\u001b[1;33m\u001b[0m\u001b[1;33m\u001b[0m\u001b[0m\n\u001b[1;32m--> 346\u001b[1;33m                 \u001b[0mself\u001b[0m\u001b[1;33m.\u001b[0m\u001b[0m_final_estimator\u001b[0m\u001b[1;33m.\u001b[0m\u001b[0mfit\u001b[0m\u001b[1;33m(\u001b[0m\u001b[0mXt\u001b[0m\u001b[1;33m,\u001b[0m \u001b[0my\u001b[0m\u001b[1;33m,\u001b[0m \u001b[1;33m**\u001b[0m\u001b[0mfit_params_last_step\u001b[0m\u001b[1;33m)\u001b[0m\u001b[1;33m\u001b[0m\u001b[1;33m\u001b[0m\u001b[0m\n\u001b[0m\u001b[0;32m    347\u001b[0m \u001b[1;33m\u001b[0m\u001b[0m\n\u001b[0;32m    348\u001b[0m         \u001b[1;32mreturn\u001b[0m \u001b[0mself\u001b[0m\u001b[1;33m\u001b[0m\u001b[1;33m\u001b[0m\u001b[0m\n",
      "\u001b[1;32m~\\Anaconda3\\envs\\DisasterResponse\\lib\\site-packages\\sklearn\\multioutput.py\u001b[0m in \u001b[0;36mfit\u001b[1;34m(self, X, Y, sample_weight, **fit_params)\u001b[0m\n\u001b[0;32m    366\u001b[0m         \u001b[0mself\u001b[0m \u001b[1;33m:\u001b[0m \u001b[0mobject\u001b[0m\u001b[1;33m\u001b[0m\u001b[1;33m\u001b[0m\u001b[0m\n\u001b[0;32m    367\u001b[0m         \"\"\"\n\u001b[1;32m--> 368\u001b[1;33m         \u001b[0msuper\u001b[0m\u001b[1;33m(\u001b[0m\u001b[1;33m)\u001b[0m\u001b[1;33m.\u001b[0m\u001b[0mfit\u001b[0m\u001b[1;33m(\u001b[0m\u001b[0mX\u001b[0m\u001b[1;33m,\u001b[0m \u001b[0mY\u001b[0m\u001b[1;33m,\u001b[0m \u001b[0msample_weight\u001b[0m\u001b[1;33m,\u001b[0m \u001b[1;33m**\u001b[0m\u001b[0mfit_params\u001b[0m\u001b[1;33m)\u001b[0m\u001b[1;33m\u001b[0m\u001b[1;33m\u001b[0m\u001b[0m\n\u001b[0m\u001b[0;32m    369\u001b[0m         \u001b[0mself\u001b[0m\u001b[1;33m.\u001b[0m\u001b[0mclasses_\u001b[0m \u001b[1;33m=\u001b[0m \u001b[1;33m[\u001b[0m\u001b[0mestimator\u001b[0m\u001b[1;33m.\u001b[0m\u001b[0mclasses_\u001b[0m \u001b[1;32mfor\u001b[0m \u001b[0mestimator\u001b[0m \u001b[1;32min\u001b[0m \u001b[0mself\u001b[0m\u001b[1;33m.\u001b[0m\u001b[0mestimators_\u001b[0m\u001b[1;33m]\u001b[0m\u001b[1;33m\u001b[0m\u001b[1;33m\u001b[0m\u001b[0m\n\u001b[0;32m    370\u001b[0m         \u001b[1;32mreturn\u001b[0m \u001b[0mself\u001b[0m\u001b[1;33m\u001b[0m\u001b[1;33m\u001b[0m\u001b[0m\n",
      "\u001b[1;32m~\\Anaconda3\\envs\\DisasterResponse\\lib\\site-packages\\sklearn\\multioutput.py\u001b[0m in \u001b[0;36mfit\u001b[1;34m(self, X, y, sample_weight, **fit_params)\u001b[0m\n\u001b[0;32m    176\u001b[0m         \u001b[0mfit_params_validated\u001b[0m \u001b[1;33m=\u001b[0m \u001b[0m_check_fit_params\u001b[0m\u001b[1;33m(\u001b[0m\u001b[0mX\u001b[0m\u001b[1;33m,\u001b[0m \u001b[0mfit_params\u001b[0m\u001b[1;33m)\u001b[0m\u001b[1;33m\u001b[0m\u001b[1;33m\u001b[0m\u001b[0m\n\u001b[0;32m    177\u001b[0m \u001b[1;33m\u001b[0m\u001b[0m\n\u001b[1;32m--> 178\u001b[1;33m         self.estimators_ = Parallel(n_jobs=self.n_jobs)(\n\u001b[0m\u001b[0;32m    179\u001b[0m             delayed(_fit_estimator)(\n\u001b[0;32m    180\u001b[0m                 \u001b[0mself\u001b[0m\u001b[1;33m.\u001b[0m\u001b[0mestimator\u001b[0m\u001b[1;33m,\u001b[0m \u001b[0mX\u001b[0m\u001b[1;33m,\u001b[0m \u001b[0my\u001b[0m\u001b[1;33m[\u001b[0m\u001b[1;33m:\u001b[0m\u001b[1;33m,\u001b[0m \u001b[0mi\u001b[0m\u001b[1;33m]\u001b[0m\u001b[1;33m,\u001b[0m \u001b[0msample_weight\u001b[0m\u001b[1;33m,\u001b[0m\u001b[1;33m\u001b[0m\u001b[1;33m\u001b[0m\u001b[0m\n",
      "\u001b[1;32m~\\Anaconda3\\envs\\DisasterResponse\\lib\\site-packages\\joblib\\parallel.py\u001b[0m in \u001b[0;36m__call__\u001b[1;34m(self, iterable)\u001b[0m\n\u001b[0;32m   1042\u001b[0m                 \u001b[0mself\u001b[0m\u001b[1;33m.\u001b[0m\u001b[0m_iterating\u001b[0m \u001b[1;33m=\u001b[0m \u001b[0mself\u001b[0m\u001b[1;33m.\u001b[0m\u001b[0m_original_iterator\u001b[0m \u001b[1;32mis\u001b[0m \u001b[1;32mnot\u001b[0m \u001b[1;32mNone\u001b[0m\u001b[1;33m\u001b[0m\u001b[1;33m\u001b[0m\u001b[0m\n\u001b[0;32m   1043\u001b[0m \u001b[1;33m\u001b[0m\u001b[0m\n\u001b[1;32m-> 1044\u001b[1;33m             \u001b[1;32mwhile\u001b[0m \u001b[0mself\u001b[0m\u001b[1;33m.\u001b[0m\u001b[0mdispatch_one_batch\u001b[0m\u001b[1;33m(\u001b[0m\u001b[0miterator\u001b[0m\u001b[1;33m)\u001b[0m\u001b[1;33m:\u001b[0m\u001b[1;33m\u001b[0m\u001b[1;33m\u001b[0m\u001b[0m\n\u001b[0m\u001b[0;32m   1045\u001b[0m                 \u001b[1;32mpass\u001b[0m\u001b[1;33m\u001b[0m\u001b[1;33m\u001b[0m\u001b[0m\n\u001b[0;32m   1046\u001b[0m \u001b[1;33m\u001b[0m\u001b[0m\n",
      "\u001b[1;32m~\\Anaconda3\\envs\\DisasterResponse\\lib\\site-packages\\joblib\\parallel.py\u001b[0m in \u001b[0;36mdispatch_one_batch\u001b[1;34m(self, iterator)\u001b[0m\n\u001b[0;32m    857\u001b[0m                 \u001b[1;32mreturn\u001b[0m \u001b[1;32mFalse\u001b[0m\u001b[1;33m\u001b[0m\u001b[1;33m\u001b[0m\u001b[0m\n\u001b[0;32m    858\u001b[0m             \u001b[1;32melse\u001b[0m\u001b[1;33m:\u001b[0m\u001b[1;33m\u001b[0m\u001b[1;33m\u001b[0m\u001b[0m\n\u001b[1;32m--> 859\u001b[1;33m                 \u001b[0mself\u001b[0m\u001b[1;33m.\u001b[0m\u001b[0m_dispatch\u001b[0m\u001b[1;33m(\u001b[0m\u001b[0mtasks\u001b[0m\u001b[1;33m)\u001b[0m\u001b[1;33m\u001b[0m\u001b[1;33m\u001b[0m\u001b[0m\n\u001b[0m\u001b[0;32m    860\u001b[0m                 \u001b[1;32mreturn\u001b[0m \u001b[1;32mTrue\u001b[0m\u001b[1;33m\u001b[0m\u001b[1;33m\u001b[0m\u001b[0m\n\u001b[0;32m    861\u001b[0m \u001b[1;33m\u001b[0m\u001b[0m\n",
      "\u001b[1;32m~\\Anaconda3\\envs\\DisasterResponse\\lib\\site-packages\\joblib\\parallel.py\u001b[0m in \u001b[0;36m_dispatch\u001b[1;34m(self, batch)\u001b[0m\n\u001b[0;32m    775\u001b[0m         \u001b[1;32mwith\u001b[0m \u001b[0mself\u001b[0m\u001b[1;33m.\u001b[0m\u001b[0m_lock\u001b[0m\u001b[1;33m:\u001b[0m\u001b[1;33m\u001b[0m\u001b[1;33m\u001b[0m\u001b[0m\n\u001b[0;32m    776\u001b[0m             \u001b[0mjob_idx\u001b[0m \u001b[1;33m=\u001b[0m \u001b[0mlen\u001b[0m\u001b[1;33m(\u001b[0m\u001b[0mself\u001b[0m\u001b[1;33m.\u001b[0m\u001b[0m_jobs\u001b[0m\u001b[1;33m)\u001b[0m\u001b[1;33m\u001b[0m\u001b[1;33m\u001b[0m\u001b[0m\n\u001b[1;32m--> 777\u001b[1;33m             \u001b[0mjob\u001b[0m \u001b[1;33m=\u001b[0m \u001b[0mself\u001b[0m\u001b[1;33m.\u001b[0m\u001b[0m_backend\u001b[0m\u001b[1;33m.\u001b[0m\u001b[0mapply_async\u001b[0m\u001b[1;33m(\u001b[0m\u001b[0mbatch\u001b[0m\u001b[1;33m,\u001b[0m \u001b[0mcallback\u001b[0m\u001b[1;33m=\u001b[0m\u001b[0mcb\u001b[0m\u001b[1;33m)\u001b[0m\u001b[1;33m\u001b[0m\u001b[1;33m\u001b[0m\u001b[0m\n\u001b[0m\u001b[0;32m    778\u001b[0m             \u001b[1;31m# A job can complete so quickly than its callback is\u001b[0m\u001b[1;33m\u001b[0m\u001b[1;33m\u001b[0m\u001b[0m\n\u001b[0;32m    779\u001b[0m             \u001b[1;31m# called before we get here, causing self._jobs to\u001b[0m\u001b[1;33m\u001b[0m\u001b[1;33m\u001b[0m\u001b[0m\n",
      "\u001b[1;32m~\\Anaconda3\\envs\\DisasterResponse\\lib\\site-packages\\joblib\\_parallel_backends.py\u001b[0m in \u001b[0;36mapply_async\u001b[1;34m(self, func, callback)\u001b[0m\n\u001b[0;32m    206\u001b[0m     \u001b[1;32mdef\u001b[0m \u001b[0mapply_async\u001b[0m\u001b[1;33m(\u001b[0m\u001b[0mself\u001b[0m\u001b[1;33m,\u001b[0m \u001b[0mfunc\u001b[0m\u001b[1;33m,\u001b[0m \u001b[0mcallback\u001b[0m\u001b[1;33m=\u001b[0m\u001b[1;32mNone\u001b[0m\u001b[1;33m)\u001b[0m\u001b[1;33m:\u001b[0m\u001b[1;33m\u001b[0m\u001b[1;33m\u001b[0m\u001b[0m\n\u001b[0;32m    207\u001b[0m         \u001b[1;34m\"\"\"Schedule a func to be run\"\"\"\u001b[0m\u001b[1;33m\u001b[0m\u001b[1;33m\u001b[0m\u001b[0m\n\u001b[1;32m--> 208\u001b[1;33m         \u001b[0mresult\u001b[0m \u001b[1;33m=\u001b[0m \u001b[0mImmediateResult\u001b[0m\u001b[1;33m(\u001b[0m\u001b[0mfunc\u001b[0m\u001b[1;33m)\u001b[0m\u001b[1;33m\u001b[0m\u001b[1;33m\u001b[0m\u001b[0m\n\u001b[0m\u001b[0;32m    209\u001b[0m         \u001b[1;32mif\u001b[0m \u001b[0mcallback\u001b[0m\u001b[1;33m:\u001b[0m\u001b[1;33m\u001b[0m\u001b[1;33m\u001b[0m\u001b[0m\n\u001b[0;32m    210\u001b[0m             \u001b[0mcallback\u001b[0m\u001b[1;33m(\u001b[0m\u001b[0mresult\u001b[0m\u001b[1;33m)\u001b[0m\u001b[1;33m\u001b[0m\u001b[1;33m\u001b[0m\u001b[0m\n",
      "\u001b[1;32m~\\Anaconda3\\envs\\DisasterResponse\\lib\\site-packages\\joblib\\_parallel_backends.py\u001b[0m in \u001b[0;36m__init__\u001b[1;34m(self, batch)\u001b[0m\n\u001b[0;32m    570\u001b[0m         \u001b[1;31m# Don't delay the application, to avoid keeping the input\u001b[0m\u001b[1;33m\u001b[0m\u001b[1;33m\u001b[0m\u001b[0m\n\u001b[0;32m    571\u001b[0m         \u001b[1;31m# arguments in memory\u001b[0m\u001b[1;33m\u001b[0m\u001b[1;33m\u001b[0m\u001b[0m\n\u001b[1;32m--> 572\u001b[1;33m         \u001b[0mself\u001b[0m\u001b[1;33m.\u001b[0m\u001b[0mresults\u001b[0m \u001b[1;33m=\u001b[0m \u001b[0mbatch\u001b[0m\u001b[1;33m(\u001b[0m\u001b[1;33m)\u001b[0m\u001b[1;33m\u001b[0m\u001b[1;33m\u001b[0m\u001b[0m\n\u001b[0m\u001b[0;32m    573\u001b[0m \u001b[1;33m\u001b[0m\u001b[0m\n\u001b[0;32m    574\u001b[0m     \u001b[1;32mdef\u001b[0m \u001b[0mget\u001b[0m\u001b[1;33m(\u001b[0m\u001b[0mself\u001b[0m\u001b[1;33m)\u001b[0m\u001b[1;33m:\u001b[0m\u001b[1;33m\u001b[0m\u001b[1;33m\u001b[0m\u001b[0m\n",
      "\u001b[1;32m~\\Anaconda3\\envs\\DisasterResponse\\lib\\site-packages\\joblib\\parallel.py\u001b[0m in \u001b[0;36m__call__\u001b[1;34m(self)\u001b[0m\n\u001b[0;32m    260\u001b[0m         \u001b[1;31m# change the default number of processes to -1\u001b[0m\u001b[1;33m\u001b[0m\u001b[1;33m\u001b[0m\u001b[0m\n\u001b[0;32m    261\u001b[0m         \u001b[1;32mwith\u001b[0m \u001b[0mparallel_backend\u001b[0m\u001b[1;33m(\u001b[0m\u001b[0mself\u001b[0m\u001b[1;33m.\u001b[0m\u001b[0m_backend\u001b[0m\u001b[1;33m,\u001b[0m \u001b[0mn_jobs\u001b[0m\u001b[1;33m=\u001b[0m\u001b[0mself\u001b[0m\u001b[1;33m.\u001b[0m\u001b[0m_n_jobs\u001b[0m\u001b[1;33m)\u001b[0m\u001b[1;33m:\u001b[0m\u001b[1;33m\u001b[0m\u001b[1;33m\u001b[0m\u001b[0m\n\u001b[1;32m--> 262\u001b[1;33m             return [func(*args, **kwargs)\n\u001b[0m\u001b[0;32m    263\u001b[0m                     for func, args, kwargs in self.items]\n\u001b[0;32m    264\u001b[0m \u001b[1;33m\u001b[0m\u001b[0m\n",
      "\u001b[1;32m~\\Anaconda3\\envs\\DisasterResponse\\lib\\site-packages\\joblib\\parallel.py\u001b[0m in \u001b[0;36m<listcomp>\u001b[1;34m(.0)\u001b[0m\n\u001b[0;32m    260\u001b[0m         \u001b[1;31m# change the default number of processes to -1\u001b[0m\u001b[1;33m\u001b[0m\u001b[1;33m\u001b[0m\u001b[0m\n\u001b[0;32m    261\u001b[0m         \u001b[1;32mwith\u001b[0m \u001b[0mparallel_backend\u001b[0m\u001b[1;33m(\u001b[0m\u001b[0mself\u001b[0m\u001b[1;33m.\u001b[0m\u001b[0m_backend\u001b[0m\u001b[1;33m,\u001b[0m \u001b[0mn_jobs\u001b[0m\u001b[1;33m=\u001b[0m\u001b[0mself\u001b[0m\u001b[1;33m.\u001b[0m\u001b[0m_n_jobs\u001b[0m\u001b[1;33m)\u001b[0m\u001b[1;33m:\u001b[0m\u001b[1;33m\u001b[0m\u001b[1;33m\u001b[0m\u001b[0m\n\u001b[1;32m--> 262\u001b[1;33m             return [func(*args, **kwargs)\n\u001b[0m\u001b[0;32m    263\u001b[0m                     for func, args, kwargs in self.items]\n\u001b[0;32m    264\u001b[0m \u001b[1;33m\u001b[0m\u001b[0m\n",
      "\u001b[1;32m~\\Anaconda3\\envs\\DisasterResponse\\lib\\site-packages\\sklearn\\utils\\fixes.py\u001b[0m in \u001b[0;36m__call__\u001b[1;34m(self, *args, **kwargs)\u001b[0m\n\u001b[0;32m    220\u001b[0m     \u001b[1;32mdef\u001b[0m \u001b[0m__call__\u001b[0m\u001b[1;33m(\u001b[0m\u001b[0mself\u001b[0m\u001b[1;33m,\u001b[0m \u001b[1;33m*\u001b[0m\u001b[0margs\u001b[0m\u001b[1;33m,\u001b[0m \u001b[1;33m**\u001b[0m\u001b[0mkwargs\u001b[0m\u001b[1;33m)\u001b[0m\u001b[1;33m:\u001b[0m\u001b[1;33m\u001b[0m\u001b[1;33m\u001b[0m\u001b[0m\n\u001b[0;32m    221\u001b[0m         \u001b[1;32mwith\u001b[0m \u001b[0mconfig_context\u001b[0m\u001b[1;33m(\u001b[0m\u001b[1;33m**\u001b[0m\u001b[0mself\u001b[0m\u001b[1;33m.\u001b[0m\u001b[0mconfig\u001b[0m\u001b[1;33m)\u001b[0m\u001b[1;33m:\u001b[0m\u001b[1;33m\u001b[0m\u001b[1;33m\u001b[0m\u001b[0m\n\u001b[1;32m--> 222\u001b[1;33m             \u001b[1;32mreturn\u001b[0m \u001b[0mself\u001b[0m\u001b[1;33m.\u001b[0m\u001b[0mfunction\u001b[0m\u001b[1;33m(\u001b[0m\u001b[1;33m*\u001b[0m\u001b[0margs\u001b[0m\u001b[1;33m,\u001b[0m \u001b[1;33m**\u001b[0m\u001b[0mkwargs\u001b[0m\u001b[1;33m)\u001b[0m\u001b[1;33m\u001b[0m\u001b[1;33m\u001b[0m\u001b[0m\n\u001b[0m",
      "\u001b[1;32m~\\Anaconda3\\envs\\DisasterResponse\\lib\\site-packages\\sklearn\\multioutput.py\u001b[0m in \u001b[0;36m_fit_estimator\u001b[1;34m(estimator, X, y, sample_weight, **fit_params)\u001b[0m\n\u001b[0;32m     39\u001b[0m         \u001b[0mestimator\u001b[0m\u001b[1;33m.\u001b[0m\u001b[0mfit\u001b[0m\u001b[1;33m(\u001b[0m\u001b[0mX\u001b[0m\u001b[1;33m,\u001b[0m \u001b[0my\u001b[0m\u001b[1;33m,\u001b[0m \u001b[0msample_weight\u001b[0m\u001b[1;33m=\u001b[0m\u001b[0msample_weight\u001b[0m\u001b[1;33m,\u001b[0m \u001b[1;33m**\u001b[0m\u001b[0mfit_params\u001b[0m\u001b[1;33m)\u001b[0m\u001b[1;33m\u001b[0m\u001b[1;33m\u001b[0m\u001b[0m\n\u001b[0;32m     40\u001b[0m     \u001b[1;32melse\u001b[0m\u001b[1;33m:\u001b[0m\u001b[1;33m\u001b[0m\u001b[1;33m\u001b[0m\u001b[0m\n\u001b[1;32m---> 41\u001b[1;33m         \u001b[0mestimator\u001b[0m\u001b[1;33m.\u001b[0m\u001b[0mfit\u001b[0m\u001b[1;33m(\u001b[0m\u001b[0mX\u001b[0m\u001b[1;33m,\u001b[0m \u001b[0my\u001b[0m\u001b[1;33m,\u001b[0m \u001b[1;33m**\u001b[0m\u001b[0mfit_params\u001b[0m\u001b[1;33m)\u001b[0m\u001b[1;33m\u001b[0m\u001b[1;33m\u001b[0m\u001b[0m\n\u001b[0m\u001b[0;32m     42\u001b[0m     \u001b[1;32mreturn\u001b[0m \u001b[0mestimator\u001b[0m\u001b[1;33m\u001b[0m\u001b[1;33m\u001b[0m\u001b[0m\n\u001b[0;32m     43\u001b[0m \u001b[1;33m\u001b[0m\u001b[0m\n",
      "\u001b[1;32m~\\Anaconda3\\envs\\DisasterResponse\\lib\\site-packages\\sklearn\\tree\\_classes.py\u001b[0m in \u001b[0;36mfit\u001b[1;34m(self, X, y, sample_weight, check_input, X_idx_sorted)\u001b[0m\n\u001b[0;32m    901\u001b[0m         \"\"\"\n\u001b[0;32m    902\u001b[0m \u001b[1;33m\u001b[0m\u001b[0m\n\u001b[1;32m--> 903\u001b[1;33m         super().fit(\n\u001b[0m\u001b[0;32m    904\u001b[0m             \u001b[0mX\u001b[0m\u001b[1;33m,\u001b[0m \u001b[0my\u001b[0m\u001b[1;33m,\u001b[0m\u001b[1;33m\u001b[0m\u001b[1;33m\u001b[0m\u001b[0m\n\u001b[0;32m    905\u001b[0m             \u001b[0msample_weight\u001b[0m\u001b[1;33m=\u001b[0m\u001b[0msample_weight\u001b[0m\u001b[1;33m,\u001b[0m\u001b[1;33m\u001b[0m\u001b[1;33m\u001b[0m\u001b[0m\n",
      "\u001b[1;32m~\\Anaconda3\\envs\\DisasterResponse\\lib\\site-packages\\sklearn\\tree\\_classes.py\u001b[0m in \u001b[0;36mfit\u001b[1;34m(self, X, y, sample_weight, check_input, X_idx_sorted)\u001b[0m\n\u001b[0;32m    392\u001b[0m                                            min_impurity_split)\n\u001b[0;32m    393\u001b[0m \u001b[1;33m\u001b[0m\u001b[0m\n\u001b[1;32m--> 394\u001b[1;33m         \u001b[0mbuilder\u001b[0m\u001b[1;33m.\u001b[0m\u001b[0mbuild\u001b[0m\u001b[1;33m(\u001b[0m\u001b[0mself\u001b[0m\u001b[1;33m.\u001b[0m\u001b[0mtree_\u001b[0m\u001b[1;33m,\u001b[0m \u001b[0mX\u001b[0m\u001b[1;33m,\u001b[0m \u001b[0my\u001b[0m\u001b[1;33m,\u001b[0m \u001b[0msample_weight\u001b[0m\u001b[1;33m)\u001b[0m\u001b[1;33m\u001b[0m\u001b[1;33m\u001b[0m\u001b[0m\n\u001b[0m\u001b[0;32m    395\u001b[0m \u001b[1;33m\u001b[0m\u001b[0m\n\u001b[0;32m    396\u001b[0m         \u001b[1;32mif\u001b[0m \u001b[0mself\u001b[0m\u001b[1;33m.\u001b[0m\u001b[0mn_outputs_\u001b[0m \u001b[1;33m==\u001b[0m \u001b[1;36m1\u001b[0m \u001b[1;32mand\u001b[0m \u001b[0mis_classifier\u001b[0m\u001b[1;33m(\u001b[0m\u001b[0mself\u001b[0m\u001b[1;33m)\u001b[0m\u001b[1;33m:\u001b[0m\u001b[1;33m\u001b[0m\u001b[1;33m\u001b[0m\u001b[0m\n",
      "\u001b[1;31mKeyboardInterrupt\u001b[0m: "
     ]
    }
   ],
   "source": [
    "#Attention! This cell takes much time to perform!\n",
    "tree_opt.fit(X_train, y_train)"
   ]
  },
  {
   "cell_type": "code",
   "execution_count": null,
   "id": "2284b830",
   "metadata": {},
   "outputs": [],
   "source": [
    "tree_opt.cv_results_\n"
   ]
  },
  {
   "cell_type": "markdown",
   "id": "5c1e3d7a",
   "metadata": {},
   "source": [
    "#### The best rank seems to be for criterion \"entropy\" and max depth 20. It doesn' necessary mean better recalls or precisions for our categories"
   ]
  },
  {
   "cell_type": "code",
   "execution_count": null,
   "id": "834df8f9",
   "metadata": {},
   "outputs": [],
   "source": [
    "tree = make_sklearn_pipeline(verbose = True, steps = [('vect', CountVectorizer(tokenizer = tokenize)),\n",
    "                           ('tfidf', TfidfTransformer()),                                              \n",
    "                           ('clf', MultiOutputClassifier(estimator = DecisionTreeClassifier\n",
    "                                    (criterion = \"entropy\", max_depth=20, min_samples_leaf=1, \n",
    "                                    class_weight = \"balanced\", random_state = 42)))])"
   ]
  },
  {
   "cell_type": "code",
   "execution_count": null,
   "id": "e3c41f16",
   "metadata": {},
   "outputs": [],
   "source": [
    "classification_reports.clear()"
   ]
  },
  {
   "cell_type": "code",
   "execution_count": null,
   "id": "0e63622e",
   "metadata": {},
   "outputs": [],
   "source": [
    "tree.fit(X_train, y_train)"
   ]
  },
  {
   "cell_type": "code",
   "execution_count": null,
   "id": "9ca63c04",
   "metadata": {},
   "outputs": [],
   "source": [
    "y_pred_tree = Tree.predict(X_test)\n",
    "y_pred_tree = pd.DataFrame(y_pred_tree, columns = list(Y.columns))\n",
    "y_test = y_test.reset_index(drop = True)\n",
    "for i, var in enumerate(Y):\n",
    "    print(var)\n",
    "    print(classification_report(y_test.iloc[:,i], y_pred_tree.iloc[:,i]))"
   ]
  },
  {
   "cell_type": "code",
   "execution_count": null,
   "id": "23be0933",
||||||| 98fd509
   "id": "e1cded74",
   "metadata": {},
   "source": [
    "\n",
    ">Undersampling still gives poor results - escpecially for recall which is very important in disaster response system. Undersampling may not necesserilly work good in multioutput problems, because of possible noise beeing added to the data set.\n",
    "Moreover, if we really want to balance all of the classes via undersampling we will end up with very small data set (some imbalanced classes are much less numerous than the better balanced ones). Hence the next iterration will be conducted with **´class weights´** adjustments and without any reduction of the data set size."
   ]
  },
  {
   "cell_type": "code",
   "execution_count": null,
   "id": "294ade91",
   "metadata": {},
   "outputs": [],
   "source": [
    "parameters = {\n",
    "    'clf__estimator__max_depth': [2,4,5,7,9,11]    \n",
    "}"
   ]
  },
  {
   "cell_type": "code",
   "execution_count": null,
   "id": "9e269fe6",
   "metadata": {},
   "outputs": [],
   "source": []
  },
  {
   "cell_type": "code",
   "execution_count": null,
   "id": "b128f77f",
   "metadata": {},
   "outputs": [],
   "source": [
    "Tree_opt = GridSearchCV(Tree, param_grid = parameters)"
   ]
  },
  {
   "cell_type": "code",
   "execution_count": null,
   "id": "945a00c0",
   "metadata": {},
   "outputs": [],
   "source": [
    "#Attention! This cell may take a bit time to perform (around 15 minutes on typical PC)\n",
    "Tree_opt.fit(X_train, y_train)"
   ]
  },
  {
   "cell_type": "code",
   "execution_count": null,
   "id": "005fb808",
   "metadata": {},
   "outputs": [],
   "source": [
    "y_pred_tree_opt = Tree_opt.predict(X_test)\n",
    "y_pred_tree_opt = pd.DataFrame(y_pred_tree_opt, columns = list(Y.columns))\n",
    "y_test = y_test.reset_index(drop = True)\n",
    "for i, var in enumerate(Y):\n",
    "    print(var)\n",
    "    print(classification_report(y_test.iloc[:,i], y_pred_tree_opt.iloc[:,i]))"
   ]
  },
  {
   "cell_type": "code",
   "execution_count": null,
   "id": "21a0d8cf",
   "metadata": {},
   "outputs": [],
   "source": [
    "classification_reports.clear()"
   ]
  },
  {
   "cell_type": "code",
   "execution_count": null,
   "id": "6d0d589e",
=======
   "id": "0dca794b",
>>>>>>> 9fe0a1c184ecc047f46d11363af5258dfc96dea0
   "metadata": {},
   "source": [
<<<<<<< HEAD
    "for i, var in enumerate(Y):\n",
    "    classification_reports[var] = (classification_report(y_test.iloc[:,i], y_pred_tree.iloc[:,i]));"
||||||| 98fd509
    "for i, var in enumerate(Y):\n",
    "    classification_reports[var] = (classification_report(y_test.iloc[:,i], y_pred_tree_opt.iloc[:,i]));"
=======
    "### Stacking "
>>>>>>> 9fe0a1c184ecc047f46d11363af5258dfc96dea0
   ]
  },
  {
   "cell_type": "code",
<<<<<<< HEAD
   "execution_count": null,
   "id": "742faaa0",
||||||| 98fd509
   "execution_count": null,
   "id": "d3b08111",
=======
   "execution_count": 62,
   "id": "7c87dfc8",
>>>>>>> 9fe0a1c184ecc047f46d11363af5258dfc96dea0
   "metadata": {},
   "outputs": [
    {
     "data": {
      "text/plain": [
       "'\\n\\ndef get_stacking():\\n    level0 = list()\\n    level0.append((\"svc\",SVC))\\n    level0.append((\"tree\", Tree))\\n    level0.append((\"forest\", forest))\\n    model = StackingClassifier(estimators=level0)\\n    return model\\n'"
      ]
     },
     "execution_count": 62,
     "metadata": {},
     "output_type": "execute_result"
    }
   ],
   "source": [
<<<<<<< HEAD
    "tree_report = df_from_sklearn_cl_reports(classification_reports)"
||||||| 98fd509
    "tree_opt_df_report = df_from_sklearn_cl_reports(classification_reports)"
=======
    "\n",
    "def get_stacking():\n",
    "    level0 = list()\n",
    "    level0.append((\"svc\",SVC))\n",
    "    level0.append((\"tree\", Tree))\n",
    "    level0.append((\"forest\", forest))\n",
    "    model = StackingClassifier(estimators=level0, final_estimator = MultiOutputClassifier(estimator=\n",
    "                                                    (LogisticRegression())))\n",
    "    return model\n",
    "    \n",
    "\"\"\"\n",
    "\n",
    "def get_stacking():\n",
    "    level0 = list()\n",
    "    level0.append((\"svc\",SVC))\n",
    "    level0.append((\"tree\", Tree))\n",
    "    level0.append((\"forest\", forest))\n",
    "    model = StackingClassifier(estimators=level0)\n",
    "    return model\n",
    "\"\"\""
>>>>>>> 9fe0a1c184ecc047f46d11363af5258dfc96dea0
   ]
  },
  {
   "cell_type": "code",
<<<<<<< HEAD
   "execution_count": null,
   "id": "9a2a739a",
||||||| 98fd509
   "execution_count": null,
   "id": "bfb22ce0",
=======
   "execution_count": 63,
   "id": "d974e546",
>>>>>>> 9fe0a1c184ecc047f46d11363af5258dfc96dea0
   "metadata": {},
   "outputs": [],
   "source": [
<<<<<<< HEAD
    "decision_tree_precisions = tree_report.loc[tree_report.label == 1].groupby(\n",
    "    [\"communicate\"])[\"precisions\"].mean().sort_values(ascending = False)\n",
    "decision_tree_precisions.mean()"
||||||| 98fd509
    "tree_opt_df_report.loc[\n",
    "    tree_opt_df_report.label == 1].groupby(\n",
    "    [\"communicate\"])[\"precisions\"].mean().sort_values(ascending = False).mean()"
=======
    "model = get_stacking()"
>>>>>>> 9fe0a1c184ecc047f46d11363af5258dfc96dea0
   ]
  },
  {
   "cell_type": "code",
<<<<<<< HEAD
   "execution_count": null,
   "id": "e42189a3",
   "metadata": {},
   "outputs": [],
   "source": [
    "decision_tree_recalls = tree_report.loc[tree_report.label == 1].groupby(\n",
    "    [\"communicate\"])[\"recalls\"].mean().sort_values(ascending = False)\n",
    "decision_tree_recalls.mean()"
   ]
  },
  {
   "cell_type": "markdown",
   "id": "6f1bd9dc",
||||||| 98fd509
   "execution_count": null,
   "id": "19df96b3",
   "metadata": {},
   "outputs": [],
   "source": [
    "tree_opt_df_report.loc[\n",
    "    tree_opt_df_report.label == 1].groupby(\n",
    "    [\"communicate\"])[\"recalls\"].mean().sort_values(ascending = False).mean()"
   ]
  },
  {
   "cell_type": "markdown",
   "id": "533df331",
=======
   "execution_count": 1,
   "id": "fdea21d8",
>>>>>>> 9fe0a1c184ecc047f46d11363af5258dfc96dea0
   "metadata": {},
   "outputs": [
    {
     "ename": "NameError",
     "evalue": "name 'model' is not defined",
     "output_type": "error",
     "traceback": [
      "\u001b[1;31m---------------------------------------------------------------------------\u001b[0m",
      "\u001b[1;31mNameError\u001b[0m                                 Traceback (most recent call last)",
      "\u001b[1;32m~\\AppData\\Local\\Temp/ipykernel_27984/180087699.py\u001b[0m in \u001b[0;36m<module>\u001b[1;34m\u001b[0m\n\u001b[1;32m----> 1\u001b[1;33m \u001b[0mmodel\u001b[0m\u001b[1;33m.\u001b[0m\u001b[0mfit\u001b[0m\u001b[1;33m(\u001b[0m\u001b[0mX_train\u001b[0m\u001b[1;33m,\u001b[0m \u001b[0my_train\u001b[0m\u001b[1;33m)\u001b[0m\u001b[1;33m\u001b[0m\u001b[1;33m\u001b[0m\u001b[0m\n\u001b[0m",
      "\u001b[1;31mNameError\u001b[0m: name 'model' is not defined"
     ]
    }
   ],
   "source": [
<<<<<<< HEAD
    "#### As we can see the results aren't better than for the initial decision tree (in terms of considered parameters). Therefore the model will be left as it was before the grid search (max_depth = 7 and criterion \"gini\"). Such a decision tree will be used in train_classifier.py"
||||||| 98fd509
    "### Linear SVC"
=======
    "model.fit(X_train, y_train)"
>>>>>>> 9fe0a1c184ecc047f46d11363af5258dfc96dea0
   ]
  },
  {
   "cell_type": "code",
   "execution_count": null,
<<<<<<< HEAD
   "id": "0a7c3cc0",
||||||| 98fd509
   "id": "1d02f072",
=======
   "id": "771aae3e",
>>>>>>> 9fe0a1c184ecc047f46d11363af5258dfc96dea0
   "metadata": {},
   "outputs": [],
   "source": []
  }
 ],
 "metadata": {
  "kernelspec": {
   "display_name": "Python 3 (ipykernel)",
   "language": "python",
   "name": "python3"
  },
  "language_info": {
   "codemirror_mode": {
    "name": "ipython",
    "version": 3
   },
   "file_extension": ".py",
   "mimetype": "text/x-python",
   "name": "python",
   "nbconvert_exporter": "python",
   "pygments_lexer": "ipython3",
   "version": "3.9.7"
  }
 },
 "nbformat": 4,
 "nbformat_minor": 5
}
