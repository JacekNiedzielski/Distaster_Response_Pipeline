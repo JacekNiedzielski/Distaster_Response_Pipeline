{
 "cells": [
  {
   "cell_type": "markdown",
   "id": "5ec55dfd",
   "metadata": {},
   "source": [
    "# ML Pipeline Preparation"
   ]
  },
  {
   "cell_type": "markdown",
   "id": "4a245831",
   "metadata": {},
   "source": [
    "### 1. Importing libraries and loading data from data base"
   ]
  },
  {
   "cell_type": "code",
   "execution_count": 1,
   "id": "1f2a934e",
   "metadata": {},
   "outputs": [
    {
     "name": "stderr",
     "output_type": "stream",
     "text": [
      "[nltk_data] Downloading package punkt to\n",
      "[nltk_data]     C:\\Users\\x\\AppData\\Roaming\\nltk_data...\n",
      "[nltk_data]   Package punkt is already up-to-date!\n",
      "[nltk_data] Downloading package stopwords to\n",
      "[nltk_data]     C:\\Users\\x\\AppData\\Roaming\\nltk_data...\n",
      "[nltk_data]   Package stopwords is already up-to-date!\n",
      "[nltk_data] Downloading package wordnet to\n",
      "[nltk_data]     C:\\Users\\x\\AppData\\Roaming\\nltk_data...\n",
      "[nltk_data]   Package wordnet is already up-to-date!\n"
     ]
    },
    {
     "data": {
      "text/plain": [
       "True"
      ]
     },
     "execution_count": 1,
     "metadata": {},
     "output_type": "execute_result"
    }
   ],
   "source": [
    "import nltk\n",
    "nltk.download('punkt')\n",
    "nltk.download('stopwords')\n",
    "nltk.download('wordnet')"
   ]
  },
  {
   "cell_type": "code",
   "execution_count": 2,
   "id": "6c01dc59",
   "metadata": {},
   "outputs": [],
   "source": [
    "import pandas as pd\n",
    "import numpy as np\n",
    "import matplotlib.pyplot as plt\n",
    "import re\n",
    "import datetime\n",
    "import collections\n",
    "import copy\n",
    "\n",
    "\n",
    "from sqlalchemy import create_engine\n",
    "\n",
    "from nltk.tokenize import word_tokenize\n",
    "from nltk.stem import WordNetLemmatizer\n",
    "from nltk.stem.porter import PorterStemmer\n",
    "from nltk.corpus import stopwords \n",
    "\n",
    "from sklearn.utils.class_weight import compute_sample_weight\n",
    "from sklearn.pipeline import Pipeline\n",
    "from sklearn.tree import DecisionTreeClassifier\n",
    "from sklearn.svm import LinearSVC\n",
    "from sklearn.feature_extraction.text import CountVectorizer, TfidfTransformer\n",
    "from sklearn.model_selection import GridSearchCV, cross_val_score, train_test_split\n",
    "from sklearn.multioutput import MultiOutputClassifier\n",
    "\n",
    "from sklearn.ensemble import RandomForestClassifier\n",
    "from sklearn.ensemble import AdaBoostClassifier\n",
    "\n",
    "from sklearn.metrics import classification_report\n",
    "\n",
    "\n",
    "\n",
    "\n",
    "\n",
    "import joblib"
   ]
  },
  {
   "cell_type": "markdown",
   "id": "f0722d5b",
   "metadata": {},
   "source": [
    "### Optional display settings"
   ]
  },
  {
   "cell_type": "code",
   "execution_count": 3,
   "id": "e0fb6bdb",
   "metadata": {},
   "outputs": [],
   "source": [
    "plt.style.use('seaborn-dark')\n",
    "pd.set_option('display.max_rows', 50)"
   ]
  },
  {
   "cell_type": "code",
   "execution_count": 4,
   "id": "d131f5f2",
   "metadata": {},
   "outputs": [
    {
     "name": "stdout",
     "output_type": "stream",
     "text": [
      "<class 'pandas.core.frame.DataFrame'>\n",
      "RangeIndex: 26028 entries, 0 to 26027\n",
      "Data columns (total 37 columns):\n",
      " #   Column                  Non-Null Count  Dtype  \n",
      "---  ------                  --------------  -----  \n",
      " 0   id                      26028 non-null  int64  \n",
      " 1   message                 26028 non-null  object \n",
      " 2   related                 26028 non-null  float64\n",
      " 3   request                 26028 non-null  float64\n",
      " 4   offer                   26028 non-null  float64\n",
      " 5   aid_related             26028 non-null  float64\n",
      " 6   medical_help            26028 non-null  float64\n",
      " 7   medical_products        26028 non-null  float64\n",
      " 8   search_and_rescue       26028 non-null  float64\n",
      " 9   security                26028 non-null  float64\n",
      " 10  military                26028 non-null  float64\n",
      " 11  water                   26028 non-null  float64\n",
      " 12  food                    26028 non-null  float64\n",
      " 13  shelter                 26028 non-null  float64\n",
      " 14  clothing                26028 non-null  float64\n",
      " 15  money                   26028 non-null  float64\n",
      " 16  missing_people          26028 non-null  float64\n",
      " 17  refugees                26028 non-null  float64\n",
      " 18  death                   26028 non-null  float64\n",
      " 19  other_aid               26028 non-null  float64\n",
      " 20  infrastructure_related  26028 non-null  float64\n",
      " 21  transport               26028 non-null  float64\n",
      " 22  buildings               26028 non-null  float64\n",
      " 23  electricity             26028 non-null  float64\n",
      " 24  tools                   26028 non-null  float64\n",
      " 25  hospitals               26028 non-null  float64\n",
      " 26  shops                   26028 non-null  float64\n",
      " 27  aid_centers             26028 non-null  float64\n",
      " 28  other_infrastructure    26028 non-null  float64\n",
      " 29  weather_related         26028 non-null  float64\n",
      " 30  floods                  26028 non-null  float64\n",
      " 31  storm                   26028 non-null  float64\n",
      " 32  fire                    26028 non-null  float64\n",
      " 33  earthquake              26028 non-null  float64\n",
      " 34  cold                    26028 non-null  float64\n",
      " 35  other_weather           26028 non-null  float64\n",
      " 36  direct_report           26028 non-null  float64\n",
      "dtypes: float64(35), int64(1), object(1)\n",
      "memory usage: 7.3+ MB\n"
     ]
    }
   ],
   "source": [
    "engine = create_engine('sqlite:///Pipeline_Project.db')\n",
    "df = pd.read_sql_table('Messages', engine)\n",
    "df.info()"
   ]
  },
  {
   "cell_type": "code",
   "execution_count": 73,
   "id": "e619d720",
   "metadata": {},
   "outputs": [],
   "source": [
    "main_List = []"
   ]
  },
  {
   "cell_type": "code",
   "execution_count": 81,
   "id": "e7e4739e",
   "metadata": {},
   "outputs": [
    {
     "data": {
      "text/plain": [
       "['cold',\n",
       " 'electricity',\n",
       " 'military',\n",
       " 'fire',\n",
       " 'buildings',\n",
       " 'money',\n",
       " 'medical_help',\n",
       " 'medical_products',\n",
       " 'refugees',\n",
       " 'other_aid',\n",
       " 'missing_people',\n",
       " 'hospitals',\n",
       " 'other_weather',\n",
       " 'transport',\n",
       " 'infrastructure_related',\n",
       " 'search_and_rescue',\n",
       " 'aid_centers',\n",
       " 'other_infrastructure',\n",
       " 'security',\n",
       " 'offer',\n",
       " 'shops',\n",
       " 'tools',\n",
       " 'direct_report',\n",
       " 'clothing']"
      ]
     },
     "execution_count": 81,
     "metadata": {},
     "output_type": "execute_result"
    }
   ],
   "source": [
    "list_of_categories"
   ]
  },
  {
   "cell_type": "code",
   "execution_count": 74,
   "id": "ef8e5646",
   "metadata": {},
   "outputs": [],
   "source": [
    "for column in df[list_of_categories]:\n",
    "    for message in df.loc[df[column] == 1][\"message\"]:\n",
    "        message = message.lower()\n",
    "        words = word_tokenize(message)\n",
    "        for word in words:\n",
    "            main_List.append(word)"
   ]
  },
  {
   "cell_type": "code",
   "execution_count": 75,
   "id": "c4f8e922",
   "metadata": {},
   "outputs": [],
   "source": [
    "words = [w for w in main_List if w not in stopwords.words(\"english\")]"
   ]
  },
  {
   "cell_type": "code",
   "execution_count": 76,
   "id": "c73a9209",
   "metadata": {},
   "outputs": [],
   "source": [
    "words = [w for w in words if len(w) > 2]"
   ]
  },
  {
   "cell_type": "code",
   "execution_count": 77,
   "id": "2360d9a4",
   "metadata": {},
   "outputs": [],
   "source": [
    "series = pd.Series(words)"
   ]
  },
  {
   "cell_type": "code",
   "execution_count": 78,
   "id": "c58ba82d",
   "metadata": {},
   "outputs": [
    {
     "data": {
      "text/plain": [
       "people        5232\n",
       "water         4630\n",
       "help          4294\n",
       "food          3950\n",
       "need          3279\n",
       "please        2468\n",
       "earthquake    2174\n",
       "said          2166\n",
       "areas         1829\n",
       "also          1759\n",
       "n't           1727\n",
       "relief        1688\n",
       "aid           1482\n",
       "health        1440\n",
       "government    1422\n",
       "affected      1412\n",
       "two           1360\n",
       "one           1307\n",
       "destroyed     1239\n",
       "many          1226\n",
       "sandy         1197\n",
       "http          1181\n",
       "would         1168\n",
       "area          1166\n",
       "emergency     1137\n",
       "supplies      1131\n",
       "country       1126\n",
       "heavy         1121\n",
       "children      1096\n",
       "like          1061\n",
       "since         1058\n",
       "rains         1041\n",
       "floods        1040\n",
       "tents         1012\n",
       "million       1002\n",
       "power         1001\n",
       "house          997\n",
       "flood          995\n",
       "houses         970\n",
       "including      965\n",
       "medical        956\n",
       "disaster       927\n",
       "homes          917\n",
       "region         901\n",
       "due            899\n",
       "local          861\n",
       "assistance     853\n",
       "rain           849\n",
       "find           848\n",
       "hit            847\n",
       "dtype: int64"
      ]
     },
     "execution_count": 78,
     "metadata": {},
     "output_type": "execute_result"
    }
   ],
   "source": [
    "series.value_counts().head(50)"
   ]
  },
  {
   "cell_type": "code",
   "execution_count": 79,
   "id": "e2f30d4a",
   "metadata": {},
   "outputs": [],
   "source": [
    "important_words = list(series.value_counts().drop([\"n't\", \n",
    "                            \"said\", \"would\", \"like\", \n",
    "                            \"two\", \"one\", \"please\", \"three\", \n",
    "                            \"http\",\"including\", \"also\", \n",
    "                           \"still\", \"since\", \"many\", \"thousands\", \"millions\", \"years\"]).head(100).index)"
   ]
  },
  {
   "cell_type": "code",
   "execution_count": 80,
   "id": "dfabc269",
   "metadata": {},
   "outputs": [
    {
     "data": {
      "text/plain": [
       "['people',\n",
       " 'water',\n",
       " 'help',\n",
       " 'food',\n",
       " 'need',\n",
       " 'earthquake',\n",
       " 'areas',\n",
       " 'relief',\n",
       " 'aid',\n",
       " 'health',\n",
       " 'government',\n",
       " 'affected',\n",
       " 'destroyed',\n",
       " 'sandy',\n",
       " 'area',\n",
       " 'emergency',\n",
       " 'supplies',\n",
       " 'country',\n",
       " 'heavy',\n",
       " 'children',\n",
       " 'rains',\n",
       " 'floods',\n",
       " 'tents',\n",
       " 'million',\n",
       " 'power',\n",
       " 'house',\n",
       " 'flood',\n",
       " 'houses',\n",
       " 'medical',\n",
       " 'disaster',\n",
       " 'homes',\n",
       " 'region',\n",
       " 'due',\n",
       " 'local',\n",
       " 'assistance',\n",
       " 'rain',\n",
       " 'find',\n",
       " 'hit',\n",
       " 'roads',\n",
       " 'shelter',\n",
       " 'families',\n",
       " 'international',\n",
       " 'victims',\n",
       " 'haiti',\n",
       " 'province',\n",
       " 'well',\n",
       " 'get',\n",
       " 'storm',\n",
       " 'damaged',\n",
       " 'last',\n",
       " 'new',\n",
       " 'know',\n",
       " 'city',\n",
       " 'caused',\n",
       " 'support',\n",
       " 'villages',\n",
       " 'living',\n",
       " 'flooding',\n",
       " 'damage',\n",
       " 'village',\n",
       " 'could',\n",
       " 'red',\n",
       " 'weather',\n",
       " 'district',\n",
       " 'rescue',\n",
       " 'state',\n",
       " 'days',\n",
       " 'family',\n",
       " 'winter',\n",
       " 'river',\n",
       " 'work',\n",
       " 'hurricane',\n",
       " 'pakistan',\n",
       " 'tsunami',\n",
       " 'killed',\n",
       " 'hospital',\n",
       " 'provide',\n",
       " 'efforts',\n",
       " 'may',\n",
       " 'good',\n",
       " 'left',\n",
       " 'least',\n",
       " 'thank',\n",
       " 'year',\n",
       " 'first',\n",
       " 'live',\n",
       " 'needs',\n",
       " 'time',\n",
       " 'road',\n",
       " 'care',\n",
       " 'humanitarian',\n",
       " 'north',\n",
       " 'facilities',\n",
       " 'authorities',\n",
       " 'received',\n",
       " 'northern',\n",
       " 'crops',\n",
       " 'around',\n",
       " 'china',\n",
       " 'national']"
      ]
     },
     "execution_count": 80,
     "metadata": {},
     "output_type": "execute_result"
    }
   ],
   "source": [
    "important_words"
   ]
  },
  {
   "cell_type": "markdown",
   "id": "659a5259",
   "metadata": {},
   "source": [
    "### General division into labels and features"
   ]
  },
  {
   "cell_type": "code",
   "execution_count": 5,
   "id": "7e63cbcc",
   "metadata": {},
   "outputs": [],
   "source": [
    "X = df.iloc[:, 1]\n",
    "Y = df.iloc[:, 2:]"
   ]
  },
  {
   "cell_type": "code",
   "execution_count": null,
   "id": "451b22f0",
   "metadata": {},
   "outputs": [],
   "source": [
    "### Weights adjustments"
   ]
  },
  {
   "cell_type": "code",
   "execution_count": null,
   "id": "06a5060e",
   "metadata": {},
   "outputs": [],
   "source": [
    "#class_weights = []"
   ]
  },
  {
   "cell_type": "code",
   "execution_count": null,
   "id": "cb059f2e",
   "metadata": {},
   "outputs": [],
   "source": [
    "\"\"\"for feature in Y:\n",
    "    dictionary = {(Y[feature].value_counts()/len(Y)).index[0]: (Y[feature].value_counts()/len(Y)).values[1],\n",
    "                  (Y[feature].value_counts()/len(Y)).index[1]: (Y[feature].value_counts()/len(Y)).values[0]}\n",
    "\n",
    "    class_weights.append(dictionary)\n",
    "\"\"\"    "
   ]
  },
  {
   "cell_type": "code",
   "execution_count": null,
   "id": "1386bc9f",
   "metadata": {},
   "outputs": [],
   "source": [
    "\"\"\"for dictionary in copy.copy(class_weights):\n",
    "    dictionary = {k: dictionary[k] for k in sorted(dictionary)}\n",
    "    \n",
    "    class_weights.pop(0)\n",
    "    class_weights.append(dictionary)\n",
    "\"\"\""
   ]
  },
  {
   "cell_type": "code",
   "execution_count": null,
   "id": "60b4d916",
   "metadata": {},
   "outputs": [],
   "source": [
    "\"\"\"\n",
    "for element in class_weights:\n",
    "    for key, value in element.items():\n",
    "        print(type(key), type(value))\n",
    "        \n",
    "\"\"\""
   ]
  },
  {
   "cell_type": "code",
   "execution_count": null,
   "id": "2a96720f",
   "metadata": {},
   "outputs": [],
   "source": [
    "#compute_sample_weight(class_weights, Y)"
   ]
  },
  {
   "cell_type": "markdown",
   "id": "0d470655",
   "metadata": {},
   "source": [
    "### 2. Key functions"
   ]
  },
  {
   "cell_type": "markdown",
   "id": "3b1675f7",
   "metadata": {},
   "source": [
    "#### Tokenizer for processing the text data"
   ]
  },
  {
   "cell_type": "code",
   "execution_count": 6,
   "id": "3d7ad225",
   "metadata": {},
   "outputs": [],
   "source": [
    "def tokenize(text):\n",
    "    #Normalization - lowercase  - no punctuation removal - the nltk.tokenize should interpret them by itself\n",
    "    text = text.lower()\n",
    "    ######text = re.sub(r\"[^a-zA-Z0-9]\", \" \", text)\n",
    "    #Toeknization\n",
    "    ######words = text.split()\n",
    "    words = word_tokenize(text)\n",
    "    #Stop words removal\n",
    "    words = [w for w in words if w not in stopwords.words(\"english\")]\n",
    "    \n",
    "    #Named Entities??\n",
    "    # Perhaps\n",
    "    \n",
    "    #Lemmatization\n",
    "    lemmed = [WordNetLemmatizer().lemmatize(w) for w in words]\n",
    "    \n",
    "    \n",
    "    return lemmed"
   ]
  },
  {
   "cell_type": "markdown",
   "id": "88684e11",
   "metadata": {},
   "source": [
    "#### Since I want to test out many models, it seems reasonable to write a function which will make pipeline with keyword arguments"
   ]
  },
  {
   "cell_type": "code",
   "execution_count": 7,
   "id": "180c5c74",
   "metadata": {},
   "outputs": [],
   "source": [
    "def make_sklearn_pipeline(Pipeline = Pipeline, memory = None, verbose = False, **kwargs):\n",
    "    \"\"\"\n",
    "    Firt argument is sklearn Pipepline class. It should not be changed.\n",
    "    \n",
    "    Definition of pipeline steps happens EXPLICITLY within the instantiation!\n",
    "    Definition of typical pipeline looks like following:\n",
    "    example_pipeline = make_sklearn_pipeline(steps = [('name#1',function#1),\n",
    "                                                      ('name#2',function#2),\n",
    "                                                      ('name#3',function#3),\n",
    "                                                      ('name#4',function#4)....], verbose = ...,\n",
    "                                                      memory = ...)\n",
    "    \n",
    "    It is not required to give values for ´verbose´ and ´memory´. They have default values as False\n",
    "    and None respectively. For more information visit: \n",
    "    ´https://scikit-learn.org/stable/modules/generated/sklearn.pipeline.Pipeline.html´\n",
    "    \"\"\"\n",
    "    pipeline = Pipeline(steps = kwargs['steps'], memory = memory, verbose = verbose)\n",
    "    \n",
    "    return pipeline"
   ]
  },
  {
   "cell_type": "markdown",
   "id": "c8cff7dc",
   "metadata": {},
   "source": [
    "#### Function transforming the classification report into data frame with recall, precision and accuracy only "
   ]
  },
  {
   "cell_type": "code",
   "execution_count": 8,
   "id": "3c383ec7",
   "metadata": {},
   "outputs": [],
   "source": [
    "def df_from_sklearn_cl_reports(cl_reports):\n",
    "\n",
    "    data_frame = pd.DataFrame()\n",
    "\n",
    "    for feature in list(cl_reports.keys()):\n",
    "        l = cl_reports[feature].split(' ')\n",
    "        l = [x for x in l if x !='']\n",
    "        l = [x for x in l if '\\n' not in x]\n",
    "        l = l[:l.index('accuracy')]\n",
    "        columns = l[:3]\n",
    "        l = [x for x in l if x not in columns]\n",
    "        labels = []\n",
    "        precisions = []\n",
    "        recalls = []\n",
    "        f1_scores = []\n",
    "    \n",
    "        for i, element in enumerate(l):\n",
    "            if i == 0 or i % 4 == 0:\n",
    "                labels.append(element)\n",
    "                precisions.append(l[i+1])\n",
    "                recalls.append(l[i+2])\n",
    "                f1_scores.append(l[i+3])\n",
    "            \n",
    "        comunicates = [feature]*len(labels)\n",
    "    \n",
    "        if data_frame.shape[0] == 0:      \n",
    "            data_frame['communicate'] = comunicates\n",
    "            data_frame['label'] = labels\n",
    "            data_frame['precisions'] = precisions\n",
    "            data_frame['recalls'] = recalls\n",
    "            data_frame['f1_scores'] = f1_scores\n",
    "        \n",
    "        else:\n",
    "            auxiliary_df = pd.DataFrame()\n",
    "            auxiliary_df['communicate'] = comunicates\n",
    "            auxiliary_df['label'] = labels\n",
    "            auxiliary_df['precisions'] = precisions\n",
    "            auxiliary_df['recalls'] = recalls\n",
    "            auxiliary_df['f1_scores'] = f1_scores \n",
    "        \n",
    "            data_frame = pd.concat([data_frame, auxiliary_df])\n",
    "        \n",
    "            del auxiliary_df\n",
    "    \n",
    "    data_frame.set_index([\"communicate\"], inplace = True)\n",
    "    \n",
    "    #Chaning the data types\n",
    "    data_frame.label = data_frame.label.astype(\"float\")\n",
    "    data_frame.label = data_frame.label.astype(\"int\")\n",
    "    data_frame.precisions = data_frame.precisions.astype(\"float\")\n",
    "    data_frame.recalls = data_frame.recalls.astype(\"float\")\n",
    "    data_frame.f1_scores = data_frame.f1_scores.astype(\"float\")\n",
    "    \n",
    "    return data_frame    "
   ]
  },
  {
   "cell_type": "markdown",
   "id": "77da1454",
   "metadata": {},
   "source": [
    "### 3. Building a machine learning pipeline"
   ]
  },
  {
   "cell_type": "markdown",
   "id": "8fe2b481",
   "metadata": {},
   "source": [
    "#### 3.1 AdaBoost Classifier"
   ]
  },
  {
   "cell_type": "markdown",
   "id": "35496fa4",
   "metadata": {},
   "source": [
    "##### Definition and fitting"
   ]
  },
  {
   "cell_type": "code",
   "execution_count": null,
   "id": "e98f767c",
   "metadata": {},
   "outputs": [],
   "source": [
    "adaboost_with_transformer = make_sklearn_pipeline(verbose = True, steps = [('vect', CountVectorizer(tokenizer = tokenize)),\n",
    "                           ('tfidf', TfidfTransformer()),                                              \n",
    "                           ('clf', MultiOutputClassifier(estimator = AdaBoostClassifier(\n",
    "                           DecisionTreeClassifier(class_weight = \"balanced\"))))])"
   ]
  },
  {
   "cell_type": "code",
   "execution_count": 10,
   "id": "ac7dfd52",
   "metadata": {},
   "outputs": [],
   "source": [
    "X_train, X_test, y_train, y_test = train_test_split(X,Y, test_size = 0.2)\n"
   ]
  },
  {
   "cell_type": "code",
   "execution_count": null,
   "id": "570c4642",
   "metadata": {},
   "outputs": [],
   "source": [
    "adaboost_with_transformer.fit(X_train, y_train)"
   ]
  },
  {
   "cell_type": "markdown",
   "id": "13a420a5",
   "metadata": {},
   "source": [
    "##### Predicting and classification report"
   ]
  },
  {
   "cell_type": "code",
   "execution_count": null,
   "id": "55abd85f",
   "metadata": {},
   "outputs": [],
   "source": [
    "y_pred_ada = adaboost_with_transformer.predict(X_test)\n",
    "y_pred_ada = pd.DataFrame(y_pred_ada, columns = list(Y.columns))\n",
    "y_test = y_test.reset_index(drop = True)\n",
    "for i, var in enumerate(Y):\n",
    "    print(var)\n",
    "    print(classification_report(y_test.iloc[:,i], y_pred_ada.iloc[:,i]))"
   ]
  },
  {
   "cell_type": "markdown",
   "id": "8724d3a7",
   "metadata": {},
   "source": [
    "##### Providing a data frame for easier results assessment"
   ]
  },
  {
   "cell_type": "code",
   "execution_count": 9,
   "id": "810eb856",
   "metadata": {},
   "outputs": [],
   "source": [
    "classification_reports = {}"
   ]
  },
  {
   "cell_type": "code",
   "execution_count": null,
   "id": "323f7924",
   "metadata": {},
   "outputs": [],
   "source": [
    "for i, var in enumerate(Y):\n",
    "    classification_reports[var] = (classification_report(y_test.iloc[:,i], y_pred_ada.iloc[:,i]));"
   ]
  },
  {
   "cell_type": "code",
   "execution_count": null,
   "id": "c33deb0a",
   "metadata": {},
   "outputs": [],
   "source": [
    "adaboost_with_transformer_report_df = df_from_sklearn_cl_reports(classification_reports)"
   ]
  },
  {
   "cell_type": "code",
   "execution_count": null,
   "id": "ff8e5144",
   "metadata": {},
   "outputs": [],
   "source": [
    "adaboost_with_transformer_report_df.loc[\n",
    "    adaboost_with_transformer_report_df.label == 1].groupby(\n",
    "    [\"communicate\"])[\"precisions\"].mean().sort_values(ascending = False).mean()"
   ]
  },
  {
   "cell_type": "code",
   "execution_count": null,
   "id": "8fd94b34",
   "metadata": {},
   "outputs": [],
   "source": [
    "adaboost_with_transformer_report_df.loc[\n",
    "    adaboost_with_transformer_report_df.label == 1].groupby(\n",
    "    [\"communicate\"])[\"recalls\"].mean().sort_values(ascending = False)"
   ]
  },
  {
   "cell_type": "code",
   "execution_count": null,
   "id": "f304a326",
   "metadata": {},
   "outputs": [],
   "source": [
    "adaboost_with_transformer_report_df.loc[\n",
    "    adaboost_with_transformer_report_df.label == 1].groupby(\n",
    "    [\"communicate\"])[\"f1_scores\"].mean().sort_values(ascending = False).mean()"
   ]
  },
  {
   "cell_type": "code",
   "execution_count": null,
   "id": "aceff42b",
   "metadata": {},
   "outputs": [],
   "source": []
  },
  {
   "cell_type": "code",
   "execution_count": null,
   "id": "ad7ed8f5",
   "metadata": {},
   "outputs": [],
   "source": []
  },
  {
   "cell_type": "code",
   "execution_count": null,
   "id": "b06c05e0",
   "metadata": {},
   "outputs": [],
   "source": []
  },
  {
   "cell_type": "code",
   "execution_count": null,
   "id": "1a1ac868",
   "metadata": {},
   "outputs": [],
   "source": [
    "RandomForest_with_transformer = make_sklearn_pipeline(verbose = True, steps = [('vect', CountVectorizer(tokenizer = tokenize)),\n",
    "                           ('tfidf', TfidfTransformer()),                                              \n",
    "                           ('clf', MultiOutputClassifier(estimator = RandomForestClassifier\n",
    "                                                         (class_weight = \"balanced\")))])"
   ]
  },
  {
   "cell_type": "code",
   "execution_count": null,
   "id": "a28ef66e",
   "metadata": {},
   "outputs": [],
   "source": [
    "RandomForest_with_transformer.fit(X_train, y_train)"
   ]
  },
  {
   "cell_type": "code",
   "execution_count": null,
   "id": "1d390062",
   "metadata": {},
   "outputs": [],
   "source": [
    "y_pred_forest = RandomForest_with_transformer.predict(X_test)\n",
    "y_pred_forest = pd.DataFrame(y_pred_forest, columns = list(Y.columns))\n",
    "y_test = y_test.reset_index(drop = True)\n",
    "for i, var in enumerate(Y):\n",
    "    print(var)\n",
    "    print(classification_report(y_test.iloc[:,i], y_pred_forest.iloc[:,i]))"
   ]
  },
  {
   "cell_type": "code",
   "execution_count": null,
   "id": "056c3bb7",
   "metadata": {},
   "outputs": [],
   "source": [
    "classification_reports.clear()"
   ]
  },
  {
   "cell_type": "code",
   "execution_count": null,
   "id": "ec38fcf9",
   "metadata": {},
   "outputs": [],
   "source": [
    "for i, var in enumerate(Y):\n",
    "    classification_reports[var] = (classification_report(y_test.iloc[:,i], y_pred_forest.iloc[:,i]));"
   ]
  },
  {
   "cell_type": "code",
   "execution_count": null,
   "id": "1a45b28a",
   "metadata": {},
   "outputs": [],
   "source": [
    "forest_with_transformer_report_df = df_from_sklearn_cl_reports(classification_reports)"
   ]
  },
  {
   "cell_type": "code",
   "execution_count": null,
   "id": "f1e2fc0f",
   "metadata": {},
   "outputs": [],
   "source": [
    "forest_with_transformer_report_df.loc[\n",
    "    forest_with_transformer_report_df.label == 1].groupby(\n",
    "    [\"communicate\"])[\"precisions\"].mean().sort_values(ascending = False).mean()"
   ]
  },
  {
   "cell_type": "code",
   "execution_count": null,
   "id": "09119450",
   "metadata": {},
   "outputs": [],
   "source": [
    "forest_with_transformer_report_df.loc[\n",
    "    forest_with_transformer_report_df.label == 1].groupby(\n",
    "    [\"communicate\"])[\"recalls\"].mean().sort_values(ascending = False).mean()"
   ]
  },
  {
   "cell_type": "markdown",
   "id": "68746bea",
   "metadata": {},
   "source": [
    "##### Trying to ehence the model's performance via GridSearch"
   ]
  },
  {
   "cell_type": "code",
   "execution_count": null,
   "id": "04b1eadd",
   "metadata": {},
   "outputs": [],
   "source": [
    "parameters = {\n",
    "    'clf__estimator__n_estimators': [100,1000]    \n",
    "}"
   ]
  },
  {
   "cell_type": "code",
   "execution_count": null,
   "id": "b123dbbc",
   "metadata": {},
   "outputs": [],
   "source": [
    "RandomForest_optimized = GridSearchCV(RandomForest_with_transformer, param_grid = parameters)"
   ]
  },
  {
   "cell_type": "code",
   "execution_count": null,
   "id": "0807a981",
   "metadata": {},
   "outputs": [],
   "source": [
    "#Attention! This cell may take a bit time to perform (around 15 minutes on typical PC)\n",
    "RandomForest_optimized.fit(X_train, y_train)"
   ]
  },
  {
   "cell_type": "code",
   "execution_count": null,
   "id": "f64b556c",
   "metadata": {},
   "outputs": [],
   "source": [
    "y_pred_opt = RandomForest_optimized.predict(X_test)\n",
    "y_pred_opt = pd.DataFrame(y_pred_opt, columns = list(Y.columns))\n",
    "y_test = y_test.reset_index(drop = True)\n",
    "for i, var in enumerate(Y):\n",
    "    print(var)\n",
    "    print(classification_report(y_test.iloc[:,i], y_pred_opt.iloc[:,i]))"
   ]
  },
  {
   "cell_type": "code",
   "execution_count": null,
   "id": "f3b8553c",
   "metadata": {},
   "outputs": [],
   "source": [
    "classification_reports.clear()"
   ]
  },
  {
   "cell_type": "code",
   "execution_count": null,
   "id": "a9eea6bb",
   "metadata": {},
   "outputs": [],
   "source": [
    "for i, var in enumerate(Y):\n",
    "    classification_reports[var] = (classification_report(y_test.iloc[:,i], y_pred_opt.iloc[:,i]));"
   ]
  },
  {
   "cell_type": "code",
   "execution_count": null,
   "id": "6e4c223d",
   "metadata": {},
   "outputs": [],
   "source": [
    "RandomForest_optimized_report_df = df_from_sklearn_cl_reports(classification_reports)"
   ]
  },
  {
   "cell_type": "code",
   "execution_count": null,
   "id": "83f2b5d1",
   "metadata": {},
   "outputs": [],
   "source": [
    "RandomForest_optimized_report_df.loc[\n",
    "    RandomForest_optimized_report_df.label == 1].groupby(\n",
    "    [\"communicate\"])[\"precisions\"].mean().sort_values(ascending = False).mean()"
   ]
  },
  {
   "cell_type": "code",
   "execution_count": null,
   "id": "10dc54dd",
   "metadata": {},
   "outputs": [],
   "source": [
    "RandomForest_optimized_report_df.loc[\n",
    "    RandomForest_optimized_report_df.label == 1].groupby(\n",
    "    [\"communicate\"])[\"recalls\"].mean().sort_values(ascending = False).mean()"
   ]
  },
  {
   "cell_type": "code",
   "execution_count": null,
   "id": "3829b709",
   "metadata": {},
   "outputs": [],
   "source": []
  },
  {
   "cell_type": "code",
   "execution_count": null,
   "id": "e220d901",
   "metadata": {},
   "outputs": [],
   "source": []
  },
  {
   "cell_type": "code",
   "execution_count": null,
   "id": "a4534ade",
   "metadata": {},
   "outputs": [],
   "source": [
    "classification_reports.clear()"
   ]
  },
  {
   "cell_type": "code",
   "execution_count": null,
   "id": "59962a0f",
   "metadata": {},
   "outputs": [],
   "source": [
    "dt_depth_2 = DecisionTreeClassifier(max_depth=2, min_samples_leaf=1, class_weight = \"balanced\")\n",
    "dt_depth_9 = DecisionTreeClassifier(max_depth=9, min_samples_leaf=1, class_weight = \"balanced\")"
   ]
  },
  {
   "cell_type": "code",
   "execution_count": null,
   "id": "ff3b1730",
   "metadata": {},
   "outputs": [],
   "source": [
    "parameters = {\n",
    "    'clf__estimator__base_estimator': [dt_depth_2,dt_depth_9],\n",
    "    'clf__estimator__n_estimators': [50,100]    \n",
    "}"
   ]
  },
  {
   "cell_type": "code",
   "execution_count": null,
   "id": "b15841a6",
   "metadata": {},
   "outputs": [],
   "source": [
    "adaboost_transf_optimized = GridSearchCV(adaboost_with_transformer, param_grid = parameters)"
   ]
  },
  {
   "cell_type": "code",
   "execution_count": null,
   "id": "7fe6e9e5",
   "metadata": {},
   "outputs": [],
   "source": [
    "#Attention! This cell may take a bit time to perform (around 15 minutes on typical PC)\n",
    "adaboost_transf_optimized.fit(X_train, y_train)"
   ]
  },
  {
   "cell_type": "code",
   "execution_count": null,
   "id": "c5c4f18a",
   "metadata": {},
   "outputs": [],
   "source": [
    "y_pred_opt_ada = adaboost_transf_optimized.predict(X_test)\n",
    "y_pred_opt_ada = pd.DataFrame(y_pred_opt_ada, columns = list(Y.columns))\n",
    "y_test = y_test.reset_index(drop = True)\n",
    "for i, var in enumerate(Y):\n",
    "    print(var)\n",
    "    print(classification_report(y_test.iloc[:,i], y_pred_opt_ada.iloc[:,i]))"
   ]
  },
  {
   "cell_type": "code",
   "execution_count": null,
   "id": "a57bab06",
   "metadata": {},
   "outputs": [],
   "source": [
    "for i, var in enumerate(Y):\n",
    "    classification_reports[var] = (classification_report(y_test.iloc[:,i], y_pred_opt_ada.iloc[:,i]));"
   ]
  },
  {
   "cell_type": "code",
   "execution_count": null,
   "id": "bb7bc50a",
   "metadata": {},
   "outputs": [],
   "source": [
    "adaboost_optimized_report_df = df_from_sklearn_cl_reports(classification_reports)"
   ]
  },
  {
   "cell_type": "code",
   "execution_count": null,
   "id": "f5b0f653",
   "metadata": {},
   "outputs": [],
   "source": [
    "adaboost_optimized_report_df.loc[\n",
    "    adaboost_optimized_report_df.label == 1].groupby(\n",
    "    [\"communicate\"])[\"precisions\"].mean().sort_values(ascending = False).mean()"
   ]
  },
  {
   "cell_type": "code",
   "execution_count": null,
   "id": "6525aa50",
   "metadata": {},
   "outputs": [],
   "source": [
    "adaboost_optimized_report_df.loc[\n",
    "    adaboost_optimized_report_df.label == 1].groupby(\n",
    "    [\"communicate\"])[\"recalls\"].mean().sort_values(ascending = False).mean()"
   ]
  },
  {
   "cell_type": "markdown",
   "id": "93278f6c",
   "metadata": {},
   "source": [
    "\n",
    ">Undersampling still gives poor results - escpecially for recall which is very important in disaster response system. Undersampling may not necesserilly work good in multioutput problems, because of possible noise beeing added to the data set.\n",
    "Moreover, if we really want to balance all of the classes via undersampling we will end up with very small data set (some imbalanced classes are much less numerous than the better balanced ones). Hence the next iterration will be conducted with **´class weights´** adjustments and without any reduction of the data set size."
   ]
  },
  {
   "cell_type": "code",
   "execution_count": null,
   "id": "8ce71f57",
   "metadata": {},
   "outputs": [],
   "source": [
    "adaboost_optimized_report_df.to_csv(\"Adaboost_DT_GridSearch_depth2and9_estimators_50and100.csv\", \n",
    "                                    index = True)"
   ]
  },
  {
   "cell_type": "code",
   "execution_count": null,
   "id": "0c5a95f1",
   "metadata": {},
   "outputs": [],
   "source": []
  },
  {
   "cell_type": "code",
   "execution_count": null,
   "id": "c3c8d103",
   "metadata": {},
   "outputs": [],
   "source": []
  },
  {
   "cell_type": "code",
   "execution_count": null,
   "id": "af47afdd",
   "metadata": {},
   "outputs": [],
   "source": [
    "classification_reports.clear()"
   ]
  },
  {
   "cell_type": "code",
   "execution_count": null,
   "id": "5facf459",
   "metadata": {},
   "outputs": [],
   "source": [
    "dt_splitter_random = DecisionTreeClassifier(splitter=\"random\",class_weight = \"balanced\")\n",
    "dt_splitter_best = DecisionTreeClassifier(class_weight = \"balanced\")"
   ]
  },
  {
   "cell_type": "code",
   "execution_count": null,
   "id": "6075a31c",
   "metadata": {},
   "outputs": [],
   "source": [
    "parameters = {\n",
    "    'clf__estimator__base_estimator': [dt_splitter_random,dt_splitter_best],\n",
    "    'clf__estimator__n_estimators': [50,100]    \n",
    "}"
   ]
  },
  {
   "cell_type": "code",
   "execution_count": null,
   "id": "50a4e7c3",
   "metadata": {},
   "outputs": [],
   "source": [
    "adaboost_transf_optimized = GridSearchCV(adaboost_with_transformer, param_grid = parameters)"
   ]
  },
  {
   "cell_type": "code",
   "execution_count": null,
   "id": "26edb6c2",
   "metadata": {},
   "outputs": [],
   "source": [
    "#Attention! This cell may take a bit time to perform (around 15 minutes on typical PC)\n",
    "adaboost_transf_optimized.fit(X_train, y_train)"
   ]
  },
  {
   "cell_type": "code",
   "execution_count": null,
   "id": "21e19af5",
   "metadata": {},
   "outputs": [],
   "source": [
    "y_pred_opt_ada = adaboost_transf_optimized.predict(X_test)\n",
    "y_pred_opt_ada = pd.DataFrame(y_pred_opt_ada, columns = list(Y.columns))\n",
    "y_test = y_test.reset_index(drop = True)\n",
    "for i, var in enumerate(Y):\n",
    "    print(var)\n",
    "    print(classification_report(y_test.iloc[:,i], y_pred_opt_ada.iloc[:,i]))"
   ]
  },
  {
   "cell_type": "code",
   "execution_count": null,
   "id": "edcfa380",
   "metadata": {},
   "outputs": [],
   "source": [
    "for i, var in enumerate(Y):\n",
    "    classification_reports[var] = (classification_report(y_test.iloc[:,i], y_pred_opt_ada.iloc[:,i]));"
   ]
  },
  {
   "cell_type": "code",
   "execution_count": null,
   "id": "a082c1ce",
   "metadata": {},
   "outputs": [],
   "source": [
    "adaboost_optimized_report_df = df_from_sklearn_cl_reports(classification_reports)"
   ]
  },
  {
   "cell_type": "code",
   "execution_count": null,
   "id": "b2349c5f",
   "metadata": {},
   "outputs": [],
   "source": [
    "adaboost_optimized_report_df.loc[\n",
    "    adaboost_optimized_report_df.label == 1].groupby(\n",
    "    [\"communicate\"])[\"precisions\"].mean().sort_values(ascending = False)"
   ]
  },
  {
   "cell_type": "code",
   "execution_count": null,
   "id": "71d7d590",
   "metadata": {},
   "outputs": [],
   "source": [
    "adaboost_optimized_report_df.loc[\n",
    "    adaboost_optimized_report_df.label == 1].groupby(\n",
    "    [\"communicate\"])[\"recalls\"].mean().sort_values(ascending = False).mean()"
   ]
  },
  {
   "cell_type": "code",
   "execution_count": null,
   "id": "972f04e0",
   "metadata": {},
   "outputs": [],
   "source": [
    "adaboost_optimized_report_df.loc[\n",
    "    adaboost_optimized_report_df.label == 1].groupby(\n",
    "    [\"communicate\"])[\"f1_scores\"].mean().sort_values(ascending = False)"
   ]
  },
  {
   "cell_type": "code",
   "execution_count": null,
   "id": "ae8f78ea",
   "metadata": {},
   "outputs": [],
   "source": [
    "adaboost_optimized_report_df.groupby(\n",
    "    [\"communicate\"])[\"f1_scores\"].mean().sort_values(ascending = False)"
   ]
  },
  {
   "cell_type": "markdown",
   "id": "a8ceca11",
   "metadata": {},
   "source": [
    "\n",
    ">Undersampling still gives poor results - escpecially for recall which is very important in disaster response system. Undersampling may not necesserilly work good in multioutput problems, because of possible noise beeing added to the data set.\n",
    "Moreover, if we really want to balance all of the classes via undersampling we will end up with very small data set (some imbalanced classes are much less numerous than the better balanced ones). Hence the next iterration will be conducted with **´class weights´** adjustments and without any reduction of the data set size."
   ]
  },
  {
   "cell_type": "code",
   "execution_count": null,
   "id": "b7248f6b",
   "metadata": {},
   "outputs": [],
   "source": [
    "adaboost_optimized_report_df.to_csv(\"Adaboost_DT_GridSearch_splitter_random_best_estimators_50and100.csv\", \n",
    "                                    index = True)"
   ]
  },
  {
   "cell_type": "code",
   "execution_count": null,
   "id": "5de79ed0",
   "metadata": {},
   "outputs": [],
   "source": [
    "filename = \"AdaBoostClassifier_opt\""
   ]
  },
  {
   "cell_type": "code",
   "execution_count": null,
   "id": "5e146dde",
   "metadata": {},
   "outputs": [],
   "source": [
    "joblib.dump(adaboost_transf_optimized, filename)"
   ]
  },
  {
   "cell_type": "markdown",
   "id": "6dee9308",
   "metadata": {},
   "source": [
    "## SVC"
   ]
  },
  {
   "cell_type": "code",
   "execution_count": 11,
   "id": "4e5f21e2",
   "metadata": {},
   "outputs": [],
   "source": [
    "SVC = make_sklearn_pipeline(verbose = True, steps = [('vect', CountVectorizer(tokenizer = tokenize)),\n",
    "                           ('tfidf', TfidfTransformer()),                                              \n",
    "                           ('clf', MultiOutputClassifier(estimator = LinearSVC\n",
    "                                                         (class_weight = \"balanced\", dual = False, max_iter = 10000)))])"
   ]
  },
  {
   "cell_type": "code",
   "execution_count": 12,
   "id": "79012366",
   "metadata": {},
   "outputs": [],
   "source": [
    "classification_reports.clear()"
   ]
  },
  {
   "cell_type": "code",
   "execution_count": 13,
   "id": "e17c0624",
   "metadata": {
    "scrolled": true
   },
   "outputs": [
    {
     "name": "stdout",
     "output_type": "stream",
     "text": [
      "[Pipeline] .............. (step 1 of 3) Processing vect, total= 3.2min\n",
      "[Pipeline] ............. (step 2 of 3) Processing tfidf, total=   0.0s\n",
      "[Pipeline] ............... (step 3 of 3) Processing clf, total=   5.4s\n"
     ]
    },
    {
     "data": {
      "text/plain": [
       "Pipeline(steps=[('vect',\n",
       "                 CountVectorizer(tokenizer=<function tokenize at 0x00000227E6689A60>)),\n",
       "                ('tfidf', TfidfTransformer()),\n",
       "                ('clf',\n",
       "                 MultiOutputClassifier(estimator=LinearSVC(class_weight='balanced',\n",
       "                                                           dual=False,\n",
       "                                                           max_iter=10000)))],\n",
       "         verbose=True)"
      ]
     },
     "execution_count": 13,
     "metadata": {},
     "output_type": "execute_result"
    }
   ],
   "source": [
    "SVC.fit(X_train, y_train)"
   ]
  },
  {
   "cell_type": "code",
   "execution_count": 14,
   "id": "974fa382",
   "metadata": {},
   "outputs": [
    {
     "name": "stdout",
     "output_type": "stream",
     "text": [
      "related\n",
      "              precision    recall  f1-score   support\n",
      "\n",
      "         0.0       0.59      0.69      0.63      1221\n",
      "         1.0       0.90      0.85      0.88      3985\n",
      "\n",
      "    accuracy                           0.81      5206\n",
      "   macro avg       0.74      0.77      0.76      5206\n",
      "weighted avg       0.83      0.81      0.82      5206\n",
      "\n",
      "request\n",
      "              precision    recall  f1-score   support\n",
      "\n",
      "         0.0       0.94      0.89      0.91      4311\n",
      "         1.0       0.58      0.74      0.65       895\n",
      "\n",
      "    accuracy                           0.86      5206\n",
      "   macro avg       0.76      0.81      0.78      5206\n",
      "weighted avg       0.88      0.86      0.87      5206\n",
      "\n",
      "offer\n",
      "              precision    recall  f1-score   support\n",
      "\n",
      "         0.0       1.00      1.00      1.00      5182\n",
      "         1.0       0.00      0.00      0.00        24\n",
      "\n",
      "    accuracy                           0.99      5206\n",
      "   macro avg       0.50      0.50      0.50      5206\n",
      "weighted avg       0.99      0.99      0.99      5206\n",
      "\n",
      "aid_related\n",
      "              precision    recall  f1-score   support\n",
      "\n",
      "         0.0       0.80      0.77      0.78      3000\n",
      "         1.0       0.70      0.73      0.72      2206\n",
      "\n",
      "    accuracy                           0.75      5206\n",
      "   macro avg       0.75      0.75      0.75      5206\n",
      "weighted avg       0.76      0.75      0.76      5206\n",
      "\n",
      "medical_help\n",
      "              precision    recall  f1-score   support\n",
      "\n",
      "         0.0       0.96      0.92      0.94      4768\n",
      "         1.0       0.40      0.54      0.46       438\n",
      "\n",
      "    accuracy                           0.89      5206\n",
      "   macro avg       0.68      0.73      0.70      5206\n",
      "weighted avg       0.91      0.89      0.90      5206\n",
      "\n",
      "medical_products\n",
      "              precision    recall  f1-score   support\n",
      "\n",
      "         0.0       0.97      0.95      0.96      4934\n",
      "         1.0       0.38      0.51      0.43       272\n",
      "\n",
      "    accuracy                           0.93      5206\n",
      "   macro avg       0.67      0.73      0.70      5206\n",
      "weighted avg       0.94      0.93      0.94      5206\n",
      "\n",
      "search_and_rescue\n",
      "              precision    recall  f1-score   support\n",
      "\n",
      "         0.0       0.98      0.97      0.97      5057\n",
      "         1.0       0.21      0.27      0.23       149\n",
      "\n",
      "    accuracy                           0.95      5206\n",
      "   macro avg       0.59      0.62      0.60      5206\n",
      "weighted avg       0.96      0.95      0.95      5206\n",
      "\n",
      "security\n",
      "              precision    recall  f1-score   support\n",
      "\n",
      "         0.0       0.98      0.98      0.98      5110\n",
      "         1.0       0.11      0.11      0.11        96\n",
      "\n",
      "    accuracy                           0.97      5206\n",
      "   macro avg       0.55      0.55      0.55      5206\n",
      "weighted avg       0.97      0.97      0.97      5206\n",
      "\n",
      "military\n",
      "              precision    recall  f1-score   support\n",
      "\n",
      "         0.0       0.98      0.98      0.98      5039\n",
      "         1.0       0.46      0.52      0.49       167\n",
      "\n",
      "    accuracy                           0.96      5206\n",
      "   macro avg       0.72      0.75      0.73      5206\n",
      "weighted avg       0.97      0.96      0.97      5206\n",
      "\n",
      "water\n",
      "              precision    recall  f1-score   support\n",
      "\n",
      "         0.0       0.98      0.97      0.98      4854\n",
      "         1.0       0.64      0.78      0.70       352\n",
      "\n",
      "    accuracy                           0.96      5206\n",
      "   macro avg       0.81      0.87      0.84      5206\n",
      "weighted avg       0.96      0.96      0.96      5206\n",
      "\n",
      "food\n",
      "              precision    recall  f1-score   support\n",
      "\n",
      "         0.0       0.98      0.96      0.97      4601\n",
      "         1.0       0.72      0.82      0.77       605\n",
      "\n",
      "    accuracy                           0.94      5206\n",
      "   macro avg       0.85      0.89      0.87      5206\n",
      "weighted avg       0.95      0.94      0.94      5206\n",
      "\n",
      "shelter\n",
      "              precision    recall  f1-score   support\n",
      "\n",
      "         0.0       0.97      0.96      0.96      4759\n",
      "         1.0       0.59      0.67      0.63       447\n",
      "\n",
      "    accuracy                           0.93      5206\n",
      "   macro avg       0.78      0.81      0.80      5206\n",
      "weighted avg       0.94      0.93      0.93      5206\n",
      "\n",
      "clothing\n",
      "              precision    recall  f1-score   support\n",
      "\n",
      "         0.0       0.99      0.99      0.99      5125\n",
      "         1.0       0.63      0.60      0.62        81\n",
      "\n",
      "    accuracy                           0.99      5206\n",
      "   macro avg       0.81      0.80      0.81      5206\n",
      "weighted avg       0.99      0.99      0.99      5206\n",
      "\n",
      "money\n",
      "              precision    recall  f1-score   support\n",
      "\n",
      "         0.0       0.99      0.98      0.99      5090\n",
      "         1.0       0.41      0.47      0.44       116\n",
      "\n",
      "    accuracy                           0.97      5206\n",
      "   macro avg       0.70      0.73      0.71      5206\n",
      "weighted avg       0.98      0.97      0.97      5206\n",
      "\n",
      "missing_people\n",
      "              precision    recall  f1-score   support\n",
      "\n",
      "         0.0       0.99      0.99      0.99      5139\n",
      "         1.0       0.30      0.21      0.25        67\n",
      "\n",
      "    accuracy                           0.98      5206\n",
      "   macro avg       0.64      0.60      0.62      5206\n",
      "weighted avg       0.98      0.98      0.98      5206\n",
      "\n",
      "refugees\n",
      "              precision    recall  f1-score   support\n",
      "\n",
      "         0.0       0.98      0.97      0.98      5039\n",
      "         1.0       0.36      0.42      0.38       167\n",
      "\n",
      "    accuracy                           0.96      5206\n",
      "   macro avg       0.67      0.70      0.68      5206\n",
      "weighted avg       0.96      0.96      0.96      5206\n",
      "\n",
      "death\n",
      "              precision    recall  f1-score   support\n",
      "\n",
      "         0.0       0.98      0.98      0.98      4973\n",
      "         1.0       0.55      0.62      0.58       233\n",
      "\n",
      "    accuracy                           0.96      5206\n",
      "   macro avg       0.77      0.80      0.78      5206\n",
      "weighted avg       0.96      0.96      0.96      5206\n",
      "\n",
      "other_aid\n",
      "              precision    recall  f1-score   support\n",
      "\n",
      "         0.0       0.92      0.85      0.88      4521\n",
      "         1.0       0.33      0.50      0.40       685\n",
      "\n",
      "    accuracy                           0.80      5206\n",
      "   macro avg       0.62      0.67      0.64      5206\n",
      "weighted avg       0.84      0.80      0.82      5206\n",
      "\n",
      "infrastructure_related\n",
      "              precision    recall  f1-score   support\n",
      "\n",
      "         0.0       0.95      0.92      0.94      4865\n",
      "         1.0       0.23      0.33      0.27       341\n",
      "\n",
      "    accuracy                           0.88      5206\n",
      "   macro avg       0.59      0.62      0.60      5206\n",
      "weighted avg       0.90      0.88      0.89      5206\n",
      "\n",
      "transport\n",
      "              precision    recall  f1-score   support\n",
      "\n",
      "         0.0       0.97      0.95      0.96      4967\n",
      "         1.0       0.25      0.37      0.29       239\n",
      "\n",
      "    accuracy                           0.92      5206\n",
      "   macro avg       0.61      0.66      0.63      5206\n",
      "weighted avg       0.94      0.92      0.93      5206\n",
      "\n",
      "buildings\n",
      "              precision    recall  f1-score   support\n",
      "\n",
      "         0.0       0.97      0.96      0.97      4946\n",
      "         1.0       0.43      0.51      0.47       260\n",
      "\n",
      "    accuracy                           0.94      5206\n",
      "   macro avg       0.70      0.74      0.72      5206\n",
      "weighted avg       0.95      0.94      0.94      5206\n",
      "\n",
      "electricity\n",
      "              precision    recall  f1-score   support\n",
      "\n",
      "         0.0       0.99      0.99      0.99      5104\n",
      "         1.0       0.46      0.50      0.48       102\n",
      "\n",
      "    accuracy                           0.98      5206\n",
      "   macro avg       0.72      0.74      0.73      5206\n",
      "weighted avg       0.98      0.98      0.98      5206\n",
      "\n",
      "tools\n",
      "              precision    recall  f1-score   support\n",
      "\n",
      "         0.0       0.99      1.00      1.00      5173\n",
      "         1.0       0.00      0.00      0.00        33\n",
      "\n",
      "    accuracy                           0.99      5206\n",
      "   macro avg       0.50      0.50      0.50      5206\n",
      "weighted avg       0.99      0.99      0.99      5206\n",
      "\n",
      "hospitals\n",
      "              precision    recall  f1-score   support\n",
      "\n",
      "         0.0       0.99      0.99      0.99      5157\n",
      "         1.0       0.27      0.24      0.26        49\n",
      "\n",
      "    accuracy                           0.99      5206\n",
      "   macro avg       0.63      0.62      0.62      5206\n",
      "weighted avg       0.99      0.99      0.99      5206\n",
      "\n",
      "shops\n",
      "              precision    recall  f1-score   support\n",
      "\n",
      "         0.0       1.00      1.00      1.00      5184\n",
      "         1.0       0.00      0.00      0.00        22\n",
      "\n",
      "    accuracy                           0.99      5206\n",
      "   macro avg       0.50      0.50      0.50      5206\n",
      "weighted avg       0.99      0.99      0.99      5206\n",
      "\n",
      "aid_centers\n",
      "              precision    recall  f1-score   support\n",
      "\n",
      "         0.0       0.99      0.99      0.99      5144\n",
      "         1.0       0.20      0.19      0.20        62\n",
      "\n",
      "    accuracy                           0.98      5206\n",
      "   macro avg       0.60      0.59      0.59      5206\n",
      "weighted avg       0.98      0.98      0.98      5206\n",
      "\n",
      "other_infrastructure\n",
      "              precision    recall  f1-score   support\n",
      "\n",
      "         0.0       0.96      0.95      0.96      4973\n",
      "         1.0       0.17      0.22      0.19       233\n",
      "\n",
      "    accuracy                           0.92      5206\n",
      "   macro avg       0.57      0.59      0.58      5206\n",
      "weighted avg       0.93      0.92      0.92      5206\n",
      "\n",
      "weather_related\n",
      "              precision    recall  f1-score   support\n",
      "\n",
      "         0.0       0.91      0.90      0.91      3775\n",
      "         1.0       0.75      0.77      0.76      1431\n",
      "\n",
      "    accuracy                           0.86      5206\n",
      "   macro avg       0.83      0.84      0.83      5206\n",
      "weighted avg       0.87      0.86      0.87      5206\n",
      "\n",
      "floods\n",
      "              precision    recall  f1-score   support\n",
      "\n",
      "         0.0       0.97      0.96      0.96      4761\n",
      "         1.0       0.58      0.63      0.60       445\n",
      "\n",
      "    accuracy                           0.93      5206\n",
      "   macro avg       0.77      0.79      0.78      5206\n",
      "weighted avg       0.93      0.93      0.93      5206\n",
      "\n",
      "storm\n",
      "              precision    recall  f1-score   support\n",
      "\n",
      "         0.0       0.97      0.96      0.97      4728\n",
      "         1.0       0.64      0.74      0.69       478\n",
      "\n",
      "    accuracy                           0.94      5206\n",
      "   macro avg       0.81      0.85      0.83      5206\n",
      "weighted avg       0.94      0.94      0.94      5206\n",
      "\n",
      "fire\n",
      "              precision    recall  f1-score   support\n",
      "\n",
      "         0.0       0.99      1.00      0.99      5152\n",
      "         1.0       0.44      0.35      0.39        54\n",
      "\n",
      "    accuracy                           0.99      5206\n",
      "   macro avg       0.72      0.67      0.69      5206\n",
      "weighted avg       0.99      0.99      0.99      5206\n",
      "\n",
      "earthquake\n",
      "              precision    recall  f1-score   support\n",
      "\n",
      "         0.0       0.98      0.98      0.98      4742\n",
      "         1.0       0.80      0.83      0.81       464\n",
      "\n",
      "    accuracy                           0.97      5206\n",
      "   macro avg       0.89      0.90      0.90      5206\n",
      "weighted avg       0.97      0.97      0.97      5206\n",
      "\n",
      "cold\n",
      "              precision    recall  f1-score   support\n",
      "\n",
      "         0.0       0.99      0.99      0.99      5098\n",
      "         1.0       0.48      0.42      0.45       108\n",
      "\n",
      "    accuracy                           0.98      5206\n",
      "   macro avg       0.74      0.70      0.72      5206\n",
      "weighted avg       0.98      0.98      0.98      5206\n",
      "\n",
      "other_weather\n",
      "              precision    recall  f1-score   support\n",
      "\n",
      "         0.0       0.96      0.95      0.95      4932\n",
      "         1.0       0.26      0.34      0.29       274\n",
      "\n",
      "    accuracy                           0.91      5206\n",
      "   macro avg       0.61      0.64      0.62      5206\n",
      "weighted avg       0.93      0.91      0.92      5206\n",
      "\n",
      "direct_report\n",
      "              precision    recall  f1-score   support\n",
      "\n",
      "         0.0       0.91      0.86      0.89      4166\n",
      "         1.0       0.55      0.68      0.61      1040\n",
      "\n",
      "    accuracy                           0.82      5206\n",
      "   macro avg       0.73      0.77      0.75      5206\n",
      "weighted avg       0.84      0.82      0.83      5206\n",
      "\n"
     ]
    }
   ],
   "source": [
    "y_pred_svc = SVC.predict(X_test)\n",
    "y_pred_svc = pd.DataFrame(y_pred_svc, columns = list(Y.columns))\n",
    "y_test = y_test.reset_index(drop = True)\n",
    "for i, var in enumerate(Y):\n",
    "    print(var)\n",
    "    print(classification_report(y_test.iloc[:,i], y_pred_svc.iloc[:,i]))"
   ]
  },
  {
   "cell_type": "code",
   "execution_count": 15,
   "id": "236728c8",
   "metadata": {},
   "outputs": [],
   "source": [
    "for i, var in enumerate(Y):\n",
    "    classification_reports[var] = (classification_report(y_test.iloc[:,i], y_pred_svc.iloc[:,i]));"
   ]
  },
  {
   "cell_type": "code",
   "execution_count": 16,
   "id": "8f9d59a6",
   "metadata": {},
   "outputs": [],
   "source": [
    "svc_report = df_from_sklearn_cl_reports(classification_reports)"
   ]
  },
  {
   "cell_type": "code",
   "execution_count": 48,
   "id": "efb726a4",
   "metadata": {},
   "outputs": [
    {
     "data": {
      "text/plain": [
       "['cold',\n",
       " 'electricity',\n",
       " 'military',\n",
       " 'fire',\n",
       " 'buildings',\n",
       " 'money',\n",
       " 'medical_help',\n",
       " 'medical_products',\n",
       " 'refugees',\n",
       " 'other_aid',\n",
       " 'missing_people',\n",
       " 'hospitals',\n",
       " 'other_weather',\n",
       " 'transport',\n",
       " 'infrastructure_related',\n",
       " 'search_and_rescue',\n",
       " 'aid_centers',\n",
       " 'other_infrastructure',\n",
       " 'security',\n",
       " 'offer',\n",
       " 'shops',\n",
       " 'tools']"
      ]
     },
     "execution_count": 48,
     "metadata": {},
     "output_type": "execute_result"
    }
   ],
   "source": [
    "svc_precisions = svc_report.loc[\n",
    "    svc_report.label == 1].groupby(\n",
    "    [\"communicate\"])[\"precisions\"].mean().sort_values(ascending = False)"
   ]
  },
  {
   "cell_type": "code",
   "execution_count": 47,
   "id": "ceb0f1a6",
   "metadata": {},
   "outputs": [
    {
     "data": {
      "text/plain": [
       "['money',\n",
       " 'refugees',\n",
       " 'cold',\n",
       " 'transport',\n",
       " 'fire',\n",
       " 'other_weather',\n",
       " 'infrastructure_related',\n",
       " 'search_and_rescue',\n",
       " 'hospitals',\n",
       " 'other_infrastructure',\n",
       " 'missing_people',\n",
       " 'aid_centers',\n",
       " 'security',\n",
       " 'shops',\n",
       " 'tools',\n",
       " 'offer']"
      ]
     },
     "execution_count": 47,
     "metadata": {},
     "output_type": "execute_result"
    }
   ],
   "source": [
    "svc_recalls = svc_report.loc[\n",
    "    svc_report.label == 1].groupby(\n",
    "    [\"communicate\"])[\"recalls\"].mean().sort_values(ascending = False)"
   ]
  },
  {
   "cell_type": "code",
   "execution_count": 49,
   "id": "4baa35e1",
   "metadata": {},
   "outputs": [
    {
     "data": {
      "text/plain": [
       "['cold',\n",
       " 'electricity',\n",
       " 'military',\n",
       " 'fire',\n",
       " 'buildings',\n",
       " 'money',\n",
       " 'medical_help',\n",
       " 'medical_products',\n",
       " 'refugees',\n",
       " 'other_aid',\n",
       " 'missing_people',\n",
       " 'hospitals',\n",
       " 'other_weather',\n",
       " 'transport',\n",
       " 'infrastructure_related',\n",
       " 'search_and_rescue',\n",
       " 'aid_centers',\n",
       " 'other_infrastructure',\n",
       " 'security',\n",
       " 'offer',\n",
       " 'shops',\n",
       " 'tools',\n",
       " 'money',\n",
       " 'refugees',\n",
       " 'cold',\n",
       " 'transport',\n",
       " 'fire',\n",
       " 'other_weather',\n",
       " 'infrastructure_related',\n",
       " 'search_and_rescue',\n",
       " 'hospitals',\n",
       " 'other_infrastructure',\n",
       " 'missing_people',\n",
       " 'aid_centers',\n",
       " 'security',\n",
       " 'shops',\n",
       " 'tools',\n",
       " 'offer']"
      ]
     },
     "execution_count": 49,
     "metadata": {},
     "output_type": "execute_result"
    }
   ],
   "source": []
  },
  {
   "cell_type": "markdown",
   "id": "848314d0",
   "metadata": {},
   "source": [
    "\n",
    ">Undersampling still gives poor results - escpecially for recall which is very important in disaster response system. Undersampling may not necesserilly work good in multioutput problems, because of possible noise beeing added to the data set.\n",
    "Moreover, if we really want to balance all of the classes via undersampling we will end up with very small data set (some imbalanced classes are much less numerous than the better balanced ones). Hence the next iterration will be conducted with **´class weights´** adjustments and without any reduction of the data set size."
   ]
  },
  {
   "cell_type": "markdown",
   "id": "f23f1a2f",
   "metadata": {},
   "source": [
    "## Adaboost SVC"
   ]
  },
  {
   "cell_type": "code",
   "execution_count": null,
   "id": "d1a15564",
   "metadata": {},
   "outputs": [],
   "source": [
    "classification_reports.clear()"
   ]
  },
  {
   "cell_type": "code",
   "execution_count": null,
   "id": "e2e7c6e7",
   "metadata": {},
   "outputs": [],
   "source": [
    "adaSVC = make_sklearn_pipeline(verbose = True, steps = [('vect', CountVectorizer(tokenizer = tokenize)),\n",
    "                           ('tfidf', TfidfTransformer()),                                              \n",
    "                       ('clf', MultiOutputClassifier(estimator = AdaBoostClassifier(\n",
    "                           LinearSVC(class_weight = \"balanced\"),algorithm=\"SAMME\")))])"
   ]
  },
  {
   "cell_type": "code",
   "execution_count": null,
   "id": "f8b367aa",
   "metadata": {},
   "outputs": [],
   "source": [
    "adaSVC.fit(X_train, y_train)"
   ]
  },
  {
   "cell_type": "code",
   "execution_count": null,
   "id": "b21a4935",
   "metadata": {},
   "outputs": [],
   "source": []
  },
  {
   "cell_type": "markdown",
   "id": "57e536d8",
   "metadata": {},
   "source": [
    "##### Predicting and classification report"
   ]
  },
  {
   "cell_type": "code",
   "execution_count": null,
   "id": "19a5a2fe",
   "metadata": {},
   "outputs": [],
   "source": [
    "y_pred_ada_svc = adaSVC.predict(X_test)\n",
    "y_pred_ada_svc = pd.DataFrame(y_pred_ada_svc, columns = list(Y.columns))\n",
    "y_test = y_test.reset_index(drop = True)\n",
    "for i, var in enumerate(Y):\n",
    "    print(var)\n",
    "    print(classification_report(y_test.iloc[:,i], y_pred_ada_svc.iloc[:,i]))"
   ]
  },
  {
   "cell_type": "markdown",
   "id": "0d5fd536",
   "metadata": {},
   "source": [
    "##### Providing a data frame for easier results assessment"
   ]
  },
  {
   "cell_type": "code",
   "execution_count": null,
   "id": "ccf8a60c",
   "metadata": {},
   "outputs": [],
   "source": [
    "for i, var in enumerate(Y):\n",
    "    classification_reports[var] = (classification_report(y_test.iloc[:,i], y_pred_ada_svc.iloc[:,i]));"
   ]
  },
  {
   "cell_type": "code",
   "execution_count": null,
   "id": "dc5bf1ae",
   "metadata": {},
   "outputs": [],
   "source": [
    "ada_svc_report_df = df_from_sklearn_cl_reports(classification_reports)"
   ]
  },
  {
   "cell_type": "code",
   "execution_count": null,
   "id": "45a1bbd8",
   "metadata": {},
   "outputs": [],
   "source": [
    "ada_svc_report_df.loc[\n",
    "    ada_svc_report_df.label == 1].groupby(\n",
    "    [\"communicate\"])[\"precisions\"].mean().sort_values(ascending = False).mean()"
   ]
  },
  {
   "cell_type": "code",
   "execution_count": null,
   "id": "4b4bf8bb",
   "metadata": {},
   "outputs": [],
   "source": [
    "ada_svc_report_df.loc[\n",
    "    ada_svc_report_df.label == 1].groupby(\n",
    "    [\"communicate\"])[\"recalls\"].mean().sort_values(ascending = False).mean()"
   ]
  },
  {
   "cell_type": "code",
   "execution_count": null,
   "id": "cedc506c",
   "metadata": {},
   "outputs": [],
   "source": []
  },
  {
   "cell_type": "markdown",
   "id": "79f4cf3c",
   "metadata": {},
   "source": [
    "## Decision Tree"
   ]
  },
  {
   "cell_type": "code",
   "execution_count": 19,
   "id": "251c0772",
   "metadata": {},
   "outputs": [],
   "source": [
    "Tree = make_sklearn_pipeline(verbose = True, steps = [('vect', CountVectorizer(tokenizer = tokenize)),\n",
    "                           ('tfidf', TfidfTransformer()),                                              \n",
    "                           ('clf', MultiOutputClassifier(estimator = DecisionTreeClassifier\n",
    "                                                         (max_depth=9, min_samples_leaf=1, class_weight = \"balanced\")))])"
   ]
  },
  {
   "cell_type": "code",
   "execution_count": 20,
   "id": "54d6a2d1",
   "metadata": {},
   "outputs": [],
   "source": [
    "classification_reports.clear()"
   ]
  },
  {
   "cell_type": "code",
   "execution_count": 21,
   "id": "a094de1f",
   "metadata": {},
   "outputs": [
    {
     "name": "stdout",
     "output_type": "stream",
     "text": [
      "[Pipeline] .............. (step 1 of 3) Processing vect, total= 3.1min\n",
      "[Pipeline] ............. (step 2 of 3) Processing tfidf, total=   0.0s\n",
      "[Pipeline] ............... (step 3 of 3) Processing clf, total=  10.5s\n"
     ]
    },
    {
     "data": {
      "text/plain": [
       "Pipeline(steps=[('vect',\n",
       "                 CountVectorizer(tokenizer=<function tokenize at 0x00000227E6689A60>)),\n",
       "                ('tfidf', TfidfTransformer()),\n",
       "                ('clf',\n",
       "                 MultiOutputClassifier(estimator=DecisionTreeClassifier(class_weight='balanced',\n",
       "                                                                        max_depth=9)))],\n",
       "         verbose=True)"
      ]
     },
     "execution_count": 21,
     "metadata": {},
     "output_type": "execute_result"
    }
   ],
   "source": [
    "Tree.fit(X_train, y_train)"
   ]
  },
  {
   "cell_type": "code",
   "execution_count": 22,
   "id": "17ac49f9",
   "metadata": {},
   "outputs": [
    {
     "name": "stdout",
     "output_type": "stream",
     "text": [
      "related\n",
      "              precision    recall  f1-score   support\n",
      "\n",
      "         0.0       0.43      0.57      0.49      1221\n",
      "         1.0       0.85      0.76      0.81      3985\n",
      "\n",
      "    accuracy                           0.72      5206\n",
      "   macro avg       0.64      0.67      0.65      5206\n",
      "weighted avg       0.75      0.72      0.73      5206\n",
      "\n",
      "request\n",
      "              precision    recall  f1-score   support\n",
      "\n",
      "         0.0       0.92      0.86      0.89      4311\n",
      "         1.0       0.50      0.66      0.57       895\n",
      "\n",
      "    accuracy                           0.83      5206\n",
      "   macro avg       0.71      0.76      0.73      5206\n",
      "weighted avg       0.85      0.83      0.84      5206\n",
      "\n",
      "offer\n",
      "              precision    recall  f1-score   support\n",
      "\n",
      "         0.0       1.00      0.90      0.95      5182\n",
      "         1.0       0.01      0.29      0.03        24\n",
      "\n",
      "    accuracy                           0.90      5206\n",
      "   macro avg       0.51      0.60      0.49      5206\n",
      "weighted avg       0.99      0.90      0.94      5206\n",
      "\n",
      "aid_related\n",
      "              precision    recall  f1-score   support\n",
      "\n",
      "         0.0       0.72      0.82      0.77      3000\n",
      "         1.0       0.70      0.57      0.63      2206\n",
      "\n",
      "    accuracy                           0.72      5206\n",
      "   macro avg       0.71      0.70      0.70      5206\n",
      "weighted avg       0.72      0.72      0.71      5206\n",
      "\n",
      "medical_help\n",
      "              precision    recall  f1-score   support\n",
      "\n",
      "         0.0       0.95      0.96      0.95      4768\n",
      "         1.0       0.47      0.44      0.45       438\n",
      "\n",
      "    accuracy                           0.91      5206\n",
      "   macro avg       0.71      0.70      0.70      5206\n",
      "weighted avg       0.91      0.91      0.91      5206\n",
      "\n",
      "medical_products\n",
      "              precision    recall  f1-score   support\n",
      "\n",
      "         0.0       0.97      0.94      0.96      4934\n",
      "         1.0       0.32      0.50      0.39       272\n",
      "\n",
      "    accuracy                           0.92      5206\n",
      "   macro avg       0.65      0.72      0.67      5206\n",
      "weighted avg       0.94      0.92      0.93      5206\n",
      "\n",
      "search_and_rescue\n",
      "              precision    recall  f1-score   support\n",
      "\n",
      "         0.0       0.98      0.83      0.90      5057\n",
      "         1.0       0.08      0.46      0.13       149\n",
      "\n",
      "    accuracy                           0.82      5206\n",
      "   macro avg       0.53      0.65      0.52      5206\n",
      "weighted avg       0.96      0.82      0.88      5206\n",
      "\n",
      "security\n",
      "              precision    recall  f1-score   support\n",
      "\n",
      "         0.0       0.98      0.61      0.76      5110\n",
      "         1.0       0.02      0.48      0.04        96\n",
      "\n",
      "    accuracy                           0.61      5206\n",
      "   macro avg       0.50      0.55      0.40      5206\n",
      "weighted avg       0.97      0.61      0.74      5206\n",
      "\n",
      "military\n",
      "              precision    recall  f1-score   support\n",
      "\n",
      "         0.0       0.98      0.99      0.98      5039\n",
      "         1.0       0.46      0.37      0.41       167\n",
      "\n",
      "    accuracy                           0.97      5206\n",
      "   macro avg       0.72      0.68      0.69      5206\n",
      "weighted avg       0.96      0.97      0.96      5206\n",
      "\n",
      "water\n",
      "              precision    recall  f1-score   support\n",
      "\n",
      "         0.0       0.99      0.95      0.97      4854\n",
      "         1.0       0.56      0.84      0.67       352\n",
      "\n",
      "    accuracy                           0.95      5206\n",
      "   macro avg       0.78      0.90      0.82      5206\n",
      "weighted avg       0.96      0.95      0.95      5206\n",
      "\n",
      "food\n",
      "              precision    recall  f1-score   support\n",
      "\n",
      "         0.0       0.98      0.96      0.97      4601\n",
      "         1.0       0.71      0.83      0.77       605\n",
      "\n",
      "    accuracy                           0.94      5206\n",
      "   macro avg       0.85      0.90      0.87      5206\n",
      "weighted avg       0.95      0.94      0.94      5206\n",
      "\n",
      "shelter\n",
      "              precision    recall  f1-score   support\n",
      "\n",
      "         0.0       0.97      0.95      0.96      4759\n",
      "         1.0       0.57      0.71      0.63       447\n",
      "\n",
      "    accuracy                           0.93      5206\n",
      "   macro avg       0.77      0.83      0.79      5206\n",
      "weighted avg       0.94      0.93      0.93      5206\n",
      "\n",
      "clothing\n",
      "              precision    recall  f1-score   support\n",
      "\n",
      "         0.0       0.99      0.97      0.98      5125\n",
      "         1.0       0.22      0.60      0.33        81\n",
      "\n",
      "    accuracy                           0.96      5206\n",
      "   macro avg       0.61      0.79      0.65      5206\n",
      "weighted avg       0.98      0.96      0.97      5206\n",
      "\n",
      "money\n",
      "              precision    recall  f1-score   support\n",
      "\n",
      "         0.0       0.99      0.96      0.98      5090\n",
      "         1.0       0.28      0.65      0.39       116\n",
      "\n",
      "    accuracy                           0.95      5206\n",
      "   macro avg       0.63      0.80      0.68      5206\n",
      "weighted avg       0.98      0.95      0.96      5206\n",
      "\n",
      "missing_people\n",
      "              precision    recall  f1-score   support\n",
      "\n",
      "         0.0       0.99      0.95      0.97      5139\n",
      "         1.0       0.07      0.28      0.11        67\n",
      "\n",
      "    accuracy                           0.94      5206\n",
      "   macro avg       0.53      0.62      0.54      5206\n",
      "weighted avg       0.98      0.94      0.96      5206\n",
      "\n",
      "refugees\n",
      "              precision    recall  f1-score   support\n",
      "\n",
      "         0.0       0.99      0.87      0.92      5039\n",
      "         1.0       0.14      0.65      0.23       167\n",
      "\n",
      "    accuracy                           0.86      5206\n",
      "   macro avg       0.56      0.76      0.58      5206\n",
      "weighted avg       0.96      0.86      0.90      5206\n",
      "\n",
      "death\n",
      "              precision    recall  f1-score   support\n",
      "\n",
      "         0.0       0.98      0.98      0.98      4973\n",
      "         1.0       0.59      0.62      0.60       233\n",
      "\n",
      "    accuracy                           0.96      5206\n",
      "   macro avg       0.78      0.80      0.79      5206\n",
      "weighted avg       0.96      0.96      0.96      5206\n",
      "\n",
      "other_aid\n",
      "              precision    recall  f1-score   support\n",
      "\n",
      "         0.0       0.92      0.83      0.87      4521\n",
      "         1.0       0.33      0.55      0.41       685\n",
      "\n",
      "    accuracy                           0.79      5206\n",
      "   macro avg       0.62      0.69      0.64      5206\n",
      "weighted avg       0.85      0.79      0.81      5206\n",
      "\n",
      "infrastructure_related\n",
      "              precision    recall  f1-score   support\n",
      "\n",
      "         0.0       0.95      0.91      0.93      4865\n",
      "         1.0       0.18      0.27      0.22       341\n",
      "\n",
      "    accuracy                           0.87      5206\n",
      "   macro avg       0.56      0.59      0.57      5206\n",
      "weighted avg       0.90      0.87      0.88      5206\n",
      "\n",
      "transport\n",
      "              precision    recall  f1-score   support\n",
      "\n",
      "         0.0       0.97      0.96      0.96      4967\n",
      "         1.0       0.29      0.36      0.33       239\n",
      "\n",
      "    accuracy                           0.93      5206\n",
      "   macro avg       0.63      0.66      0.64      5206\n",
      "weighted avg       0.94      0.93      0.93      5206\n",
      "\n",
      "buildings\n",
      "              precision    recall  f1-score   support\n",
      "\n",
      "         0.0       0.98      0.95      0.96      4946\n",
      "         1.0       0.39      0.63      0.48       260\n",
      "\n",
      "    accuracy                           0.93      5206\n",
      "   macro avg       0.68      0.79      0.72      5206\n",
      "weighted avg       0.95      0.93      0.94      5206\n",
      "\n",
      "electricity\n",
      "              precision    recall  f1-score   support\n",
      "\n",
      "         0.0       0.99      0.98      0.99      5104\n",
      "         1.0       0.37      0.59      0.45       102\n",
      "\n",
      "    accuracy                           0.97      5206\n",
      "   macro avg       0.68      0.78      0.72      5206\n",
      "weighted avg       0.98      0.97      0.98      5206\n",
      "\n",
      "tools\n",
      "              precision    recall  f1-score   support\n",
      "\n",
      "         0.0       0.99      0.93      0.96      5173\n",
      "         1.0       0.01      0.09      0.02        33\n",
      "\n",
      "    accuracy                           0.93      5206\n",
      "   macro avg       0.50      0.51      0.49      5206\n",
      "weighted avg       0.99      0.93      0.96      5206\n",
      "\n",
      "hospitals\n",
      "              precision    recall  f1-score   support\n",
      "\n",
      "         0.0       0.99      0.96      0.98      5157\n",
      "         1.0       0.08      0.37      0.14        49\n",
      "\n",
      "    accuracy                           0.96      5206\n",
      "   macro avg       0.54      0.66      0.56      5206\n",
      "weighted avg       0.99      0.96      0.97      5206\n",
      "\n",
      "shops\n",
      "              precision    recall  f1-score   support\n",
      "\n",
      "         0.0       1.00      0.93      0.96      5184\n",
      "         1.0       0.01      0.14      0.02        22\n",
      "\n",
      "    accuracy                           0.93      5206\n",
      "   macro avg       0.50      0.53      0.49      5206\n",
      "weighted avg       0.99      0.93      0.96      5206\n",
      "\n",
      "aid_centers\n",
      "              precision    recall  f1-score   support\n",
      "\n",
      "         0.0       0.99      0.95      0.97      5144\n",
      "         1.0       0.09      0.40      0.14        62\n",
      "\n",
      "    accuracy                           0.94      5206\n",
      "   macro avg       0.54      0.68      0.56      5206\n",
      "weighted avg       0.98      0.94      0.96      5206\n",
      "\n",
      "other_infrastructure\n",
      "              precision    recall  f1-score   support\n",
      "\n",
      "         0.0       0.97      0.92      0.94      4973\n",
      "         1.0       0.16      0.31      0.21       233\n",
      "\n",
      "    accuracy                           0.90      5206\n",
      "   macro avg       0.56      0.62      0.58      5206\n",
      "weighted avg       0.93      0.90      0.91      5206\n",
      "\n",
      "weather_related\n",
      "              precision    recall  f1-score   support\n",
      "\n",
      "         0.0       0.85      0.98      0.91      3775\n",
      "         1.0       0.90      0.56      0.69      1431\n",
      "\n",
      "    accuracy                           0.86      5206\n",
      "   macro avg       0.88      0.77      0.80      5206\n",
      "weighted avg       0.87      0.86      0.85      5206\n",
      "\n",
      "floods\n",
      "              precision    recall  f1-score   support\n",
      "\n",
      "         0.0       0.97      0.97      0.97      4761\n",
      "         1.0       0.65      0.63      0.64       445\n",
      "\n",
      "    accuracy                           0.94      5206\n",
      "   macro avg       0.81      0.80      0.80      5206\n",
      "weighted avg       0.94      0.94      0.94      5206\n",
      "\n",
      "storm\n",
      "              precision    recall  f1-score   support\n",
      "\n",
      "         0.0       0.97      0.96      0.97      4728\n",
      "         1.0       0.67      0.73      0.70       478\n",
      "\n",
      "    accuracy                           0.94      5206\n",
      "   macro avg       0.82      0.85      0.83      5206\n",
      "weighted avg       0.94      0.94      0.94      5206\n",
      "\n",
      "fire\n",
      "              precision    recall  f1-score   support\n",
      "\n",
      "         0.0       0.99      0.96      0.98      5152\n",
      "         1.0       0.09      0.41      0.15        54\n",
      "\n",
      "    accuracy                           0.95      5206\n",
      "   macro avg       0.54      0.68      0.56      5206\n",
      "weighted avg       0.98      0.95      0.97      5206\n",
      "\n",
      "earthquake\n",
      "              precision    recall  f1-score   support\n",
      "\n",
      "         0.0       0.98      0.98      0.98      4742\n",
      "         1.0       0.80      0.81      0.81       464\n",
      "\n",
      "    accuracy                           0.97      5206\n",
      "   macro avg       0.89      0.90      0.89      5206\n",
      "weighted avg       0.97      0.97      0.97      5206\n",
      "\n",
      "cold\n",
      "              precision    recall  f1-score   support\n",
      "\n",
      "         0.0       0.99      0.96      0.98      5098\n",
      "         1.0       0.27      0.61      0.37       108\n",
      "\n",
      "    accuracy                           0.96      5206\n",
      "   macro avg       0.63      0.79      0.68      5206\n",
      "weighted avg       0.98      0.96      0.97      5206\n",
      "\n",
      "other_weather\n",
      "              precision    recall  f1-score   support\n",
      "\n",
      "         0.0       0.96      0.95      0.96      4932\n",
      "         1.0       0.30      0.36      0.33       274\n",
      "\n",
      "    accuracy                           0.92      5206\n",
      "   macro avg       0.63      0.66      0.64      5206\n",
      "weighted avg       0.93      0.92      0.93      5206\n",
      "\n",
      "direct_report\n",
      "              precision    recall  f1-score   support\n",
      "\n",
      "         0.0       0.89      0.82      0.85      4166\n",
      "         1.0       0.45      0.59      0.51      1040\n",
      "\n",
      "    accuracy                           0.77      5206\n",
      "   macro avg       0.67      0.70      0.68      5206\n",
      "weighted avg       0.80      0.77      0.78      5206\n",
      "\n"
     ]
    }
   ],
   "source": [
    "y_pred_tree = Tree.predict(X_test)\n",
    "y_pred_tree = pd.DataFrame(y_pred_tree, columns = list(Y.columns))\n",
    "y_test = y_test.reset_index(drop = True)\n",
    "for i, var in enumerate(Y):\n",
    "    print(var)\n",
    "    print(classification_report(y_test.iloc[:,i], y_pred_tree.iloc[:,i]))"
   ]
  },
  {
   "cell_type": "code",
   "execution_count": 23,
   "id": "608ca7a7",
   "metadata": {},
   "outputs": [],
   "source": [
    "for i, var in enumerate(Y):\n",
    "    classification_reports[var] = (classification_report(y_test.iloc[:,i], y_pred_tree.iloc[:,i]));"
   ]
  },
  {
   "cell_type": "code",
   "execution_count": 24,
   "id": "eeedc488",
   "metadata": {},
   "outputs": [],
   "source": [
    "tree_report = df_from_sklearn_cl_reports(classification_reports)"
   ]
  },
  {
   "cell_type": "code",
   "execution_count": 42,
   "id": "2494d325",
   "metadata": {},
   "outputs": [
    {
     "data": {
      "text/plain": [
       "communicate\n",
       "medical_help              0.47\n",
       "military                  0.46\n",
       "direct_report             0.45\n",
       "buildings                 0.39\n",
       "electricity               0.37\n",
       "other_aid                 0.33\n",
       "medical_products          0.32\n",
       "other_weather             0.30\n",
       "transport                 0.29\n",
       "money                     0.28\n",
       "cold                      0.27\n",
       "clothing                  0.22\n",
       "infrastructure_related    0.18\n",
       "other_infrastructure      0.16\n",
       "refugees                  0.14\n",
       "aid_centers               0.09\n",
       "fire                      0.09\n",
       "search_and_rescue         0.08\n",
       "hospitals                 0.08\n",
       "missing_people            0.07\n",
       "security                  0.02\n",
       "shops                     0.01\n",
       "offer                     0.01\n",
       "tools                     0.01\n",
       "Name: precisions, dtype: float64"
      ]
     },
     "execution_count": 42,
     "metadata": {},
     "output_type": "execute_result"
    }
   ],
   "source": [
    "decision_tree_precisions = tree_report.loc[tree_report.label == 1].groupby(\n",
    "    [\"communicate\"])[\"precisions\"].mean().sort_values(ascending = False)\n",
    "\n",
    "decision_tree_precisions.loc[decision_tree_precisions < 0.5]"
   ]
  },
  {
   "cell_type": "code",
   "execution_count": 43,
   "id": "e5b17e85",
   "metadata": {},
   "outputs": [
    {
     "data": {
      "text/plain": [
       "communicate\n",
       "security                  0.48\n",
       "search_and_rescue         0.46\n",
       "medical_help              0.44\n",
       "fire                      0.41\n",
       "aid_centers               0.40\n",
       "military                  0.37\n",
       "hospitals                 0.37\n",
       "other_weather             0.36\n",
       "transport                 0.36\n",
       "other_infrastructure      0.31\n",
       "offer                     0.29\n",
       "missing_people            0.28\n",
       "infrastructure_related    0.27\n",
       "shops                     0.14\n",
       "tools                     0.09\n",
       "Name: recalls, dtype: float64"
      ]
     },
     "execution_count": 43,
     "metadata": {},
     "output_type": "execute_result"
    }
   ],
   "source": [
    "decision_tree_recalls = tree_report.loc[tree_report.label == 1].groupby(\n",
    "    [\"communicate\"])[\"recalls\"].mean().sort_values(ascending = False)\n",
    "\n",
    "decision_tree_recalls.loc[decision_tree_recalls < 0.5]"
   ]
  },
  {
   "cell_type": "code",
   "execution_count": 63,
   "id": "9551f5e7",
   "metadata": {},
   "outputs": [],
   "source": [
    "series_of_categories = pd.Series(list(svc_precisions.loc[svc_precisions < 0.5].index) \\\n",
    "+ list(svc_recalls.loc[svc_recalls < 0.5].index) \\\n",
    "+ list(decision_tree_precisions.loc[decision_tree_precisions < 0.5].index) \\\n",
    "+ list(decision_tree_recalls.loc[decision_tree_recalls < 0.5].index))"
   ]
  },
  {
   "cell_type": "code",
   "execution_count": 69,
   "id": "c150ad7f",
   "metadata": {},
   "outputs": [],
   "source": [
    "list_of_categories = list(series_of_categories.drop_duplicates().values)"
   ]
  },
  {
   "cell_type": "markdown",
   "id": "e1cded74",
   "metadata": {},
   "source": [
    "\n",
    ">Undersampling still gives poor results - escpecially for recall which is very important in disaster response system. Undersampling may not necesserilly work good in multioutput problems, because of possible noise beeing added to the data set.\n",
    "Moreover, if we really want to balance all of the classes via undersampling we will end up with very small data set (some imbalanced classes are much less numerous than the better balanced ones). Hence the next iterration will be conducted with **´class weights´** adjustments and without any reduction of the data set size."
   ]
  },
  {
   "cell_type": "code",
   "execution_count": null,
   "id": "294ade91",
   "metadata": {},
   "outputs": [],
   "source": [
    "parameters = {\n",
    "    'clf__estimator__max_depth': [2,4,5,7,9,11]    \n",
    "}"
   ]
  },
  {
   "cell_type": "code",
   "execution_count": null,
   "id": "9e269fe6",
   "metadata": {},
   "outputs": [],
   "source": []
  },
  {
   "cell_type": "code",
   "execution_count": null,
   "id": "b128f77f",
   "metadata": {},
   "outputs": [],
   "source": [
    "Tree_opt = GridSearchCV(Tree, param_grid = parameters)"
   ]
  },
  {
   "cell_type": "code",
   "execution_count": null,
   "id": "945a00c0",
   "metadata": {},
   "outputs": [],
   "source": [
    "#Attention! This cell may take a bit time to perform (around 15 minutes on typical PC)\n",
    "Tree_opt.fit(X_train, y_train)"
   ]
  },
  {
   "cell_type": "code",
   "execution_count": null,
   "id": "005fb808",
   "metadata": {},
   "outputs": [],
   "source": [
    "y_pred_tree_opt = Tree_opt.predict(X_test)\n",
    "y_pred_tree_opt = pd.DataFrame(y_pred_tree_opt, columns = list(Y.columns))\n",
    "y_test = y_test.reset_index(drop = True)\n",
    "for i, var in enumerate(Y):\n",
    "    print(var)\n",
    "    print(classification_report(y_test.iloc[:,i], y_pred_tree_opt.iloc[:,i]))"
   ]
  },
  {
   "cell_type": "code",
   "execution_count": null,
   "id": "21a0d8cf",
   "metadata": {},
   "outputs": [],
   "source": [
    "classification_reports.clear()"
   ]
  },
  {
   "cell_type": "code",
   "execution_count": null,
   "id": "6d0d589e",
   "metadata": {},
   "outputs": [],
   "source": [
    "for i, var in enumerate(Y):\n",
    "    classification_reports[var] = (classification_report(y_test.iloc[:,i], y_pred_tree_opt.iloc[:,i]));"
   ]
  },
  {
   "cell_type": "code",
   "execution_count": null,
   "id": "d3b08111",
   "metadata": {},
   "outputs": [],
   "source": [
    "tree_opt_df_report = df_from_sklearn_cl_reports(classification_reports)"
   ]
  },
  {
   "cell_type": "code",
   "execution_count": null,
   "id": "bfb22ce0",
   "metadata": {},
   "outputs": [],
   "source": [
    "tree_opt_df_report.loc[\n",
    "    tree_opt_df_report.label == 1].groupby(\n",
    "    [\"communicate\"])[\"precisions\"].mean().sort_values(ascending = False).mean()"
   ]
  },
  {
   "cell_type": "code",
   "execution_count": null,
   "id": "19df96b3",
   "metadata": {},
   "outputs": [],
   "source": [
    "tree_opt_df_report.loc[\n",
    "    tree_opt_df_report.label == 1].groupby(\n",
    "    [\"communicate\"])[\"recalls\"].mean().sort_values(ascending = False).mean()"
   ]
  },
  {
   "cell_type": "markdown",
   "id": "533df331",
   "metadata": {},
   "source": [
    "### Linear SVC"
   ]
  },
  {
   "cell_type": "code",
   "execution_count": null,
   "id": "1d02f072",
   "metadata": {},
   "outputs": [],
   "source": []
  }
 ],
 "metadata": {
  "kernelspec": {
   "display_name": "Python 3 (ipykernel)",
   "language": "python",
   "name": "python3"
  },
  "language_info": {
   "codemirror_mode": {
    "name": "ipython",
    "version": 3
   },
   "file_extension": ".py",
   "mimetype": "text/x-python",
   "name": "python",
   "nbconvert_exporter": "python",
   "pygments_lexer": "ipython3",
   "version": "3.9.7"
  }
 },
 "nbformat": 4,
 "nbformat_minor": 5
}
